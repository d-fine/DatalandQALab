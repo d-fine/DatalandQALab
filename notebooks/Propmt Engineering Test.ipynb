{
 "cells": [
  {
   "cell_type": "code",
   "execution_count": 1,
   "metadata": {},
   "outputs": [
    {
     "name": "stdout",
     "output_type": "stream",
     "text": [
      "{\"1\": \"No\", \"2\": \"No\", \"3\": \"No\", \"4\": \"No\", \"5\": \"Yes\", \"6\": \"No\"}\n",
      "Meldebogen 1\n",
      "row1: ['No']\n",
      "row2: ['No']\n",
      "row3: ['No']\n",
      "row4: ['No']\n",
      "row5: ['Yes']\n",
      "row6: ['No']\n",
      "\n"
     ]
    },
    {
     "ename": "KeyboardInterrupt",
     "evalue": "",
     "output_type": "error",
     "traceback": [
      "\u001b[0;31m---------------------------------------------------------------------------\u001b[0m",
      "\u001b[0;31mKeyboardInterrupt\u001b[0m                         Traceback (most recent call last)",
      "Cell \u001b[0;32mIn[1], line 27\u001b[0m\n\u001b[1;32m     24\u001b[0m     \u001b[38;5;28mprint\u001b[39m(\u001b[38;5;124m\"\u001b[39m\u001b[38;5;124m\"\u001b[39m)  \u001b[38;5;66;03m# noqa: FURB105\u001b[39;00m\n\u001b[1;32m     25\u001b[0m \u001b[38;5;28;01mif\u001b[39;00m page[\u001b[38;5;241m1\u001b[39m] \u001b[38;5;129;01mis\u001b[39;00m \u001b[38;5;129;01mnot\u001b[39;00m \u001b[38;5;28;01mNone\u001b[39;00m:\n\u001b[1;32m     26\u001b[0m     template2 \u001b[38;5;241m=\u001b[39m te\u001b[38;5;241m.\u001b[39mextract_template(\n\u001b[0;32m---> 27\u001b[0m         prompt\u001b[38;5;241m.\u001b[39mgenerate_prompt_for_template2(\u001b[43mdata_extraction\u001b[49m\u001b[38;5;241;43m.\u001b[39;49m\u001b[43mectract_page\u001b[49m\u001b[43m(\u001b[49m\u001b[43mpage\u001b[49m\u001b[43m[\u001b[49m\u001b[38;5;241;43m1\u001b[39;49m\u001b[43m]\u001b[49m\u001b[43m,\u001b[49m\u001b[43m \u001b[49m\u001b[43mpdf\u001b[49m\u001b[43m)\u001b[49m),\n\u001b[1;32m     28\u001b[0m         ps\u001b[38;5;241m.\u001b[39mgenerate_schema_for_rows(rows_8),\n\u001b[1;32m     29\u001b[0m     )\n\u001b[1;32m     30\u001b[0m     \u001b[38;5;28mprint\u001b[39m(\u001b[38;5;124m\"\u001b[39m\u001b[38;5;124mMeldebogen 2\u001b[39m\u001b[38;5;124m\"\u001b[39m)\n\u001b[1;32m     31\u001b[0m     \u001b[38;5;28;01mfor\u001b[39;00m i \u001b[38;5;129;01min\u001b[39;00m \u001b[38;5;28mrange\u001b[39m(\u001b[38;5;28mlen\u001b[39m(template2)):\n",
      "File \u001b[0;32m~/DatalandQALab/src/dataland_qa_lab/dataland/data_extraction.py:100\u001b[0m, in \u001b[0;36mectract_page\u001b[0;34m(page_tmp, pdf_tmp)\u001b[0m\n\u001b[1;32m     98\u001b[0m reader \u001b[38;5;241m=\u001b[39m pypdf\u001b[38;5;241m.\u001b[39mPdfReader(path)\n\u001b[1;32m     99\u001b[0m pdf_bytes \u001b[38;5;241m=\u001b[39m get_relevant_page_of_pdf(page\u001b[38;5;241m=\u001b[39mpage, full_pdf\u001b[38;5;241m=\u001b[39mreader)\n\u001b[0;32m--> 100\u001b[0m analyze_result \u001b[38;5;241m=\u001b[39m \u001b[43mextract_text_of_pdf\u001b[49m\u001b[43m(\u001b[49m\u001b[43mpdf_bytes\u001b[49m\u001b[43m)\u001b[49m\n\u001b[1;32m    101\u001b[0m \u001b[38;5;28;01mreturn\u001b[39;00m analyze_result\n",
      "File \u001b[0;32m~/DatalandQALab/src/dataland_qa_lab/dataland/data_extraction.py:41\u001b[0m, in \u001b[0;36mextract_text_of_pdf\u001b[0;34m(pdf)\u001b[0m\n\u001b[1;32m     31\u001b[0m document_intelligence_client \u001b[38;5;241m=\u001b[39m DocumentIntelligenceClient(\n\u001b[1;32m     32\u001b[0m     endpoint\u001b[38;5;241m=\u001b[39mconf\u001b[38;5;241m.\u001b[39mazure_docintel_endpoint, credential\u001b[38;5;241m=\u001b[39mdocintel_cred\n\u001b[1;32m     33\u001b[0m )\n\u001b[1;32m     35\u001b[0m poller \u001b[38;5;241m=\u001b[39m document_intelligence_client\u001b[38;5;241m.\u001b[39mbegin_analyze_document(\n\u001b[1;32m     36\u001b[0m     \u001b[38;5;124m\"\u001b[39m\u001b[38;5;124mprebuilt-layout\u001b[39m\u001b[38;5;124m\"\u001b[39m,\n\u001b[1;32m     37\u001b[0m     analyze_request\u001b[38;5;241m=\u001b[39mpdf,\n\u001b[1;32m     38\u001b[0m     content_type\u001b[38;5;241m=\u001b[39m\u001b[38;5;124m\"\u001b[39m\u001b[38;5;124mapplication/octet-stream\u001b[39m\u001b[38;5;124m\"\u001b[39m,\n\u001b[1;32m     39\u001b[0m     output_content_format\u001b[38;5;241m=\u001b[39mContentFormat\u001b[38;5;241m.\u001b[39mMARKDOWN,\n\u001b[1;32m     40\u001b[0m )\n\u001b[0;32m---> 41\u001b[0m \u001b[38;5;28;01mreturn\u001b[39;00m \u001b[43mpoller\u001b[49m\u001b[38;5;241;43m.\u001b[39;49m\u001b[43mresult\u001b[49m\u001b[43m(\u001b[49m\u001b[43m)\u001b[49m\n",
      "File \u001b[0;32m~/DatalandQALab/.venv/lib/python3.13/site-packages/azure/core/polling/_poller.py:251\u001b[0m, in \u001b[0;36mLROPoller.result\u001b[0;34m(self, timeout)\u001b[0m\n\u001b[1;32m    242\u001b[0m \u001b[38;5;28;01mdef\u001b[39;00m \u001b[38;5;21mresult\u001b[39m(\u001b[38;5;28mself\u001b[39m, timeout: Optional[\u001b[38;5;28mfloat\u001b[39m] \u001b[38;5;241m=\u001b[39m \u001b[38;5;28;01mNone\u001b[39;00m) \u001b[38;5;241m-\u001b[39m\u001b[38;5;241m>\u001b[39m PollingReturnType_co:\n\u001b[1;32m    243\u001b[0m \u001b[38;5;250m    \u001b[39m\u001b[38;5;124;03m\"\"\"Return the result of the long running operation, or\u001b[39;00m\n\u001b[1;32m    244\u001b[0m \u001b[38;5;124;03m    the result available after the specified timeout.\u001b[39;00m\n\u001b[1;32m    245\u001b[0m \n\u001b[0;32m   (...)\u001b[0m\n\u001b[1;32m    249\u001b[0m \u001b[38;5;124;03m    :raises ~azure.core.exceptions.HttpResponseError: Server problem with the query.\u001b[39;00m\n\u001b[1;32m    250\u001b[0m \u001b[38;5;124;03m    \"\"\"\u001b[39;00m\n\u001b[0;32m--> 251\u001b[0m     \u001b[38;5;28;43mself\u001b[39;49m\u001b[38;5;241;43m.\u001b[39;49m\u001b[43mwait\u001b[49m\u001b[43m(\u001b[49m\u001b[43mtimeout\u001b[49m\u001b[43m)\u001b[49m\n\u001b[1;32m    252\u001b[0m     \u001b[38;5;28;01mreturn\u001b[39;00m \u001b[38;5;28mself\u001b[39m\u001b[38;5;241m.\u001b[39m_polling_method\u001b[38;5;241m.\u001b[39mresource()\n",
      "File \u001b[0;32m~/DatalandQALab/.venv/lib/python3.13/site-packages/azure/core/tracing/decorator.py:94\u001b[0m, in \u001b[0;36mdistributed_trace.<locals>.decorator.<locals>.wrapper_use_tracer\u001b[0;34m(*args, **kwargs)\u001b[0m\n\u001b[1;32m     92\u001b[0m span_impl_type \u001b[38;5;241m=\u001b[39m settings\u001b[38;5;241m.\u001b[39mtracing_implementation()\n\u001b[1;32m     93\u001b[0m \u001b[38;5;28;01mif\u001b[39;00m span_impl_type \u001b[38;5;129;01mis\u001b[39;00m \u001b[38;5;28;01mNone\u001b[39;00m:\n\u001b[0;32m---> 94\u001b[0m     \u001b[38;5;28;01mreturn\u001b[39;00m \u001b[43mfunc\u001b[49m\u001b[43m(\u001b[49m\u001b[38;5;241;43m*\u001b[39;49m\u001b[43margs\u001b[49m\u001b[43m,\u001b[49m\u001b[43m \u001b[49m\u001b[38;5;241;43m*\u001b[39;49m\u001b[38;5;241;43m*\u001b[39;49m\u001b[43mkwargs\u001b[49m\u001b[43m)\u001b[49m\n\u001b[1;32m     96\u001b[0m \u001b[38;5;66;03m# Merge span is parameter is set, but only if no explicit parent are passed\u001b[39;00m\n\u001b[1;32m     97\u001b[0m \u001b[38;5;28;01mif\u001b[39;00m merge_span \u001b[38;5;129;01mand\u001b[39;00m \u001b[38;5;129;01mnot\u001b[39;00m passed_in_parent:\n",
      "File \u001b[0;32m~/DatalandQALab/.venv/lib/python3.13/site-packages/azure/core/polling/_poller.py:266\u001b[0m, in \u001b[0;36mLROPoller.wait\u001b[0;34m(self, timeout)\u001b[0m\n\u001b[1;32m    264\u001b[0m \u001b[38;5;28;01mif\u001b[39;00m \u001b[38;5;28mself\u001b[39m\u001b[38;5;241m.\u001b[39m_thread \u001b[38;5;129;01mis\u001b[39;00m \u001b[38;5;28;01mNone\u001b[39;00m:\n\u001b[1;32m    265\u001b[0m     \u001b[38;5;28;01mreturn\u001b[39;00m\n\u001b[0;32m--> 266\u001b[0m \u001b[38;5;28;43mself\u001b[39;49m\u001b[38;5;241;43m.\u001b[39;49m\u001b[43m_thread\u001b[49m\u001b[38;5;241;43m.\u001b[39;49m\u001b[43mjoin\u001b[49m\u001b[43m(\u001b[49m\u001b[43mtimeout\u001b[49m\u001b[38;5;241;43m=\u001b[39;49m\u001b[43mtimeout\u001b[49m\u001b[43m)\u001b[49m\n\u001b[1;32m    267\u001b[0m \u001b[38;5;28;01mtry\u001b[39;00m:\n\u001b[1;32m    268\u001b[0m     \u001b[38;5;66;03m# Let's handle possible None in forgiveness here\u001b[39;00m\n\u001b[1;32m    269\u001b[0m     \u001b[38;5;66;03m# https://github.com/python/mypy/issues/8165\u001b[39;00m\n\u001b[1;32m    270\u001b[0m     \u001b[38;5;28;01mraise\u001b[39;00m \u001b[38;5;28mself\u001b[39m\u001b[38;5;241m.\u001b[39m_exception  \u001b[38;5;66;03m# type: ignore\u001b[39;00m\n",
      "File \u001b[0;32m/opt/homebrew/Cellar/python@3.13/3.13.0_1/Frameworks/Python.framework/Versions/3.13/lib/python3.13/threading.py:1092\u001b[0m, in \u001b[0;36mThread.join\u001b[0;34m(self, timeout)\u001b[0m\n\u001b[1;32m   1089\u001b[0m \u001b[38;5;28;01mif\u001b[39;00m timeout \u001b[38;5;129;01mis\u001b[39;00m \u001b[38;5;129;01mnot\u001b[39;00m \u001b[38;5;28;01mNone\u001b[39;00m:\n\u001b[1;32m   1090\u001b[0m     timeout \u001b[38;5;241m=\u001b[39m \u001b[38;5;28mmax\u001b[39m(timeout, \u001b[38;5;241m0\u001b[39m)\n\u001b[0;32m-> 1092\u001b[0m \u001b[38;5;28;43mself\u001b[39;49m\u001b[38;5;241;43m.\u001b[39;49m\u001b[43m_handle\u001b[49m\u001b[38;5;241;43m.\u001b[39;49m\u001b[43mjoin\u001b[49m\u001b[43m(\u001b[49m\u001b[43mtimeout\u001b[49m\u001b[43m)\u001b[49m\n",
      "\u001b[0;31mKeyboardInterrupt\u001b[0m: "
     ]
    }
   ],
   "source": [
    "from dataland_qa_lab.dataland import company_data, data_extraction, prompt_schema, prompts, template_extractor\n",
    "\n",
    "ps = prompt_schema.PromptSchema()\n",
    "te = template_extractor.TemplateExtractor()\n",
    "prompt = prompts.Prompts()\n",
    "data = company_data.CompanyData()\n",
    "\n",
    "rows_6 = [1, 2, 3, 4, 5, 6]\n",
    "rows_8 = [1, 2, 3, 4, 5, 6, 7, 8]\n",
    "\n",
    "pdf_tmp = data.get_company_pdf()\n",
    "page_tmp = data.get_company_pages()\n",
    "pdf = pdf_tmp[1]\n",
    "page = page_tmp[1]\n",
    "\n",
    "if page[0] is not None:\n",
    "    template1 = te.extract_template(\n",
    "        prompt.generate_prompt_for_template1(data_extraction.ectract_page(page[0], pdf)),\n",
    "        ps.generate_schema_for_template1(),\n",
    "    )\n",
    "    print(\"Meldebogen 1\")\n",
    "    for i in range(len(template1)):\n",
    "        print(template1[i])\n",
    "    print(\"\")  # noqa: FURB105\n",
    "if page[1] is not None:\n",
    "    template2 = te.extract_template(\n",
    "        prompt.generate_prompt_for_template2(data_extraction.ectract_page(page[1], pdf)),\n",
    "        ps.generate_schema_for_rows(rows_8),\n",
    "    )\n",
    "    print(\"Meldebogen 2\")\n",
    "    for i in range(len(template2)):\n",
    "        print(template2[i])\n",
    "    print(\"\")  # noqa: FURB105\n",
    "if page[2] is not None:\n",
    "    template3 = te.extract_template(\n",
    "        prompt.generate_prompt_for_template3(data_extraction.ectract_page(page[2], pdf)),\n",
    "        ps.generate_schema_for_rows(rows_8),\n",
    "    )\n",
    "    print(\"Meldebogen 3\")\n",
    "    for i in range(len(template3)):\n",
    "        print(template3[i])\n",
    "    print(\"\")  # noqa: FURB105\n",
    "if page[3] is not None:\n",
    "    template4 = te.extract_template(\n",
    "        prompt.generate_prompt_for_template4(data_extraction.ectract_page(page[3], pdf)),\n",
    "        ps.generate_schema_for_rows(rows_8),\n",
    "    )\n",
    "    print(\"Meldebogen 4\")\n",
    "    for i in range(len(template4)):\n",
    "        print(template4[i])\n",
    "    print(\"\")  # noqa: FURB105\n",
    "if page[4] is not None:\n",
    "    template5 = te.extract_template(\n",
    "        prompt.generate_prompt_for_template5(data_extraction.ectract_page(page[4], pdf)),\n",
    "        ps.generate_schema_tmeplate5(rows_8),\n",
    "    )\n",
    "    print(\"Meldebogen 5\")\n",
    "    for i in range(len(template5)):\n",
    "        print(template5[i])"
   ]
  }
 ],
 "metadata": {
  "kernelspec": {
   "display_name": ".venv",
   "language": "python",
   "name": "python3"
  },
  "language_info": {
   "codemirror_mode": {
    "name": "ipython",
    "version": 3
   },
   "file_extension": ".py",
   "mimetype": "text/x-python",
   "name": "python",
   "nbconvert_exporter": "python",
   "pygments_lexer": "ipython3",
   "version": "3.13.0"
  }
 },
 "nbformat": 4,
 "nbformat_minor": 2
}
