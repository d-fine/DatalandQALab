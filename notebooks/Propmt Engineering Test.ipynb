{
 "cells": [
  {
   "cell_type": "code",
   "execution_count": null,
   "metadata": {},
   "outputs": [],
   "source": [
    "from dataland_qa_lab.dataland import company_data, data_extraction, prompt_schema, prompts, template_extractor\n",
    "\n",
    "ps = prompt_schema.PromptSchema()\n",
    "te = template_extractor.TemplateExtractor()\n",
    "prompt = prompts.Prompts()\n",
    "data = company_data.CompanyData()\n",
    "\n",
    "pdf_tmp = data.get_company_pdf()\n",
    "page_tmp = data.get_company_pages()\n",
    "pdf = pdf_tmp[0]\n",
    "page = page_tmp[0]\n",
    "\n",
    "if page[0] is not None:\n",
    "    template1 = te.extract_template(\n",
    "        prompt.generate_prompt_for_template1(data_extraction.ectract_page(page[0], pdf)),\n",
    "        ps.generate_schema_for_template1(),\n",
    "    )\n",
    "    print(\"Meldebogen 1\")\n",
    "    for i in range(len(template1)):\n",
    "        print(template1[i])\n",
    "    print(\"\")  # noqa: FURB105\n",
    "if page[1] is not None:\n",
    "    template2 = te.extract_template(\n",
    "        prompt.generate_prompt_for_template2(data_extraction.ectract_page(page[1], pdf)),\n",
    "        ps.generate_schema_for_rows(),\n",
    "    )\n",
    "    print(\"Meldebogen 2\")\n",
    "    for i in range(len(template2)):\n",
    "        print(template2[i])\n",
    "    print(\"\")  # noqa: FURB105\n",
    "if page[2] is not None:\n",
    "    template3 = te.extract_template(\n",
    "        prompt.generate_prompt_for_template3(data_extraction.ectract_page(page[2], pdf)),\n",
    "        ps.generate_schema_for_rows(),\n",
    "    )\n",
    "    print(\"Meldebogen 3\")\n",
    "    for i in range(len(template3)):\n",
    "        print(template3[i])\n",
    "    print(\"\")  # noqa: FURB105\n",
    "if page[3] is not None:\n",
    "    template4 = te.extract_template(\n",
    "        prompt.generate_prompt_for_template4(data_extraction.ectract_page(page[3], pdf)),\n",
    "        ps.generate_schema_for_rows(),\n",
    "    )\n",
    "    print(\"Meldebogen 4\")\n",
    "    for i in range(len(template4)):\n",
    "        print(template4[i])\n",
    "    print(\"\")  # noqa: FURB105\n",
    "if page[4] is not None:\n",
    "    template5 = te.extract_template(\n",
    "        prompt.generate_prompt_for_template5(data_extraction.ectract_page(page[4], pdf)),\n",
    "        ps.generate_schema_tmeplate5(),\n",
    "    )\n",
    "    print(\"Meldebogen 5\")\n",
    "    for i in range(len(template5)):\n",
    "        print(template5[i])"
   ]
  },
  {
   "cell_type": "code",
   "execution_count": 1,
   "metadata": {},
   "outputs": [
    {
     "name": "stdout",
     "output_type": "stream",
     "text": [
      "['No', 'No', 'No', 'Yes', 'Yes', 'Yes']\n",
      "['0', '0', '0', '0', '0', '0', '0', '0', '0', '0', '0', '0', '0', '0', '0', '0', '0', '0', '0.04', '0.03', '0', '0.04', '0.03', '0']\n",
      "['0', '0', '0', '0', '0', '0', '0', '0', '0', '0', '0', '0', '0', '0', '0', '0', '0', '0', '100.0', '84.84', '0', '100.0', '84.84', '0']\n",
      "['0', '0', '0', '0', '0', '0', '0', '0', '0', '0', '0', '0', '0', '0', '0', '0', '0', '0', '0.26', '0.20', '0', '0.26', '0.20', '0']\n",
      "['0', '0', '0', '0', '0', '0', '0', '0.65']\n"
     ]
    }
   ],
   "source": [
    "from dataland_qa_lab.dataland import numeric_value_generator, yes_no_value_generator\n",
    "\n",
    "print(yes_no_value_generator.YesNoValueGenerator.get_correct_values_from_report())\n",
    "print(numeric_value_generator.NumericValueGenerator.get_taxonomy_alligned_denominator())\n",
    "print(numeric_value_generator.NumericValueGenerator.get_taxonomy_alligned_numerator())\n",
    "print(numeric_value_generator.NumericValueGenerator.get_taxonomy_eligible_not_alligned())\n",
    "print(numeric_value_generator.NumericValueGenerator.get_taxonomy_non_eligible())"
   ]
  }
 ],
 "metadata": {
  "kernelspec": {
   "display_name": ".venv",
   "language": "python",
   "name": "python3"
  },
  "language_info": {
   "codemirror_mode": {
    "name": "ipython",
    "version": 3
   },
   "file_extension": ".py",
   "mimetype": "text/x-python",
   "name": "python",
   "nbconvert_exporter": "python",
   "pygments_lexer": "ipython3",
   "version": "3.13.0"
  }
 },
 "nbformat": 4,
 "nbformat_minor": 2
}
