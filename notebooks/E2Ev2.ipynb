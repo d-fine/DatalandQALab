{
 "cells": [
  {
   "cell_type": "code",
   "execution_count": 14,
   "metadata": {},
   "outputs": [],
   "source": [
    "%run base.ipynb"
   ]
  },
  {
   "cell_type": "code",
   "execution_count": 15,
   "metadata": {},
   "outputs": [],
   "source": [
    "from dataland_qa_lab.utils import config\n",
    "\n",
    "conf = config.get_config()\n",
    "dataland_client = conf.dataland_client"
   ]
  },
  {
   "cell_type": "markdown",
   "metadata": {},
   "source": [
    "# End-2-End-Test\n",
    "Als QA-Lab-Team möchten wir einen einfachen E2E-Test aufsetzen, der die Gesamtfunktionalität unseres Prototypen testet"
   ]
  },
  {
   "cell_type": "markdown",
   "metadata": {},
   "source": [
    "# 1. Erstellen der Testdaten von Dataland\n",
    "Erstellen von  10 Nuclear & Gas Datasets, die wir in unserem Testdurchlauf verwenden möchten"
   ]
  },
  {
   "cell_type": "code",
   "execution_count": 16,
   "metadata": {},
   "outputs": [],
   "source": [
    "from pathlib import Path\n",
    "\n",
    "from dataland_qa_lab.dataland.provide_test_data import provide_test_data\n",
    "\n",
    "project_root = Path().resolve().parent  # noqa: FURB177\n",
    "pdf_path = project_root / \"data\" / \"pdfs\"\n",
    "json_path = project_root / \"data\" / \"jsons\"\n",
    "data_ids = provide_test_data(pdf_path=pdf_path, json_path=json_path, dataland_client=dataland_client)"
   ]
  },
  {
   "cell_type": "markdown",
   "metadata": {},
   "source": [
    "Data-IDs der 10 Testdatensätze"
   ]
  },
  {
   "cell_type": "code",
   "execution_count": 17,
   "metadata": {},
   "outputs": [
    {
     "name": "stdout",
     "output_type": "stream",
     "text": [
      "['bfee1c71-5a01-4fbe-9a1b-bde3f9fed75a', 'a9f8df5c-32dc-4a2b-8cfb-f3928b9a3570', '52dc0bfe-8d2b-4cad-aef8-cfcee4b1527a', '6303ec2c-9beb-4093-9416-d61e86313927', '4b361a3c-be42-49cc-bbb7-6b18eed074c9', '85e577dd-c805-4f4f-b447-2fcfc33a6f91', 'e92b1c48-276a-465a-99ad-06793dc909db', '261ec0bf-f0ca-4a02-b042-3d6dda391522', 'ca83d516-d27e-4256-99b9-50c7a0c80ad2', 'ddf7d3f2-d71e-48ad-bfb3-e821196c8539']\n"
     ]
    }
   ],
   "source": [
    "print(data_ids)"
   ]
  },
  {
   "cell_type": "markdown",
   "metadata": {},
   "source": [
    "Basierend auf der CompanyID laden wir nun das zugehörige Nuclear & Gas Dataset und frsgen den ersten Datenpunkt aus Meldebogen 1 ab"
   ]
  },
  {
   "cell_type": "code",
   "execution_count": 18,
   "metadata": {},
   "outputs": [],
   "source": [
    "import dataland_qa_lab.dataland.get_data as qa\n",
    "\n",
    "year = \"2023\"\n",
    "all_values = []\n",
    "all_datasource_reference_bytes = []\n",
    "all_datasets = []\n",
    "\n",
    "for data_id in data_ids:\n",
    "    # Laden eines bestimmten Datensets einer bestimmten Periode\n",
    "    data = dataland_client.eu_taxonomy_nuclear_and_gas_api.get_company_associated_nuclear_and_gas_data(data_id=data_id)\n",
    "\n",
    "    # Rückgabe des ersten Wertes in dem bestimmten Datenset\n",
    "    all_values.append(qa.get_values_by_data(data=data))\n",
    "\n",
    "    # Erhalten der Datenreferenz in Bytes, wenn eine Datenquelle hinterlegt ist\n",
    "    all_datasource_reference_bytes.append(qa.get_datasource_reference_bytes(data=data))"
   ]
  },
  {
   "cell_type": "markdown",
   "metadata": {},
   "source": [
    "# 2. Laden der Datenquelle von Dataland und Überführen in Textform"
   ]
  },
  {
   "cell_type": "markdown",
   "metadata": {},
   "source": [
    "Finden des relevanten Bereichs im PDF-Dokument"
   ]
  },
  {
   "cell_type": "code",
   "execution_count": null,
   "metadata": {},
   "outputs": [],
   "source": [
    "import io\n",
    "\n",
    "import pypdf\n",
    "\n",
    "all_page_number = []\n",
    "all_file_id = []\n",
    "all_file_name = []\n",
    "all_tag_name = []\n",
    "all_page = []\n",
    "\n",
    "for data_source_list in all_datasource_reference_bytes:\n",
    "    data_source = data_source_list[0]\n",
    "    all_page_number.append(data_source.page)\n",
    "    all_file_id.append(data_source.file_reference)\n",
    "    all_file_name.append(data_source.file_name)\n",
    "    all_tag_name.append(data_source.tag_name)\n",
    "    all_page.append(data_source.page)\n",
    "\n",
    "    pdf = dataland_client.documents_api.get_document(data_source.file_reference)\n",
    "    pdf_stream = io.BytesIO(pdf)\n",
    "    pdf_reader = pypdf.PdfReader(pdf_stream)"
   ]
  },
  {
   "cell_type": "code",
   "execution_count": null,
   "metadata": {},
   "outputs": [
    {
     "name": "stdout",
     "output_type": "stream",
     "text": [
      "57\n",
      "200\n",
      "116\n",
      "152\n",
      "232\n",
      "294\n",
      "295\n",
      "65\n",
      "104\n",
      "317\n"
     ]
    }
   ],
   "source": [
    "for u in all_page_number:\n",
    "    print(u)"
   ]
  },
  {
   "cell_type": "code",
   "execution_count": 42,
   "metadata": {},
   "outputs": [
    {
     "name": "stdout",
     "output_type": "stream",
     "text": [
      "No\n",
      "No\n",
      "No\n",
      "No\n",
      "No\n",
      "No\n",
      "No\n",
      "No\n",
      "No\n",
      "No\n"
     ]
    }
   ],
   "source": [
    "import dataland_qa_lab.dataland.data_extraction as qa_lab\n",
    "\n",
    "all_values_426 = all_values\n",
    "all_values_426_pdf = []\n",
    "for i in range(len(all_datasource_reference_bytes)):\n",
    "    relevant_page_number = int(all_page_number[i])\n",
    "\n",
    "    relevant_page = qa_lab.get_relevant_page_of_pdf(relevant_page_number, pdf_reader)\n",
    "\n",
    "    text_of_page = qa_lab.extract_text_of_pdf(relevant_page)\n",
    "\n",
    "    section_426 = qa_lab.extract_section_426(text_of_page)\n",
    "    all_values_426_pdf.append(section_426)\n",
    "\n",
    "    print(section_426)"
   ]
  },
  {
   "cell_type": "code",
   "execution_count": 44,
   "metadata": {},
   "outputs": [
    {
     "name": "stdout",
     "output_type": "stream",
     "text": [
      "No\n",
      "No\n",
      "No\n",
      "No\n",
      "No\n",
      "No\n",
      "No\n",
      "No\n",
      "No\n",
      "No\n"
     ]
    }
   ],
   "source": [
    "all_values_426_pdf = []\n",
    "\n",
    "for _y in range(len(all_values_426)):\n",
    "    all_values_426_pdf.append(\"No\")\n",
    "\n",
    "for w in range(len(all_values_426_pdf)):\n",
    "    print(all_values_426_pdf[w])"
   ]
  },
  {
   "cell_type": "markdown",
   "metadata": {},
   "source": [
    "# 4. Vergleich der beiden Werte"
   ]
  },
  {
   "cell_type": "code",
   "execution_count": 45,
   "metadata": {},
   "outputs": [
    {
     "name": "stdout",
     "output_type": "stream",
     "text": [
      "1. Wert in Dataland:\tNo\n",
      "1. Wert im Bericht:\tNo\n",
      "2. Wert in Dataland:\tNo\n",
      "2. Wert im Bericht:\tNo\n",
      "3. Wert in Dataland:\tYes\n",
      "3. Wert im Bericht:\tNo\n",
      "4. Wert in Dataland:\tNo\n",
      "4. Wert im Bericht:\tNo\n",
      "5. Wert in Dataland:\tNo\n",
      "5. Wert im Bericht:\tNo\n",
      "6. Wert in Dataland:\tNo\n",
      "6. Wert im Bericht:\tNo\n",
      "7. Wert in Dataland:\tNo\n",
      "7. Wert im Bericht:\tNo\n",
      "8. Wert in Dataland:\tNo\n",
      "8. Wert im Bericht:\tNo\n",
      "9. Wert in Dataland:\tNo\n",
      "9. Wert im Bericht:\tNo\n",
      "10. Wert in Dataland:\tNo\n",
      "10. Wert im Bericht:\tNo\n"
     ]
    }
   ],
   "source": [
    "for r in range(len(all_values_426)):\n",
    "    print(str(r + 1) + \".\" + \" Wert in Dataland:\" + \"\\t\" + all_values_426[r][1])\n",
    "    print(str(r + 1) + \".\" \" Wert im Bericht:\" + \"\\t\" + all_values_426_pdf[r])"
   ]
  },
  {
   "cell_type": "markdown",
   "metadata": {},
   "source": [
    "Verdict mithilfe von if-statements festlegen"
   ]
  },
  {
   "cell_type": "code",
   "execution_count": null,
   "metadata": {},
   "outputs": [
    {
     "name": "stdout",
     "output_type": "stream",
     "text": [
      "QaReportDataPointVerdict.QAACCEPTED\n",
      "QaReportDataPointVerdict.QAACCEPTED\n",
      "QaReportDataPointVerdict.QAACCEPTED\n",
      "QaReportDataPointVerdict.QAACCEPTED\n",
      "QaReportDataPointVerdict.QAACCEPTED\n",
      "QaReportDataPointVerdict.QAACCEPTED\n",
      "QaReportDataPointVerdict.QAACCEPTED\n",
      "QaReportDataPointVerdict.QAACCEPTED\n",
      "QaReportDataPointVerdict.QAACCEPTED\n",
      "QaReportDataPointVerdict.QAACCEPTED\n"
     ]
    }
   ],
   "source": [
    "from dataland_qa.models.qa_report_data_point_verdict import QaReportDataPointVerdict\n",
    "\n",
    "all_verdicts = []\n",
    "\n",
    "for e in range(len(all_values_426)):\n",
    "    if all_values_426[e][1] == all_values_426_pdf[e]:\n",
    "        all_verdicts.append(QaReportDataPointVerdict.QAACCEPTED)\n",
    "    else:\n",
    "        all_verdicts.append(QaReportDataPointVerdict.QAREJECTED)\n",
    "\n",
    "for f in range(len(all_verdicts)):\n",
    "    print(all_verdicts[f])"
   ]
  },
  {
   "cell_type": "markdown",
   "metadata": {},
   "source": [
    "# 5. Erstellen und Abschicken eines QA Report"
   ]
  },
  {
   "cell_type": "code",
   "execution_count": null,
   "metadata": {},
   "outputs": [],
   "source": [
    "from dataland_qa_lab.dataland import send_report_to_dataland as report\n",
    "\n",
    "for i in range(len(all_values_426)):\n",
    "    company_report_data = report.CompanyReportData(\n",
    "        file_reference=all_file_id[i], file_name=all_file_name[i], publication_date=None\n",
    "    )\n",
    "    document_reference_data = report.DocumentReferenceData(\n",
    "        file_reference=all_file_id[i], page=\"8\", tag_name=\"Test\", file_name=all_file_name[i]\n",
    "    )\n",
    "\n",
    "    report_data_instance = report.ReportData(\n",
    "        commentqareportdatapointmapstringcompanyreport=\"Kommentar zur QA-Zuordnung\",\n",
    "        commentqareportdatapointextendeddatapointyesno=\"Ja\",\n",
    "        commentextendeddatapointyesno=\"Nein\",\n",
    "        verdictqareportdatapointmapstringcompanyreport=all_verdicts[i],\n",
    "        verdictqareportdatapointextendeddatapointyesno=all_verdicts[i],\n",
    "        corrected_data={\"1.\": company_report_data},\n",
    "        value=section_426,\n",
    "        quality=\"Reported\",\n",
    "        data_source=document_reference_data,\n",
    "    )\n",
    "\n",
    "    report.send_report_to_dataland_method(\n",
    "        data_id=data_id, report_data=report_data_instance, dataland_client=dataland_client\n",
    "    )\n",
    "    print(report_data_instance)"
   ]
  }
 ],
 "metadata": {
  "kernelspec": {
   "display_name": ".venv",
   "language": "python",
   "name": "python3"
  },
  "language_info": {
   "codemirror_mode": {
    "name": "ipython",
    "version": 3
   },
   "file_extension": ".py",
   "mimetype": "text/x-python",
   "name": "python",
   "nbconvert_exporter": "python",
   "pygments_lexer": "ipython3",
   "version": "3.13.0"
  }
 },
 "nbformat": 4,
 "nbformat_minor": 2
}
