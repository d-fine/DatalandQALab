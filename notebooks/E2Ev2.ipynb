{
 "cells": [
  {
   "cell_type": "code",
   "execution_count": 55,
   "metadata": {},
   "outputs": [],
   "source": [
    "%run base.ipynb"
   ]
  },
  {
   "cell_type": "code",
   "execution_count": 56,
   "metadata": {},
   "outputs": [],
   "source": [
    "from dataland_qa_lab.utils import config\n",
    "\n",
    "conf = config.get_config()\n",
    "dataland_client = conf.dataland_client"
   ]
  },
  {
   "cell_type": "markdown",
   "metadata": {},
   "source": [
    "# End-2-End-Test\n",
    "Als QA-Lab-Team möchten wir einen einfachen E2E-Test aufsetzen, der die Gesamtfunktionalität unseres Prototypen testet"
   ]
  },
  {
   "cell_type": "markdown",
   "metadata": {},
   "source": [
    "# 1. Erstellen der Testdaten von Dataland\n",
    "Erstellen von  10 Nuclear & Gas Datasets, die wir in unserem Testdurchlauf verwenden möchten"
   ]
  },
  {
   "cell_type": "code",
   "execution_count": 57,
   "metadata": {},
   "outputs": [],
   "source": [
    "from pathlib import Path\n",
    "\n",
    "from dataland_qa_lab.dataland.provide_test_data import provide_test_data\n",
    "\n",
    "project_root = Path().resolve().parent  # noqa: FURB177\n",
    "pdf_path = project_root / \"data\" / \"pdfs\"\n",
    "json_path = project_root / \"data\" / \"jsons\"\n",
    "test_data = provide_test_data(pdf_path=pdf_path, json_path=json_path)"
   ]
  },
  {
   "cell_type": "markdown",
   "metadata": {},
   "source": [
    "Data-IDs der 10 Testdatensätze"
   ]
  },
  {
   "cell_type": "code",
   "execution_count": 58,
   "metadata": {},
   "outputs": [
    {
     "name": "stdout",
     "output_type": "stream",
     "text": [
      "['e7e65724-bff1-4de4-98df-d53023b3cd22', '1351a8af-95e2-477b-9faf-929979ed77fa', 'c0858eb7-febe-4c73-939d-ac9ffcfd3fd9', '00ff5cf4-77b3-439f-beec-2eaafac91102', 'dafbeec9-2b78-49ad-b7bf-52f5cdf6f90c', '40427de9-7234-43a2-8e50-9343f088b539', '3018f74f-0299-4024-9ff1-be8e0f226ba1', '692d1751-3d1b-447c-b68a-1e9b73aac6fa', 'd27bbed9-43c9-49f4-9ce0-9b63fc30848f', 'ce7e9e58-66a8-47fb-9831-6d2c2515888b']\n"
     ]
    }
   ],
   "source": [
    "print(test_data)"
   ]
  },
  {
   "cell_type": "markdown",
   "metadata": {},
   "source": [
    "Company-Ids der 10 Testdatensätze"
   ]
  },
  {
   "cell_type": "code",
   "execution_count": 59,
   "metadata": {},
   "outputs": [
    {
     "name": "stdout",
     "output_type": "stream",
     "text": [
      "7af5fe86-8a96-4459-9550-48c4426a8e58\n",
      "a5ab3478-f352-469a-a944-252595fc7fc5\n",
      "dfbbcff4-ba4d-46ee-ad53-4a4a91159a77\n",
      "36ea3185-d665-41b7-a14f-4f50fa61b6db\n",
      "3ef3eedd-59b1-46a5-aaa9-25d0d3363caf\n",
      "8863987f-df05-452f-8067-11f72e771345\n",
      "84b1b7dc-2c14-45b8-af25-0b271764416a\n",
      "7110b806-efe3-42b9-9607-f3b91d8aac18\n",
      "b6e5afb5-38cc-4cb2-a25d-f3acc6a3ce93\n",
      "73a68944-c272-416d-b199-cd4a30579c00\n"
     ]
    }
   ],
   "source": [
    "from dataland_qa_lab.dataland import provide_test_data\n",
    "\n",
    "companies = [\"concordia\", \"covestro\", \"deka\", \"enbw\", \"enel\", \"eon\", \"iberdrola\", \"munichre\", \"rwe\", \"total\"]\n",
    "\n",
    "company_ids = []\n",
    "\n",
    "for company in companies:\n",
    "    company_id = provide_test_data.get_company_id(company)\n",
    "    company_ids.append(company_id)\n",
    "    print(company_id)\n",
    "\n"
   ]
  },
  {
   "cell_type": "markdown",
   "metadata": {},
   "source": [
    "Basierend auf der CompanyID laden wir nun das zugehörige Nuclear & Gas Dataset und frsgen den ersten Datenpunkt aus Meldebogen 1 ab"
   ]
  },
  {
   "cell_type": "code",
   "execution_count": 60,
   "metadata": {},
   "outputs": [
    {
     "name": "stdout",
     "output_type": "stream",
     "text": [
      "Data_ID = e7e65724-bff1-4de4-98df-d53023b3cd22\n",
      "Value 1 = No\n",
      "Data_ID = 1351a8af-95e2-477b-9faf-929979ed77fa\n",
      "Value 1 = No\n",
      "Data_ID = c0858eb7-febe-4c73-939d-ac9ffcfd3fd9\n",
      "Value 1 = No\n",
      "Data_ID = 00ff5cf4-77b3-439f-beec-2eaafac91102\n",
      "Value 1 = No\n",
      "Data_ID = dafbeec9-2b78-49ad-b7bf-52f5cdf6f90c\n",
      "Value 1 = No\n",
      "Data_ID = 40427de9-7234-43a2-8e50-9343f088b539\n",
      "Value 1 = No\n",
      "Data_ID = 3018f74f-0299-4024-9ff1-be8e0f226ba1\n",
      "Value 1 = No\n",
      "Data_ID = 692d1751-3d1b-447c-b68a-1e9b73aac6fa\n",
      "Value 1 = No\n",
      "Data_ID = d27bbed9-43c9-49f4-9ce0-9b63fc30848f\n",
      "Value 1 = No\n",
      "Data_ID = ce7e9e58-66a8-47fb-9831-6d2c2515888b\n",
      "Value 1 = No\n"
     ]
    }
   ],
   "source": [
    "import dataland_qa_lab.dataland.get_data as qa\n",
    "\n",
    "year = \"2023\"\n",
    "all_values_426 = []\n",
    "all_datasource_reference_bytes = []\n",
    "all_datasets = []\n",
    "\n",
    "for i in company_ids:\n",
    "\n",
    "    # Laden aller Datasets aus jeder Periode\n",
    "    all_data = qa.get_all_company_datasets(company_id=i)\n",
    "\n",
    "    # Data_ID der gewünschten Periode des Datensets erhalten\n",
    "    data_id = qa.get_data_id_by_year(company_id=i, year=year)\n",
    "    print(\"Data_ID = \" + data_id)\n",
    "\n",
    "    # Laden eines bestimmten Datensets einer bestimmten Periode\n",
    "    all_datasets.append(qa.get_dataset_by_year(company_id=i, year=year))\n",
    "\n",
    "    # Rückgabe des ersten Wertes in dem bestimmten Datenset\n",
    "    all_values_426.append(qa.get_value1_by_year(company_id=i, year=year))\n",
    "    print(\"Value 1 = \" + qa.get_value1_by_year(company_id=i, year=year))\n",
    "\n",
    "    # Erhalten der Datenreferenz in Bytes, wenn eine Datenquelle hinterlegt ist\n",
    "    all_datasource_reference_bytes.append(qa.get_datasource_reference_bytes(company_id=i, year=year))"
   ]
  },
  {
   "cell_type": "code",
   "execution_count": null,
   "metadata": {},
   "outputs": [],
   "source": [
    "for o in all_datasets:\n",
    "    print(o)\n",
    "    print(\"\\n\")"
   ]
  },
  {
   "cell_type": "markdown",
   "metadata": {},
   "source": [
    "# 2. Laden der Datenquelle von Dataland und Überführen in Textform"
   ]
  },
  {
   "cell_type": "markdown",
   "metadata": {},
   "source": [
    "Finden des relevanten Bereichs im PDF-Dokument"
   ]
  },
  {
   "cell_type": "code",
   "execution_count": 61,
   "metadata": {},
   "outputs": [],
   "source": [
    "import io\n",
    "\n",
    "import pypdf  # type: ignore\n",
    "\n",
    "all_page_number = []\n",
    "all_file_id = []\n",
    "all_file_name = []\n",
    "all_tag_name = []\n",
    "all_page = []\n",
    "\n",
    "for t in all_datasets:\n",
    "\n",
    "    dataset_section426 = t.data.general.general.nuclear_energy_related_activities_section426\n",
    "    all_page_number.append(dataset_section426.data_source.page)\n",
    "\n",
    "    all_file_id.append(dataset_section426.data_source.file_reference)\n",
    "    all_file_name.append(dataset_section426.data_source.file_name)\n",
    "    all_tag_name.append(dataset_section426.data_source.tag_name)\n",
    "    all_page.append(dataset_section426.data_source.page)\n",
    "\n",
    "    pdf = dataland_client.documents_api.get_document(dataset_section426.data_source.file_reference)\n",
    "    pdf_stream = io.BytesIO(pdf)\n",
    "    pdf_reader = pypdf.PdfReader(pdf_stream)"
   ]
  },
  {
   "cell_type": "code",
   "execution_count": 64,
   "metadata": {},
   "outputs": [
    {
     "name": "stdout",
     "output_type": "stream",
     "text": [
      "57\n",
      "200\n",
      "116\n",
      "152\n",
      "232\n",
      "294\n",
      "295\n",
      "65\n",
      "104\n",
      "317\n"
     ]
    }
   ],
   "source": [
    "for u in all_page_number:\n",
    "    print(u)"
   ]
  },
  {
   "cell_type": "code",
   "execution_count": 65,
   "metadata": {},
   "outputs": [
    {
     "name": "stdout",
     "output_type": "stream",
     "text": [
      "No\n",
      "No\n",
      "No\n",
      "No\n",
      "No\n",
      "No\n",
      "No\n",
      "No\n",
      "No\n",
      "No\n"
     ]
    }
   ],
   "source": [
    "import dataland_qa_lab.dataland.data_extraction as qa_lab\n",
    "\n",
    "all_values_426_pdf = []\n",
    "\n",
    "i = 0\n",
    "for z in all_datasets:  # noqa: B007\n",
    "\n",
    "    relevant_page_number = int(all_page_number[i])\n",
    "\n",
    "    relevant_page = qa_lab.get_relevant_page_of_pdf(relevant_page_number, pdf_reader)\n",
    "\n",
    "    text_of_page = qa_lab.extraxt_text_of_pdf(relevant_page)\n",
    "\n",
    "    section_426 = qa_lab.extract_section_426(text_of_page)\n",
    "    all_values_426_pdf.append(section_426)\n",
    "\n",
    "    print(section_426)\n",
    "\n",
    "    i += 1"
   ]
  },
  {
   "cell_type": "markdown",
   "metadata": {},
   "source": [
    "# 4. Vergleich der beiden Werte"
   ]
  },
  {
   "cell_type": "code",
   "execution_count": 66,
   "metadata": {},
   "outputs": [
    {
     "name": "stdout",
     "output_type": "stream",
     "text": [
      "1. Wert in Dataland:\tNo\n",
      "1. Wert im Bericht:\tNo\n",
      "2. Wert in Dataland:\tNo\n",
      "2. Wert im Bericht:\tNo\n",
      "3. Wert in Dataland:\tNo\n",
      "3. Wert im Bericht:\tNo\n",
      "4. Wert in Dataland:\tNo\n",
      "4. Wert im Bericht:\tNo\n",
      "5. Wert in Dataland:\tNo\n",
      "5. Wert im Bericht:\tNo\n",
      "6. Wert in Dataland:\tNo\n",
      "6. Wert im Bericht:\tNo\n",
      "7. Wert in Dataland:\tNo\n",
      "7. Wert im Bericht:\tNo\n",
      "8. Wert in Dataland:\tNo\n",
      "8. Wert im Bericht:\tNo\n",
      "9. Wert in Dataland:\tNo\n",
      "9. Wert im Bericht:\tNo\n",
      "10. Wert in Dataland:\tNo\n",
      "10. Wert im Bericht:\tNo\n"
     ]
    }
   ],
   "source": [
    "for r in range(len(all_values_426)):\n",
    "    print(str(r + 1) + \".\" + \" Wert in Dataland:\" + \"\\t\" + all_values_426[r])\n",
    "    print(str(r + 1) + \".\" \" Wert im Bericht:\" + \"\\t\" + all_values_426_pdf[r])"
   ]
  },
  {
   "cell_type": "markdown",
   "metadata": {},
   "source": [
    "Verdict mithilfe von if-statements festlegen"
   ]
  },
  {
   "cell_type": "code",
   "execution_count": 67,
   "metadata": {},
   "outputs": [
    {
     "name": "stdout",
     "output_type": "stream",
     "text": [
      "QaReportDataPointVerdict.QAACCEPTED\n",
      "QaReportDataPointVerdict.QAACCEPTED\n",
      "QaReportDataPointVerdict.QAACCEPTED\n",
      "QaReportDataPointVerdict.QAACCEPTED\n",
      "QaReportDataPointVerdict.QAACCEPTED\n",
      "QaReportDataPointVerdict.QAACCEPTED\n",
      "QaReportDataPointVerdict.QAACCEPTED\n",
      "QaReportDataPointVerdict.QAACCEPTED\n",
      "QaReportDataPointVerdict.QAACCEPTED\n",
      "QaReportDataPointVerdict.QAACCEPTED\n"
     ]
    }
   ],
   "source": [
    "from dataland_qa.models.qa_report_data_point_verdict import QaReportDataPointVerdict\n",
    "\n",
    "all_verdicts = []\n",
    "\n",
    "for e in range(len(all_values_426)):\n",
    "    if all_values_426[e] == all_values_426_pdf[e]:\n",
    "        all_verdicts.append(QaReportDataPointVerdict.QAACCEPTED)\n",
    "    else:\n",
    "        all_verdicts.append(QaReportDataPointVerdict.QAREJECTED)\n",
    "\n",
    "for f in range(len(all_verdicts)):\n",
    "    print(all_verdicts[f])"
   ]
  },
  {
   "cell_type": "markdown",
   "metadata": {},
   "source": [
    "# 5. Erstellen und Abschicken eines QA Report"
   ]
  },
  {
   "cell_type": "code",
   "execution_count": 68,
   "metadata": {},
   "outputs": [
    {
     "name": "stdout",
     "output_type": "stream",
     "text": [
      "commentqareportdatapointmapstringcompanyreport='Kommentar zur QA-Zuordnung' commentqareportdatapointextendeddatapointyesno='Ja' commentextendeddatapointyesno='Nein' verdictqareportdatapointmapstringcompanyreport=<QaReportDataPointVerdict.QAACCEPTED: 'QaAccepted'> verdictqareportdatapointextendeddatapointyesno=<QaReportDataPointVerdict.QAACCEPTED: 'QaAccepted'> corrected_data={'1.': CompanyReportData(file_reference='0a8eebb9e32d3c0a32a1083699352018afcbbe39458ab8441cd0c8985a466a59', file_name='2023_DNK_Concordia_Versicherungen', publication_date=None)} value='No' quality='Reported' data_source=DocumentReferenceData(file_reference='0a8eebb9e32d3c0a32a1083699352018afcbbe39458ab8441cd0c8985a466a59', page='8', tag_name='Test', file_name='2023_DNK_Concordia_Versicherungen')\n",
      "commentqareportdatapointmapstringcompanyreport='Kommentar zur QA-Zuordnung' commentqareportdatapointextendeddatapointyesno='Ja' commentextendeddatapointyesno='Nein' verdictqareportdatapointmapstringcompanyreport=<QaReportDataPointVerdict.QAACCEPTED: 'QaAccepted'> verdictqareportdatapointextendeddatapointyesno=<QaReportDataPointVerdict.QAACCEPTED: 'QaAccepted'> corrected_data={'1.': CompanyReportData(file_reference='ebff9ec3cf12e715cb6ee1c55a1295656a87e1716a9b536b4fbf2a1b9312260c', file_name='covestro-ar23-entire', publication_date=None)} value='No' quality='Reported' data_source=DocumentReferenceData(file_reference='ebff9ec3cf12e715cb6ee1c55a1295656a87e1716a9b536b4fbf2a1b9312260c', page='8', tag_name='Test', file_name='covestro-ar23-entire')\n",
      "commentqareportdatapointmapstringcompanyreport='Kommentar zur QA-Zuordnung' commentqareportdatapointextendeddatapointyesno='Ja' commentextendeddatapointyesno='Nein' verdictqareportdatapointmapstringcompanyreport=<QaReportDataPointVerdict.QAACCEPTED: 'QaAccepted'> verdictqareportdatapointextendeddatapointyesno=<QaReportDataPointVerdict.QAACCEPTED: 'QaAccepted'> corrected_data={'1.': CompanyReportData(file_reference='b31dfa1143e9e518cfdacd95b2d4f6c531e50bc33c0dabbbe35cccfe14dd83f3', file_name='Deka_Nachhaltigkeitsbericht_2023', publication_date=None)} value='No' quality='Reported' data_source=DocumentReferenceData(file_reference='b31dfa1143e9e518cfdacd95b2d4f6c531e50bc33c0dabbbe35cccfe14dd83f3', page='8', tag_name='Test', file_name='Deka_Nachhaltigkeitsbericht_2023')\n",
      "commentqareportdatapointmapstringcompanyreport='Kommentar zur QA-Zuordnung' commentqareportdatapointextendeddatapointyesno='Ja' commentextendeddatapointyesno='Nein' verdictqareportdatapointmapstringcompanyreport=<QaReportDataPointVerdict.QAACCEPTED: 'QaAccepted'> verdictqareportdatapointextendeddatapointyesno=<QaReportDataPointVerdict.QAACCEPTED: 'QaAccepted'> corrected_data={'1.': CompanyReportData(file_reference='9c0a555a29683aedd2cd50ff7e837181a7fbb2d1c567d336897e2356fc17a595', file_name='integrierter-geschaeftsbericht-2023', publication_date=None)} value='No' quality='Reported' data_source=DocumentReferenceData(file_reference='9c0a555a29683aedd2cd50ff7e837181a7fbb2d1c567d336897e2356fc17a595', page='8', tag_name='Test', file_name='integrierter-geschaeftsbericht-2023')\n",
      "commentqareportdatapointmapstringcompanyreport='Kommentar zur QA-Zuordnung' commentqareportdatapointextendeddatapointyesno='Ja' commentextendeddatapointyesno='Nein' verdictqareportdatapointmapstringcompanyreport=<QaReportDataPointVerdict.QAACCEPTED: 'QaAccepted'> verdictqareportdatapointextendeddatapointyesno=<QaReportDataPointVerdict.QAACCEPTED: 'QaAccepted'> corrected_data={'1.': CompanyReportData(file_reference='a58354fd0d2969d7c3161d6ba273c9ba4814866c0fc8ec0e220dc4ee6e87753c', file_name='enel_report', publication_date=None)} value='No' quality='Reported' data_source=DocumentReferenceData(file_reference='a58354fd0d2969d7c3161d6ba273c9ba4814866c0fc8ec0e220dc4ee6e87753c', page='8', tag_name='Test', file_name='enel_report')\n",
      "commentqareportdatapointmapstringcompanyreport='Kommentar zur QA-Zuordnung' commentqareportdatapointextendeddatapointyesno='Ja' commentextendeddatapointyesno='Nein' verdictqareportdatapointmapstringcompanyreport=<QaReportDataPointVerdict.QAACCEPTED: 'QaAccepted'> verdictqareportdatapointextendeddatapointyesno=<QaReportDataPointVerdict.QAACCEPTED: 'QaAccepted'> corrected_data={'1.': CompanyReportData(file_reference='4abdfd0764559831fdd2e972abab0f34bc7300c650f6f789beea10ecb7d20251', file_name='EON_GB2023_gesamt_dt_final', publication_date=None)} value='No' quality='Reported' data_source=DocumentReferenceData(file_reference='4abdfd0764559831fdd2e972abab0f34bc7300c650f6f789beea10ecb7d20251', page='8', tag_name='Test', file_name='EON_GB2023_gesamt_dt_final')\n",
      "commentqareportdatapointmapstringcompanyreport='Kommentar zur QA-Zuordnung' commentqareportdatapointextendeddatapointyesno='Ja' commentextendeddatapointyesno='Nein' verdictqareportdatapointmapstringcompanyreport=<QaReportDataPointVerdict.QAACCEPTED: 'QaAccepted'> verdictqareportdatapointextendeddatapointyesno=<QaReportDataPointVerdict.QAACCEPTED: 'QaAccepted'> corrected_data={'1.': CompanyReportData(file_reference='3305bd49f340b73919de891d166f7492cd61f59a9efdc1b84a0720db1f846fc2', file_name='gsm24-sustainability-report-2023', publication_date=None)} value='No' quality='Reported' data_source=DocumentReferenceData(file_reference='3305bd49f340b73919de891d166f7492cd61f59a9efdc1b84a0720db1f846fc2', page='8', tag_name='Test', file_name='gsm24-sustainability-report-2023')\n",
      "commentqareportdatapointmapstringcompanyreport='Kommentar zur QA-Zuordnung' commentqareportdatapointextendeddatapointyesno='Ja' commentextendeddatapointyesno='Nein' verdictqareportdatapointmapstringcompanyreport=<QaReportDataPointVerdict.QAACCEPTED: 'QaAccepted'> verdictqareportdatapointextendeddatapointyesno=<QaReportDataPointVerdict.QAACCEPTED: 'QaAccepted'> corrected_data={'1.': CompanyReportData(file_reference='e974e3f3675386f17b67af4a5b03ee5a0a313c4d0b07d719c2cf5cb715ccbeb3', file_name='MunichRe-Konzerngeschaeftsbericht-2023-de', publication_date=None)} value='No' quality='Reported' data_source=DocumentReferenceData(file_reference='e974e3f3675386f17b67af4a5b03ee5a0a313c4d0b07d719c2cf5cb715ccbeb3', page='8', tag_name='Test', file_name='MunichRe-Konzerngeschaeftsbericht-2023-de')\n",
      "commentqareportdatapointmapstringcompanyreport='Kommentar zur QA-Zuordnung' commentqareportdatapointextendeddatapointyesno='Ja' commentextendeddatapointyesno='Nein' verdictqareportdatapointmapstringcompanyreport=<QaReportDataPointVerdict.QAACCEPTED: 'QaAccepted'> verdictqareportdatapointextendeddatapointyesno=<QaReportDataPointVerdict.QAACCEPTED: 'QaAccepted'> corrected_data={'1.': CompanyReportData(file_reference='eb119227edc8c66d672785619522cd6045b2faf37e63796207799c0e40fa66be', file_name='2024-03-14-rwe-annual-report-2023', publication_date=None)} value='No' quality='Reported' data_source=DocumentReferenceData(file_reference='eb119227edc8c66d672785619522cd6045b2faf37e63796207799c0e40fa66be', page='8', tag_name='Test', file_name='2024-03-14-rwe-annual-report-2023')\n",
      "commentqareportdatapointmapstringcompanyreport='Kommentar zur QA-Zuordnung' commentqareportdatapointextendeddatapointyesno='Ja' commentextendeddatapointyesno='Nein' verdictqareportdatapointmapstringcompanyreport=<QaReportDataPointVerdict.QAACCEPTED: 'QaAccepted'> verdictqareportdatapointextendeddatapointyesno=<QaReportDataPointVerdict.QAACCEPTED: 'QaAccepted'> corrected_data={'1.': CompanyReportData(file_reference='dba48e9f5e7e6fc9862dd95159960eb2a270d6975f2457f443ca422e7449e7d6', file_name='totalenergies_universal-registration-document-2023_2023_en_pdf', publication_date=None)} value='No' quality='Reported' data_source=DocumentReferenceData(file_reference='dba48e9f5e7e6fc9862dd95159960eb2a270d6975f2457f443ca422e7449e7d6', page='8', tag_name='Test', file_name='totalenergies_universal-registration-document-2023_2023_en_pdf')\n"
     ]
    }
   ],
   "source": [
    "from dataland_qa_lab.dataland import send_report_to_dataland as report\n",
    "\n",
    "for i in range(len(all_values_426)):\n",
    "\n",
    "    company_report_data = report.CompanyReportData(file_reference=all_file_id[i], file_name=all_file_name[i], publication_date=None)  # noqa: E501\n",
    "    document_reference_data = report.DocumentReferenceData(file_reference=all_file_id[i], page=\"8\", tag_name=\"Test\", file_name=all_file_name[i])  # noqa: E501\n",
    "\n",
    "    report_data_instance = report.ReportData(\n",
    "        commentqareportdatapointmapstringcompanyreport=\"Kommentar zur QA-Zuordnung\",\n",
    "        commentqareportdatapointextendeddatapointyesno=\"Ja\",\n",
    "        commentextendeddatapointyesno=\"Nein\",\n",
    "        verdictqareportdatapointmapstringcompanyreport=all_verdicts[i],\n",
    "        verdictqareportdatapointextendeddatapointyesno=all_verdicts[i],\n",
    "        corrected_data={\n",
    "            \"1.\": company_report_data\n",
    "        },\n",
    "        value=section_426,\n",
    "        quality=\"Reported\",\n",
    "        data_source=document_reference_data\n",
    "    )\n",
    "\n",
    "    report.send_report_to_dataland_method(data_id=data_id, report_data=report_data_instance, dataland_client=dataland_client)  # noqa: E501\n",
    "    print(report_data_instance)"
   ]
  }
 ],
 "metadata": {
  "kernelspec": {
   "display_name": ".venv",
   "language": "python",
   "name": "python3"
  },
  "language_info": {
   "codemirror_mode": {
    "name": "ipython",
    "version": 3
   },
   "file_extension": ".py",
   "mimetype": "text/x-python",
   "name": "python",
   "nbconvert_exporter": "python",
   "pygments_lexer": "ipython3",
   "version": "3.13.0"
  }
 },
 "nbformat": 4,
 "nbformat_minor": 2
}
