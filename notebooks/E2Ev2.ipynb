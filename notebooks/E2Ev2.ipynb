{
 "cells": [
  {
   "cell_type": "code",
   "execution_count": 15,
   "metadata": {},
   "outputs": [],
   "source": [
    "%run base.ipynb"
   ]
  },
  {
   "cell_type": "markdown",
   "metadata": {},
   "source": [
    "# End-2-End-Test\n",
    "Als QA-Lab-Team möchten wir einen einfachen E2E-Test aufsetzen, der die Gesamtfunktionalität unseres Prototypen testet"
   ]
  },
  {
   "cell_type": "markdown",
   "metadata": {},
   "source": [
    "# 1. Laden der Testdaten von Dataland\n",
    "Erstellen einer Liste mit allen Company IDs deren Nuclear & Gas Datasets wir in unserem Testdurchlauf verwenden möchten"
   ]
  },
  {
   "cell_type": "code",
   "execution_count": 16,
   "metadata": {},
   "outputs": [],
   "source": [
    "from dataland_qa_lab.utils import config\n",
    "\n",
    "conf = config.get_config()\n",
    "dataland_client = conf.dataland_client"
   ]
  },
  {
   "cell_type": "markdown",
   "metadata": {},
   "source": [
    "Nun erstellen wir für jede CompanyID einen Nuclear & Gas Datensatz auf dataland.com"
   ]
  },
  {
   "cell_type": "code",
   "execution_count": 17,
   "metadata": {},
   "outputs": [],
   "source": [
    "from dataland_qa_lab.dataland import create_test_data\n",
    "\n",
    "company_id_list = [\n",
    "    \"4423c691-0436-423f-abcb-0a08127ee848\",\n",
    "]\n",
    "\n",
    "#create_test_data.create_new_test_data(company_id_list=company_id_list, dataland_client=dataland_client)"
   ]
  },
  {
   "cell_type": "markdown",
   "metadata": {},
   "source": [
    "Basierend auf der CompanyID laden wir nun das zugehörige Nuclear & Gas Dataset und frsgen den ersten Datenpunkt aus Meldebogen 1 ab"
   ]
  },
  {
   "cell_type": "code",
   "execution_count": 18,
   "metadata": {},
   "outputs": [
    {
     "name": "stdout",
     "output_type": "stream",
     "text": [
      "Yes\n"
     ]
    }
   ],
   "source": [
    "import dataland_qa_lab.dataland.get_data as qa\n",
    "\n",
    "company_id = company_id_list[0]\n",
    "year = \"2024\"\n",
    "value1 = qa._get_data_set_by_year_(company_id=company_id, year=year)\n",
    "print(value1)\n"
   ]
  },
  {
   "cell_type": "code",
   "execution_count": 19,
   "metadata": {},
   "outputs": [
    {
     "name": "stdout",
     "output_type": "stream",
     "text": [
      "[DataAndMetaInformationNuclearAndGasData(meta_info=DataMetaInformation(data_id='d67db903-575d-48c3-99c3-b7f3f8ea174f', company_id='4423c691-0436-423f-abcb-0a08127ee848', data_type=<DataTypeEnum.NUCLEAR_MINUS_AND_MINUS_GAS: 'nuclear-and-gas'>, uploader_user_id='143995c1-1ead-4324-a49f-043eeaabace4', upload_time=1732022857239, reporting_period='2024', currently_active=True, qa_status=<QaStatus.ACCEPTED: 'Accepted'>), data=NuclearAndGasData(general=NuclearAndGasGeneral(general=NuclearAndGasGeneralGeneral(referenced_reports={'MVV 2023_engl': CompanyReport(file_reference='893f3ce12424765026ff72770f5982ec895e7befc880a71606e96b926cfd0a34', file_name=None, publication_date=datetime.date(2024, 11, 19))}, nuclear_energy_related_activities_section426=ExtendedDataPointYesNo(value=<YesNo.YES: 'Yes'>, quality=<QualityOptions.REPORTED: 'Reported'>, comment='', data_source=ExtendedDocumentReference(page='271', tag_name=None, file_name='MVV 2023_engl', file_reference='893f3ce12424765026ff72770f5982ec895e7befc880a71606e96b926cfd0a34')), nuclear_energy_related_activities_section427=None, nuclear_energy_related_activities_section428=None, fossil_gas_related_activities_section429=None, fossil_gas_related_activities_section430=None, fossil_gas_related_activities_section431=None), taxonomy_aligned_denominator=NuclearAndGasGeneralTaxonomyAlignedDenominator(nuclear_and_gas_taxonomy_aligned_revenue_denominator=None, nuclear_and_gas_taxonomy_aligned_capex_denominator=None), taxonomy_aligned_numerator=NuclearAndGasGeneralTaxonomyAlignedNumerator(nuclear_and_gas_taxonomy_aligned_revenue_numerator=None, nuclear_and_gas_taxonomy_aligned_capex_numerator=None), taxonomy_eligible_but_not_aligned=NuclearAndGasGeneralTaxonomyEligibleButNotAligned(nuclear_and_gas_taxonomy_eligible_but_not_aligned_revenue=None, nuclear_and_gas_taxonomy_eligible_but_not_aligned_capex=None), taxonomy_non_eligible=NuclearAndGasGeneralTaxonomyNonEligible(nuclear_and_gas_taxonomy_non_eligible_revenue=None, nuclear_and_gas_taxonomy_non_eligible_capex=None))))]\n"
     ]
    }
   ],
   "source": [
    "import dataland_qa_lab.dataland.get_data as qa\n",
    "\n",
    "value2 = qa._get_dataset_(company_id=company_id, dataland_client=dataland_client)\n",
    "print(value2)"
   ]
  },
  {
   "cell_type": "code",
   "execution_count": 20,
   "metadata": {},
   "outputs": [
    {
     "name": "stdout",
     "output_type": "stream",
     "text": [
      "d67db903-575d-48c3-99c3-b7f3f8ea174f\n"
     ]
    }
   ],
   "source": [
    "import dataland_qa_lab.dataland.get_data as qa\n",
    "\n",
    "value3 = qa._get_data_id_(company_id=company_id, dataland_client=dataland_client, year=\"2024\")\n",
    "print(value3)"
   ]
  },
  {
   "cell_type": "markdown",
   "metadata": {},
   "source": [
    "# 2. Laden der Datenquelle von Dataland und Überführen in Textform"
   ]
  },
  {
   "cell_type": "code",
   "execution_count": 21,
   "metadata": {},
   "outputs": [
    {
     "name": "stdout",
     "output_type": "stream",
     "text": [
      "value=<YesNo.YES: 'Yes'> quality=<QualityOptions.REPORTED: 'Reported'> comment='' data_source=ExtendedDocumentReference(page='271', tag_name=None, file_name='MVV 2023_engl', file_reference='893f3ce12424765026ff72770f5982ec895e7befc880a71606e96b926cfd0a34')\n"
     ]
    }
   ],
   "source": [
    "\n",
    "nuclear_and_gas_data = dataland_client.eu_taxonomy_nuclear_gas_api.get_company_associated_nuclear_and_gas_data(data_id=value3)\n",
    "value_126 = nuclear_and_gas_data.data.general.general.nuclear_energy_related_activities_section426\n",
    "document_bytes = dataland_client.documents_api.get_document(value_126.data_source.file_reference)\n",
    "print(value_126)"
   ]
  },
  {
   "cell_type": "markdown",
   "metadata": {},
   "source": [
    "Finden des relevanten Bereichs im PDF-Dokument"
   ]
  },
  {
   "cell_type": "code",
   "execution_count": 22,
   "metadata": {},
   "outputs": [],
   "source": [
    "import io\n",
    "\n",
    "import pypdf\n",
    "\n",
    "full_document_byte_stream = io.BytesIO(document_bytes)\n",
    "full_pdf = pypdf.PdfReader(full_document_byte_stream)\n",
    "\n",
    "partial_document_byte_stream = io.BytesIO()\n",
    "partial_pdf = pypdf.PdfWriter()\n",
    "\n",
    "partial_pdf.add_page(full_pdf.get_page(int(value_126.data_source.page) - 1))  # Correct for 0 offset\n",
    "partial_pdf.write(partial_document_byte_stream)\n",
    "partial_document_byte_stream.seek(0)\n",
    "None"
   ]
  },
  {
   "cell_type": "markdown",
   "metadata": {},
   "source": [
    "Nun nutzen wir die Azure Document Intelligence API, um den Text aus dem PDF zu extrahieren."
   ]
  },
  {
   "cell_type": "code",
   "execution_count": 23,
   "metadata": {},
   "outputs": [],
   "source": [
    "from azure.ai.documentintelligence import DocumentIntelligenceClient\n",
    "from azure.ai.documentintelligence.models import AnalyzeResult, ContentFormat\n",
    "from azure.core.credentials import AzureKeyCredential\n",
    "\n",
    "docintel_cred = AzureKeyCredential(conf.azure_docintel_api_key)\n",
    "document_intelligence_client = DocumentIntelligenceClient(\n",
    "    endpoint=conf.azure_docintel_endpoint, credential=docintel_cred\n",
    ")\n",
    "\n",
    "poller = document_intelligence_client.begin_analyze_document(\n",
    "    \"prebuilt-layout\",\n",
    "    analyze_request=partial_document_byte_stream,\n",
    "    content_type=\"application/octet-stream\",\n",
    "    output_content_format=ContentFormat.MARKDOWN,\n",
    ")\n",
    "result: AnalyzeResult = poller.result()"
   ]
  },
  {
   "cell_type": "markdown",
   "metadata": {},
   "source": [
    "Das Ergebnis können wir uns direkt im Notebook anzeigen lassen."
   ]
  },
  {
   "cell_type": "code",
   "execution_count": 24,
   "metadata": {},
   "outputs": [
    {
     "data": {
      "text/markdown": [
       "<!-- PageHeader=\"Other Disclosures > EU Taxonomy Tables\" -->\n",
       "\n",
       "\n",
       "# Sales (turnover)\n",
       "\n",
       "\n",
       "<table>\n",
       "<caption>Sales (turnover) FY 2023: Template 1 Nuclear and fossil gas related activities</caption>\n",
       "<tr>\n",
       "<th>Row</th>\n",
       "<th>Nuclear energy related activities</th>\n",
       "<th></th>\n",
       "</tr>\n",
       "<tr>\n",
       "<td>1.</td>\n",
       "<td>The undertaking carries out, funds or has exposures to research, development, demonstration and deployment of innovative electricity generation facilities that produce energy from nuclear processes with minimal waste from the fuel cycle.</td>\n",
       "<td>No</td>\n",
       "</tr>\n",
       "<tr>\n",
       "<td>2.</td>\n",
       "<td>The undertaking carries out, funds or has exposures to construction and safe operation of new nuclear installations to produce electricity or process heat, including for the purposes of district heating or industrial processes such as hydrogen production, as well as their safety upgrades, using best available technologies.</td>\n",
       "<td>No</td>\n",
       "</tr>\n",
       "<tr>\n",
       "<td>3.</td>\n",
       "<td>The undertaking carries out, funds or has exposures to safe operation of existing nuclear installations that produce electricity or process heat, including for the purposes of district heating or industrial processes such as hydrogen production, from nuclear energy, as well as their safety upgrades.</td>\n",
       "<td>No</td>\n",
       "</tr>\n",
       "<tr>\n",
       "<td>Row</td>\n",
       "<td>Fossil gas related activities</td>\n",
       "<td></td>\n",
       "</tr>\n",
       "<tr>\n",
       "<td>4.</td>\n",
       "<td>The undertaking carries out, funds or has exposures to construction or operation of electricity generation facilities that produce electricity using fossil gaseous fuels.</td>\n",
       "<td>Yes</td>\n",
       "</tr>\n",
       "<tr>\n",
       "<td>5.</td>\n",
       "<td>The undertaking carries out, funds or has exposures to construction, refurbishment and operation of combined heat/cool and power generation facilities using fossil gaseous fuels.</td>\n",
       "<td>Yes</td>\n",
       "</tr>\n",
       "<tr>\n",
       "<td>6.</td>\n",
       "<td>The undertaking carries out, funds or has exposures to construction, refurbishment and operation of heat generation facilities that produce heat/cool using fossil gaseous fuels.</td>\n",
       "<td>Yes</td>\n",
       "</tr>\n",
       "</table>\n",
       "\n",
       "\n",
       "## Sales (turnover) FY 2023: Template 2 Taxonomy-aligned economic activities (denominator)\n",
       "\n",
       "\n",
       "<table>\n",
       "<tr>\n",
       "<th>Row</th>\n",
       "<th>Economic activities</th>\n",
       "<th colspan=\"6\">Amount and proportion (disclosed as monetary amounts and percentages)</th>\n",
       "</tr>\n",
       "<tr>\n",
       "<th></th>\n",
       "<th></th>\n",
       "<th colspan=\"2\">CCM + CCA</th>\n",
       "<th colspan=\"2\">Climate change mitigation (CCM)</th>\n",
       "<th colspan=\"2\">Climate change adaptation (CCA)</th>\n",
       "</tr>\n",
       "<tr>\n",
       "<th></th>\n",
       "<th></th>\n",
       "<th>Euro 000</th>\n",
       "<th>%</th>\n",
       "<th>Euro 000s</th>\n",
       "<th>%</th>\n",
       "<th>Euro 000s</th>\n",
       "<th>%</th>\n",
       "</tr>\n",
       "<tr>\n",
       "<td>1.</td>\n",
       "<td>Amount and proportion of taxonomy-aligned economic activity referred to in Section 4.26 of Annexes I and II to Delegated Regulation 2021/2139 in the denominator of the applicable KPI</td>\n",
       "<td>–</td>\n",
       "<td>–</td>\n",
       "<td>–</td>\n",
       "<td>–</td>\n",
       "<td>–</td>\n",
       "<td>–</td>\n",
       "</tr>\n",
       "<tr>\n",
       "<td>2.</td>\n",
       "<td>Amount and proportion of taxonomy-aligned economic activity referred to in Section 4.27 of Annexes I and II to Delegated Regulation 2021/2139 in the denominator of the applicable KPI</td>\n",
       "<td>–</td>\n",
       "<td>–</td>\n",
       "<td>–</td>\n",
       "<td>–</td>\n",
       "<td>–</td>\n",
       "<td>–</td>\n",
       "</tr>\n",
       "<tr>\n",
       "<td>3.</td>\n",
       "<td>Amount and proportion of taxonomy-aligned economic activity referred to in Section 4.28 of Annexes I and II to Delegated Regulation 2021/2139 in the denominator of the applicable KPI</td>\n",
       "<td>–</td>\n",
       "<td>–</td>\n",
       "<td>–</td>\n",
       "<td>–</td>\n",
       "<td>–</td>\n",
       "<td>–</td>\n",
       "</tr>\n",
       "<tr>\n",
       "<td>4.</td>\n",
       "<td>Amount and proportion of taxonomy-aligned economic activity referred to in Section 4.29 of Annexes I and II to Delegated Regulation 2021/2139 in the denominator of the applicable KPI</td>\n",
       "<td>0</td>\n",
       "<td>0.0</td>\n",
       "<td>0</td>\n",
       "<td>0.0</td>\n",
       "<td>–</td>\n",
       "<td>–</td>\n",
       "</tr>\n",
       "<tr>\n",
       "<td>5.</td>\n",
       "<td>Amount and proportion of taxonomy-aligned economic activity referred to in Section 4.30 of Annexes I and II to Delegated Regulation 2021/2139 in the denominator of the applicable KPI</td>\n",
       "<td>35,890</td>\n",
       "<td>0.5</td>\n",
       "<td>35,890</td>\n",
       "<td>0.5</td>\n",
       "<td>–</td>\n",
       "<td>–</td>\n",
       "</tr>\n",
       "<tr>\n",
       "<td>6.</td>\n",
       "<td>Amount and proportion of taxonomy-aligned economic activity referred to in Section 4.31 of Annexes I and II to Delegated Regulation 2021/2139 in the denominator of the applicable KPI</td>\n",
       "<td>0</td>\n",
       "<td>0.0</td>\n",
       "<td>0</td>\n",
       "<td>0.0</td>\n",
       "<td>–</td>\n",
       "<td>–</td>\n",
       "</tr>\n",
       "<tr>\n",
       "<td>7.</td>\n",
       "<td>Amount and proportion of other taxonomy-aligned economic activities not referred to in rows 1 to 6 above in the denominator of the applicable KPI</td>\n",
       "<td>918,790</td>\n",
       "<td>12.2</td>\n",
       "<td>918,790</td>\n",
       "<td>12.2</td>\n",
       "<td>–</td>\n",
       "<td>–</td>\n",
       "</tr>\n",
       "<tr>\n",
       "<td>8.</td>\n",
       "<td>Total applicable KPI</td>\n",
       "<td>7,530,520</td>\n",
       "<td></td>\n",
       "<td></td>\n",
       "<td></td>\n",
       "<td></td>\n",
       "<td></td>\n",
       "</tr>\n",
       "</table>\n",
       "\n",
       "\n",
       "<!-- PageFooter=\"MVV Annual Report 2023\" -->\n",
       "<!-- PageNumber=\"271\" -->\n"
      ],
      "text/plain": [
       "<IPython.core.display.Markdown object>"
      ]
     },
     "metadata": {},
     "output_type": "display_data"
    }
   ],
   "source": [
    "from IPython.display import Markdown, display\n",
    "\n",
    "display(Markdown(result.content))"
   ]
  },
  {
   "cell_type": "markdown",
   "metadata": {},
   "source": [
    "# 3. Verifizierung mithilfe von GPT-4o"
   ]
  },
  {
   "cell_type": "code",
   "execution_count": 25,
   "metadata": {},
   "outputs": [
    {
     "name": "stdout",
     "output_type": "stream",
     "text": [
      "No\n"
     ]
    }
   ],
   "source": [
    "from openai import AzureOpenAI\n",
    "\n",
    "client = AzureOpenAI(\n",
    "    api_key=conf.azure_openai_api_key, api_version=\"2024-07-01-preview\", azure_endpoint=conf.azure_openai_endpoint\n",
    ")\n",
    "\n",
    "deployment_name = \"gpt-4o\"\n",
    "\n",
    "prompt = f\"\"\"\n",
    "You are an AI research Agent. As the agent, you answer questions briefly, succinctly, and factually.\n",
    "Always justify you answer.\n",
    "\n",
    "# Safety\n",
    "- You **should always** reference factual statements to search results based on [relevant documents]\n",
    "- Search results based on [relevant documents] may be incomplete or irrelevant. You do not make assumptions\n",
    "  on the search results beyond strictly what's returned.\n",
    "- If the search results based on [relevant documents] do not contain sufficient information to answer user\n",
    "  message completely, you respond using the tool 'cannot_answer_question'\n",
    "- Your responses should avoid being vague, controversial or off-topic.\n",
    "\n",
    "# Task\n",
    "Given the information from the [relevant documents], is the company engaged in the research, development,\n",
    "demonstration, and deployment of innovative power generation facilities that generate energy from nuclear\n",
    "processes with minimal waste from the fuel cycle, finance such activities, or hold risk positions related\n",
    "to these activities? Just answer the question with yes or no. The answer should not be longer than 3\n",
    "characters and should not include punctation.\n",
    "\n",
    "# Relevant Documents\n",
    "{result.content}\n",
    "\"\"\"\n",
    "\n",
    "initial_openai_response = client.chat.completions.create(\n",
    "    model=deployment_name,\n",
    "    temperature=0,\n",
    "    messages=[\n",
    "        {\"role\": \"system\", \"content\": prompt},\n",
    "    ],\n",
    ")\n",
    "print(initial_openai_response.choices[0].message.content)\n",
    "report_value = initial_openai_response.choices[0].message.content"
   ]
  },
  {
   "cell_type": "markdown",
   "metadata": {},
   "source": [
    "# 4. Vergleich der beiden Werte"
   ]
  },
  {
   "cell_type": "code",
   "execution_count": 26,
   "metadata": {},
   "outputs": [
    {
     "name": "stdout",
     "output_type": "stream",
     "text": [
      "Wert in Dataland: \tYes\n",
      "Wert im Bericht: \tNo\n"
     ]
    }
   ],
   "source": [
    "print(f\"Wert in Dataland: \\t{value_126.value.value}\")\n",
    "print(f\"Wert im Bericht: \\t{report_value}\")"
   ]
  },
  {
   "cell_type": "markdown",
   "metadata": {},
   "source": [
    "# 5. Erstellen und Abschicken eines QA Report"
   ]
  },
  {
   "cell_type": "code",
   "execution_count": 28,
   "metadata": {},
   "outputs": [
    {
     "data": {
      "text/plain": [
       "QaReportMetaInformation(data_id='d67db903-575d-48c3-99c3-b7f3f8ea174f', data_type='nuclear-and-gas', qa_report_id='c835b929-f641-43de-a6f3-840c4e98fab3', reporter_user_id='143995c1-1ead-4324-a49f-043eeaabace4', upload_time=1732023295825, active=True)"
      ]
     },
     "execution_count": 28,
     "metadata": {},
     "output_type": "execute_result"
    }
   ],
   "source": [
    "from dataland_qa.models.extended_data_point_yes_no import ExtendedDataPointYesNo\n",
    "from dataland_qa.models.nuclear_and_gas_data import NuclearAndGasData\n",
    "from dataland_qa.models.nuclear_and_gas_general import NuclearAndGasGeneral\n",
    "from dataland_qa.models.nuclear_and_gas_general_general import NuclearAndGasGeneralGeneral\n",
    "from dataland_qa.models.qa_report_data_point_extended_data_point_yes_no import QaReportDataPointExtendedDataPointYesNo\n",
    "from dataland_qa.models.qa_report_data_point_verdict import QaReportDataPointVerdict\n",
    "\n",
    "selected_qa_report = NuclearAndGasData(\n",
    "    general=NuclearAndGasGeneral(\n",
    "        general=NuclearAndGasGeneralGeneral(\n",
    "            nuclear_energy_related_activities_section426=QaReportDataPointExtendedDataPointYesNo(\n",
    "                comment=\"The value in the report is incorrect. The correct value is No\",\n",
    "                verdict=QaReportDataPointVerdict.QAREJECTED,\n",
    "                correctedData=ExtendedDataPointYesNo(\n",
    "                    value=report_value,\n",
    "                    quality=\"Reported\",\n",
    "                ),\n",
    "            )\n",
    "        )\n",
    "    )\n",
    ")\n",
    "\n",
    "api = dataland_client.eu_taxonomy_nuclear_gas_qa_api\n",
    "api.post_nuclear_and_gas_data_qa_report(value3, selected_qa_report)"
   ]
  }
 ],
 "metadata": {
  "kernelspec": {
   "display_name": ".venv",
   "language": "python",
   "name": "python3"
  },
  "language_info": {
   "codemirror_mode": {
    "name": "ipython",
    "version": 3
   },
   "file_extension": ".py",
   "mimetype": "text/x-python",
   "name": "python",
   "nbconvert_exporter": "python",
   "pygments_lexer": "ipython3",
   "version": "3.13.0"
  }
 },
 "nbformat": 4,
 "nbformat_minor": 2
}
