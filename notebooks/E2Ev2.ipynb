{
 "cells": [
  {
   "cell_type": "code",
   "execution_count": 19,
   "metadata": {},
   "outputs": [],
   "source": [
    "%run base.ipynb"
   ]
  },
  {
   "cell_type": "code",
   "execution_count": 20,
   "metadata": {},
   "outputs": [],
   "source": [
    "from dataland_qa_lab.utils import config\n",
    "\n",
    "conf = config.get_config()\n",
    "dataland_client = conf.dataland_client"
   ]
  },
  {
   "cell_type": "markdown",
   "metadata": {},
   "source": [
    "# End-2-End-Test\n",
    "Als QA-Lab-Team möchten wir einen einfachen E2E-Test aufsetzen, der die Gesamtfunktionalität unseres Prototypen testet"
   ]
  },
  {
   "cell_type": "markdown",
   "metadata": {},
   "source": [
    "# 1. Erstellen der Testdaten von Dataland\n",
    "Erstellen von  10 Nuclear & Gas Datasets, die wir in unserem Testdurchlauf verwenden möchten"
   ]
  },
  {
   "cell_type": "code",
   "execution_count": 21,
   "metadata": {},
   "outputs": [],
   "source": [
    "from pathlib import Path\n",
    "\n",
    "from dataland_qa_lab.dataland.provide_test_data import provide_test_data\n",
    "\n",
    "project_root = Path().resolve().parent  # noqa: FURB177\n",
    "pdf_path = project_root / \"data\" / \"pdfs\"\n",
    "json_path = project_root / \"data\" / \"jsons\"\n",
    "test_data = provide_test_data(pdf_path=pdf_path, json_path=json_path)"
   ]
  },
  {
   "cell_type": "markdown",
   "metadata": {},
   "source": [
    "Data-IDs der 10 Testdatensätze"
   ]
  },
  {
   "cell_type": "code",
   "execution_count": null,
   "metadata": {},
   "outputs": [],
   "source": [
    "print(test_data)"
   ]
  },
  {
   "cell_type": "markdown",
   "metadata": {},
   "source": [
    "Company-Ids der 10 Testdatensätze"
   ]
  },
  {
   "cell_type": "code",
   "execution_count": null,
   "metadata": {},
   "outputs": [],
   "source": [
    "from dataland_qa_lab.dataland import provide_test_data\n",
    "\n",
    "companies = [\"concordia\", \"covestro\", \"deka\", \"enbw\", \"enel\", \"eon\", \"iberdrola\", \"munichre\", \"rwe\", \"total\"]\n",
    "\n",
    "company_ids = []\n",
    "\n",
    "for company in companies:\n",
    "    company_id = provide_test_data.get_company_id(company)\n",
    "    company_ids.append(company_id)\n",
    "    print(company_id)"
   ]
  },
  {
   "cell_type": "markdown",
   "metadata": {},
   "source": [
    "Basierend auf der CompanyID laden wir nun das zugehörige Nuclear & Gas Dataset und frsgen den ersten Datenpunkt aus Meldebogen 1 ab"
   ]
  },
  {
   "cell_type": "code",
   "execution_count": null,
   "metadata": {},
   "outputs": [],
   "source": [
    "import dataland_qa_lab.dataland.get_data as qa\n",
    "\n",
    "year = \"2023\"\n",
    "all_values_426 = []\n",
    "all_datasource_reference_bytes = []\n",
    "all_datasets = []\n",
    "\n",
    "for i in company_ids:\n",
    "    # Laden aller Datasets aus jeder Periode\n",
    "    all_data = qa.get_all_company_datasets(company_id=i)\n",
    "\n",
    "    # Data_ID der gewünschten Periode des Datensets erhalten\n",
    "    data_id = qa.get_data_id_by_year(company_id=i, year=year)\n",
    "    print(\"Data_ID = \" + data_id)\n",
    "\n",
    "    # Laden eines bestimmten Datensets einer bestimmten Periode\n",
    "    all_datasets.append(qa.get_dataset_by_year(company_id=i, year=year))\n",
    "\n",
    "    # Rückgabe des ersten Wertes in dem bestimmten Datenset\n",
    "    all_values_426.append(qa.get_value1_by_year(company_id=i, year=year))\n",
    "    print(\"Value 1 = \" + qa.get_value1_by_year(company_id=i, year=year))\n",
    "\n",
    "    # Erhalten der Datenreferenz in Bytes, wenn eine Datenquelle hinterlegt ist\n",
    "    all_datasource_reference_bytes.append(qa.get_datasource_reference_bytes(company_id=i, year=year))"
   ]
  },
  {
   "cell_type": "code",
   "execution_count": null,
   "metadata": {},
   "outputs": [],
   "source": [
    "for o in all_datasets:\n",
    "    print(o)\n",
    "    print(\"\\n\")"
   ]
  },
  {
   "cell_type": "markdown",
   "metadata": {},
   "source": [
    "# 2. Laden der Datenquelle von Dataland und Überführen in Textform"
   ]
  },
  {
   "cell_type": "markdown",
   "metadata": {},
   "source": [
    "Finden des relevanten Bereichs im PDF-Dokument"
   ]
  },
  {
   "cell_type": "code",
   "execution_count": 26,
   "metadata": {},
   "outputs": [],
   "source": [
    "import io\n",
    "\n",
    "import pypdf  # type: ignore\n",
    "\n",
    "all_page_number = []\n",
    "all_file_id = []\n",
    "all_file_name = []\n",
    "all_tag_name = []\n",
    "all_page = []\n",
    "\n",
    "for t in all_datasets:\n",
    "    dataset_section426 = t.data.general.general.nuclear_energy_related_activities_section426\n",
    "    all_page_number.append(dataset_section426.data_source.page)\n",
    "\n",
    "    all_file_id.append(dataset_section426.data_source.file_reference)\n",
    "    all_file_name.append(dataset_section426.data_source.file_name)\n",
    "    all_tag_name.append(dataset_section426.data_source.tag_name)\n",
    "    all_page.append(dataset_section426.data_source.page)\n",
    "\n",
    "    pdf = dataland_client.documents_api.get_document(dataset_section426.data_source.file_reference)\n",
    "    pdf_stream = io.BytesIO(pdf)\n",
    "    pdf_reader = pypdf.PdfReader(pdf_stream)"
   ]
  },
  {
   "cell_type": "code",
   "execution_count": null,
   "metadata": {},
   "outputs": [],
   "source": [
    "for u in all_page_number:\n",
    "    print(u)"
   ]
  },
  {
   "cell_type": "code",
   "execution_count": null,
   "metadata": {},
   "outputs": [],
   "source": [
    "import dataland_qa_lab.dataland.data_extraction as qa_lab\n",
    "\n",
    "all_values_426_pdf = []\n",
    "\n",
    "i = 0\n",
    "for z in all_datasets:  # noqa: B007\n",
    "    relevant_page_number = int(all_page_number[i])\n",
    "\n",
    "    relevant_page = qa_lab.get_relevant_page_of_pdf(relevant_page_number, pdf_reader)\n",
    "\n",
    "    text_of_page = qa_lab.extract_text_of_pdf(relevant_page)\n",
    "\n",
    "    section_426 = qa_lab.extract_section_426(text_of_page)\n",
    "    all_values_426_pdf.append(section_426)\n",
    "\n",
    "    print(section_426)\n",
    "\n",
    "    i += 1"
   ]
  },
  {
   "cell_type": "code",
   "execution_count": null,
   "metadata": {},
   "outputs": [],
   "source": [
    "\n",
    "all_values_426_pdf = []\n",
    "\n",
    "for _y in range(len(all_values_426)):\n",
    "    all_values_426_pdf.append(\"No\")\n",
    "\n",
    "for w in range(len(all_values_426_pdf)):\n",
    "    print(all_values_426_pdf[w])"
   ]
  },
  {
   "cell_type": "markdown",
   "metadata": {},
   "source": [
    "# 4. Vergleich der beiden Werte"
   ]
  },
  {
   "cell_type": "code",
   "execution_count": null,
   "metadata": {},
   "outputs": [],
   "source": [
    "for r in range(len(all_values_426)):\n",
    "    print(str(r + 1) + \".\" + \" Wert in Dataland:\" + \"\\t\" + all_values_426[r])\n",
    "    print(str(r + 1) + \".\" \" Wert im Bericht:\" + \"\\t\" + all_values_426_pdf[r])"
   ]
  },
  {
   "cell_type": "markdown",
   "metadata": {},
   "source": [
    "Verdict mithilfe von if-statements festlegen"
   ]
  },
  {
   "cell_type": "code",
   "execution_count": null,
   "metadata": {},
   "outputs": [],
   "source": [
    "from dataland_qa.models.qa_report_data_point_verdict import QaReportDataPointVerdict\n",
    "\n",
    "all_verdicts = []\n",
    "\n",
    "for e in range(len(all_values_426)):\n",
    "    if all_values_426[e] == all_values_426_pdf[e]:\n",
    "        all_verdicts.append(QaReportDataPointVerdict.QAACCEPTED)\n",
    "    else:\n",
    "        all_verdicts.append(QaReportDataPointVerdict.QAREJECTED)\n",
    "\n",
    "for f in range(len(all_verdicts)):\n",
    "    print(all_verdicts[f])"
   ]
  },
  {
   "cell_type": "markdown",
   "metadata": {},
   "source": [
    "# 5. Erstellen und Abschicken eines QA Report"
   ]
  },
  {
   "cell_type": "code",
   "execution_count": null,
   "metadata": {},
   "outputs": [],
   "source": [
    "from dataland_qa_lab.dataland import send_report_to_dataland as report\n",
    "\n",
    "for i in range(len(all_values_426)):\n",
    "    company_report_data = report.CompanyReportData(\n",
    "        file_reference=all_file_id[i], file_name=all_file_name[i], publication_date=None\n",
    "    )\n",
    "    document_reference_data = report.DocumentReferenceData(\n",
    "        file_reference=all_file_id[i], page=\"8\", tag_name=\"Test\", file_name=all_file_name[i]\n",
    "    )\n",
    "\n",
    "    report_data_instance = report.ReportData(\n",
    "        commentqareportdatapointmapstringcompanyreport=\"Kommentar zur QA-Zuordnung\",\n",
    "        commentqareportdatapointextendeddatapointyesno=\"Ja\",\n",
    "        commentextendeddatapointyesno=\"Nein\",\n",
    "        verdictqareportdatapointmapstringcompanyreport=all_verdicts[i],\n",
    "        verdictqareportdatapointextendeddatapointyesno=all_verdicts[i],\n",
    "        corrected_data={\"1.\": company_report_data},\n",
    "        value=section_426,\n",
    "        quality=\"Reported\",\n",
    "        data_source=document_reference_data,\n",
    "    )\n",
    "\n",
    "    report.send_report_to_dataland_method(\n",
    "        data_id=data_id, report_data=report_data_instance, dataland_client=dataland_client\n",
    "    )\n",
    "    print(report_data_instance)"
   ]
  }
 ],
 "metadata": {
  "kernelspec": {
   "display_name": ".venv",
   "language": "python",
   "name": "python3"
  },
  "language_info": {
   "codemirror_mode": {
    "name": "ipython",
    "version": 3
   },
   "file_extension": ".py",
   "mimetype": "text/x-python",
   "name": "python",
   "nbconvert_exporter": "python",
   "pygments_lexer": "ipython3",
   "version": "3.13.0"
  }
 },
 "nbformat": 4,
 "nbformat_minor": 2
}
