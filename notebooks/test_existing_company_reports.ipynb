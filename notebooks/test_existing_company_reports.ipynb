{
 "cells": [
  {
   "cell_type": "code",
   "execution_count": 6,
   "metadata": {},
   "outputs": [
    {
     "name": "stdout",
     "output_type": "stream",
     "text": [
      "YesNo.NO   YesNo.NO \n",
      "\n",
      "YesNo.NO   YesNo.NO \n",
      "\n",
      "YesNo.YES   YesNo.YES \n",
      "\n",
      "YesNo.YES   YesNo.YES \n",
      "\n",
      "YesNo.NO   YesNo.NO \n",
      "\n",
      "YesNo.NO   YesNo.NO \n",
      "\n"
     ]
    }
   ],
   "source": [
    "from pathlib import Path\n",
    "\n",
    "from dataland_qa_lab.dataland.data_provider import (\n",
    "    get_yes_no_values_by_data,\n",
    ")\n",
    "from dataland_qa_lab.pages.pages_provider import get_relevant_pages_of_pdf\n",
    "from dataland_qa_lab.pages.text_to_doc_intelligence import extract_text_of_pdf\n",
    "from dataland_qa_lab.review.yes_no_value_generator import extract_yes_no_template\n",
    "from dataland_qa_lab.utils import config\n",
    "from dataland_qa_lab.utils.nuclear_and_gas_data_collection import NuclearAndGasDataCollection\n",
    "\n",
    "conf = config.get_config()\n",
    "dataland_client = conf.dataland_client\n",
    "\n",
    "yes_no_values_dataland = []\n",
    "extracted_yes_no_values = []\n",
    "\n",
    "company_id = \"81a4f7e9-1bb4-4260-a044-790908fafe50\"\n",
    "\n",
    "data_id = dataland_client.eu_taxonomy_nuclear_and_gas_api.get_all_company_nuclear_and_gas_data(company_id=company_id)\n",
    "\n",
    "data_ids = []\n",
    "data_ids.append(data_id[0].meta_info.data_id)\n",
    "\n",
    "# currently only test for yes no values\n",
    "for data_id in data_ids:\n",
    "    data = dataland_client.eu_taxonomy_nuclear_and_gas_api.get_company_associated_nuclear_and_gas_data(\n",
    "        data_id=data_id\n",
    "    )\n",
    "    data_collection = NuclearAndGasDataCollection(dataset=data.data)\n",
    "\n",
    "    # get values on Dataland\n",
    "    yes_no_values_dataland.append(get_yes_no_values_by_data(data=data_collection))\n",
    "\n",
    "    # get values from AI\n",
    "    pdf_reader = get_relevant_pages_of_pdf(data_collection)\n",
    "    text_of_page = extract_text_of_pdf(pdf_reader)\n",
    "    extracted_yes_no_values.append(extract_yes_no_template(text_of_page))\n",
    "\n",
    "# values in dataland and extracted should be equal with a certain percentage\n",
    "threshold = 0.9\n",
    "\n",
    "total_sections = 0\n",
    "matching_sections = 0\n",
    "\n",
    "for dataland_dict, extracted_dict in zip(yes_no_values_dataland, extracted_yes_no_values, strict=False):\n",
    "    for key in dataland_dict:\n",
    "        print(dataland_dict[key], \" \", extracted_dict[key], \"\\n\")\n",
    "        total_sections += 1\n",
    "        if dataland_dict[key] == extracted_dict[key]:\n",
    "            matching_sections += 1\n",
    "\n",
    "matching_ratio = matching_sections / total_sections"
   ]
  }
 ],
 "metadata": {
  "kernelspec": {
   "display_name": ".venv",
   "language": "python",
   "name": "python3"
  },
  "language_info": {
   "codemirror_mode": {
    "name": "ipython",
    "version": 3
   },
   "file_extension": ".py",
   "mimetype": "text/x-python",
   "name": "python",
   "nbconvert_exporter": "python",
   "pygments_lexer": "ipython3",
   "version": "3.13.0"
  }
 },
 "nbformat": 4,
 "nbformat_minor": 2
}
