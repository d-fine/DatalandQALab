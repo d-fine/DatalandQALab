{
 "cells": [
  {
   "cell_type": "code",
   "execution_count": 53,
   "metadata": {},
   "outputs": [],
   "source": [
    "%run base.ipynb"
   ]
  },
  {
   "cell_type": "markdown",
   "metadata": {},
   "source": [
    "# End-2-End-Test\n",
    "Als QA-Lab-Team möchten wir einen einfachen E2E-Test aufsetzen, der die Gesamtfunktionalität unseres Prototypen testet"
   ]
  },
  {
   "cell_type": "markdown",
   "metadata": {},
   "source": [
    "# 1. Laden der Testdaten von Dataland\n",
    "Erstellen einer Liste mit allen Company IDs deren Nuclear & Gas Datasets wir in unserem Testdurchlauf verwenden möchten"
   ]
  },
  {
   "cell_type": "code",
   "execution_count": 54,
   "metadata": {},
   "outputs": [],
   "source": [
    "company_id_list = [\n",
    "    \"cb19fd04-f458-4c29-a175-2102e640cee2\",\n",
    "    \"888144af-aa27-4a60-8d5f-5805b2e3ee88\",\n",
    "    \"a9a0949a-5190-45c1-9542-4f445e63b368\",\n",
    "    \"298693d7-de4d-4599-a8d1-b85c8897d940\",\n",
    "    \"b3249e50-dede-4fc2-b348-8b8daf36aebe\"\n",
    "]"
   ]
  },
  {
   "cell_type": "code",
   "execution_count": 55,
   "metadata": {},
   "outputs": [],
   "source": [
    "from dataland_qa_lab.utils import config\n",
    "\n",
    "conf = config.get_config()\n",
    "dataland_client = conf.dataland_client"
   ]
  },
  {
   "cell_type": "markdown",
   "metadata": {},
   "source": [
    "Nun erstellen wir für jede CompanyID einen Nuclear & Gas Datensatz auf dataland.com"
   ]
  },
  {
   "cell_type": "code",
   "execution_count": 59,
   "metadata": {},
   "outputs": [],
   "source": [
    "from dataland_backend.models.company_associated_data_nuclear_and_gas_data import CompanyAssociatedDataNuclearAndGasData\n",
    "from dataland_backend.models.extended_data_point_yes_no import ExtendedDataPointYesNo\n",
    "from dataland_backend.models.nuclear_and_gas_data import NuclearAndGasData\n",
    "from dataland_backend.models.nuclear_and_gas_general import NuclearAndGasGeneral\n",
    "from dataland_backend.models.nuclear_and_gas_general_general import NuclearAndGasGeneralGeneral\n",
    "\n",
    "alternate_yes_no = [\"Yes\", \"No\"]\n",
    "alternate_switch = 0\n",
    "for i in range(len(company_id_list)):\n",
    "\n",
    "    nuclear_and_gas_dataset1 = NuclearAndGasData(\n",
    "        general=NuclearAndGasGeneral(\n",
    "            general=NuclearAndGasGeneralGeneral(\n",
    "                nuclearEnergyRelatedActivitiesSection426=ExtendedDataPointYesNo(\n",
    "                    value=alternate_yes_no[alternate_switch],\n",
    "                    quality=\"Reported\",\n",
    "                    comment=\"\",\n",
    "                    dataSource=None\n",
    "                )\n",
    "            )\n",
    "        )\n",
    "    )\n",
    "\n",
    "    company_nuclear_and_gas_data = CompanyAssociatedDataNuclearAndGasData(\n",
    "        company_id=company_id_list[i],\n",
    "        reportingPeriod=\"2024\",\n",
    "        data=nuclear_and_gas_dataset1,\n",
    "    )\n",
    "\n",
    "    api = dataland_client.eu_taxonomy_nuclear_gas_api\n",
    "    api.post_company_associated_nuclear_and_gas_data(company_nuclear_and_gas_data)\n",
    "\n",
    "    if (alternate_switch == 0):\n",
    "        alternate_switch = 1\n",
    "    if (alternate_switch == 1):\n",
    "        alternate_switch = 0\n"
   ]
  },
  {
   "cell_type": "markdown",
   "metadata": {},
   "source": [
    "Basierend auf der CompanyID laden wir nun das zugehörige Nuclear & Gas Dataset"
   ]
  },
  {
   "cell_type": "code",
   "execution_count": null,
   "metadata": {},
   "outputs": [],
   "source": [
    "company_id = company_id_list[4]\n",
    "\n",
    "dataset = dataland_client.eu_taxonomy_nuclear_gas_api.get_all_company_nuclear_and_gas_data(company_id=company_id)\n",
    "data_id = dataset[0].meta_info.data_id\n",
    "\n",
    "print(dataset)\n",
    "print(data_id)"
   ]
  },
  {
   "cell_type": "markdown",
   "metadata": {},
   "source": [
    "Die ersten sechs Datenpunkte aus dem Nuclear & Gas Dataset werden geladen (Meldebogen 1)"
   ]
  },
  {
   "cell_type": "code",
   "execution_count": null,
   "metadata": {},
   "outputs": [],
   "source": [
    "for i in dataset:\n",
    "\n",
    "    print(\"1. Datenpunkt: \" + i.data.general.general.nuclear_energy_related_activities_section426.value.value)\n",
    "    # print(\"2. Datenpunkt: \" + i.data.general.general.nuclear_energy_related_activities_section427.value.value)\n",
    "    # print(\"3. Datenpunkt: \" + i.data.general.general.nuclear_energy_related_activities_section428.value.value)\n",
    "    # print(\"4. Datenpunkt: \" + i.data.general.general.fossil_gas_related_activities_section429.value.value)\n",
    "    # print(\"5. Datenpunkt: \" + i.data.general.general.fossil_gas_related_activities_section430.value.value)\n",
    "    # print(\"6. Datenpunkt: \" + i.data.general.general.fossil_gas_related_activities_section431.value.value)\n",
    "    first_datapoint = i.data.general.general.nuclear_energy_related_activities_section426"
   ]
  },
  {
   "cell_type": "markdown",
   "metadata": {},
   "source": [
    "# 2. Laden der Datenquelle von Dataland und Überführen in Textform"
   ]
  },
  {
   "cell_type": "code",
   "execution_count": 63,
   "metadata": {},
   "outputs": [],
   "source": [
    "document_bytes = dataland_client.documents_api.get_document(first_datapoint.data_source.file_reference)"
   ]
  },
  {
   "cell_type": "markdown",
   "metadata": {},
   "source": [
    "Finden des relevanten Bereichs im PDF-Dokument"
   ]
  },
  {
   "cell_type": "code",
   "execution_count": 64,
   "metadata": {},
   "outputs": [],
   "source": [
    "import io\n",
    "\n",
    "import pypdf\n",
    "\n",
    "full_document_byte_stream = io.BytesIO(document_bytes)\n",
    "full_pdf = pypdf.PdfReader(full_document_byte_stream)\n",
    "\n",
    "partial_document_byte_stream = io.BytesIO()\n",
    "partial_pdf = pypdf.PdfWriter()\n",
    "\n",
    "partial_pdf.add_page(full_pdf.get_page(int(first_datapoint.data_source.page) - 1))  # Correct for 0 offset\n",
    "partial_pdf.write(partial_document_byte_stream)\n",
    "partial_document_byte_stream.seek(0)\n",
    "None"
   ]
  },
  {
   "cell_type": "markdown",
   "metadata": {},
   "source": [
    "Nun nutzen wir die Azure Document Intelligence API, um den Text aus dem PDF zu extrahieren."
   ]
  },
  {
   "cell_type": "code",
   "execution_count": 65,
   "metadata": {},
   "outputs": [],
   "source": [
    "from azure.ai.documentintelligence import DocumentIntelligenceClient\n",
    "from azure.ai.documentintelligence.models import AnalyzeResult, ContentFormat\n",
    "from azure.core.credentials import AzureKeyCredential\n",
    "\n",
    "docintel_cred = AzureKeyCredential(conf.azure_docintel_api_key)\n",
    "document_intelligence_client = DocumentIntelligenceClient(\n",
    "    endpoint=conf.azure_docintel_endpoint, credential=docintel_cred\n",
    ")\n",
    "\n",
    "poller = document_intelligence_client.begin_analyze_document(\n",
    "    \"prebuilt-layout\",\n",
    "    analyze_request=partial_document_byte_stream,\n",
    "    content_type=\"application/octet-stream\",\n",
    "    output_content_format=ContentFormat.MARKDOWN,\n",
    ")\n",
    "result: AnalyzeResult = poller.result()"
   ]
  },
  {
   "cell_type": "markdown",
   "metadata": {},
   "source": [
    "Das Ergebnis können wir uns direkt im Notebook anzeigen lassen."
   ]
  },
  {
   "cell_type": "code",
   "execution_count": null,
   "metadata": {},
   "outputs": [],
   "source": [
    "from IPython.display import Markdown, display\n",
    "\n",
    "display(Markdown(result.content))"
   ]
  },
  {
   "cell_type": "markdown",
   "metadata": {},
   "source": [
    "# 3. Verifizierung mithilfe von GPT-4o"
   ]
  },
  {
   "cell_type": "code",
   "execution_count": 67,
   "metadata": {},
   "outputs": [],
   "source": [
    "from openai import AzureOpenAI\n",
    "\n",
    "client = AzureOpenAI(\n",
    "    api_key=conf.azure_openai_api_key, api_version=\"2024-07-01-preview\", azure_endpoint=conf.azure_openai_endpoint\n",
    ")\n",
    "\n",
    "deployment_name = \"gpt-4o\"\n",
    "\n",
    "prompt = f\"\"\"\n",
    "You are an AI research Agent. As the agent, you answer questions briefly, succinctly, and factually.\n",
    "Always justify you answer.\n",
    "\n",
    "# Safety\n",
    "- You **should always** reference factual statements to search results based on [relevant documents]\n",
    "- Search results based on [relevant documents] may be incomplete or irrelevant. You do not make assumptions\n",
    "  on the search results beyond strictly what's returned.\n",
    "- If the search results based on [relevant documents] do not contain sufficient information to answer user\n",
    "  message completely, you respond using the tool 'cannot_answer_question'\n",
    "- Your responses should avoid being vague, controversial or off-topic.\n",
    "\n",
    "# Task\n",
    "Given the information from the [relevant documents], is the company engaged in the research, development,\n",
    "demonstration, and deployment of innovative power generation facilities that generate energy from nuclear\n",
    "processes with minimal waste from the fuel cycle, finance such activities, or hold risk positions related\n",
    "to these activities? Just answer the question with yes or no. The answer should not be longer than 3\n",
    "characters and should not include punctation.\n",
    "\n",
    "# Relevant Documents\n",
    "{result.content}\n",
    "\"\"\"\n",
    "\n",
    "initial_openai_response = client.chat.completions.create(\n",
    "    model=deployment_name,\n",
    "    temperature=0,\n",
    "    messages=[\n",
    "        {\"role\": \"system\", \"content\": prompt},\n",
    "    ],\n",
    ")\n",
    "print(initial_openai_response.choices[0].message.content)\n",
    "report_value = initial_openai_response.choices[0].message.content"
   ]
  },
  {
   "cell_type": "markdown",
   "metadata": {},
   "source": [
    "# 4. Vergleich der beiden Werte"
   ]
  },
  {
   "cell_type": "code",
   "execution_count": null,
   "metadata": {},
   "outputs": [],
   "source": [
    "print(f\"Wert in Dataland: \\t{first_datapoint.value.value}\")\n",
    "print(f\"Wert im Bericht: \\t{report_value}\")"
   ]
  },
  {
   "cell_type": "markdown",
   "metadata": {},
   "source": [
    "# 5. Erstellen und Abschicken eines QA Report"
   ]
  },
  {
   "cell_type": "code",
   "execution_count": null,
   "metadata": {},
   "outputs": [],
   "source": [
    "from dataland_qa.models.extended_data_point_yes_no import ExtendedDataPointYesNo\n",
    "from dataland_qa.models.nuclear_and_gas_data import NuclearAndGasData\n",
    "from dataland_qa.models.nuclear_and_gas_general import NuclearAndGasGeneral\n",
    "from dataland_qa.models.nuclear_and_gas_general_general import NuclearAndGasGeneralGeneral\n",
    "from dataland_qa.models.qa_report_data_point_extended_data_point_yes_no import QaReportDataPointExtendedDataPointYesNo\n",
    "from dataland_qa.models.qa_report_data_point_verdict import QaReportDataPointVerdict\n",
    "\n",
    "selected_qa_report = NuclearAndGasData(\n",
    "    general=NuclearAndGasGeneral(\n",
    "        general=NuclearAndGasGeneralGeneral(\n",
    "            nuclear_energy_related_activities_section426=QaReportDataPointExtendedDataPointYesNo(\n",
    "                comment=\"The value in the report is incorrect. The correct value is No\",\n",
    "                verdict=QaReportDataPointVerdict.QAREJECTED,\n",
    "                correctedData=ExtendedDataPointYesNo(\n",
    "                    value=report_value,\n",
    "                    quality=\"Reported\",\n",
    "                )\n",
    "            )\n",
    "        )\n",
    "    )\n",
    ")\n",
    "\n",
    "api = dataland_client.eu_taxonomy_nuclear_gas_qa_api\n",
    "api.post_nuclear_and_gas_data_qa_report(data_id, selected_qa_report)"
   ]
  }
 ],
 "metadata": {
  "kernelspec": {
   "display_name": ".venv",
   "language": "python",
   "name": "python3"
  },
  "language_info": {
   "codemirror_mode": {
    "name": "ipython",
    "version": 3
   },
   "file_extension": ".py",
   "mimetype": "text/x-python",
   "name": "python",
   "nbconvert_exporter": "python",
   "pygments_lexer": "ipython3",
   "version": "3.13.0"
  }
 },
 "nbformat": 4,
 "nbformat_minor": 2
}
