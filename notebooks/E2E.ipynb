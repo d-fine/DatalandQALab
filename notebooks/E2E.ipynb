{
 "cells": [
  {
   "cell_type": "code",
   "execution_count": 85,
   "metadata": {},
   "outputs": [],
   "source": [
    "%run base.ipynb"
   ]
  },
  {
   "cell_type": "markdown",
   "metadata": {},
   "source": [
    "# End-2-End-Test\n",
    "Als QA-Lab-Team möchten wir einen einfachen E2E-Test aufsetzen, der die Gesamtfunktionalität unseres Prototypen testet"
   ]
  },
  {
   "cell_type": "markdown",
   "metadata": {},
   "source": [
    "# 1. Laden der Testdaten von Dataland\n",
    "Erstellen einer Liste mit allen Company IDs deren Nuclear & Gas Datasets wir in unserem Testdurchlauf verwenden möchten"
   ]
  },
  {
   "cell_type": "code",
   "execution_count": 86,
   "metadata": {},
   "outputs": [],
   "source": [
    "company_id_list = [\n",
    "    \"4423c691-0436-423f-abcb-0a08127ee848\",\n",
    "    \"660e1da9-66ac-476e-9c57-034343e392cd\",\n",
    "    \"82bedcc2-3f13-43cf-8579-c46f816d57fe\",\n",
    "    \"deb294b8-123e-4fb9-b834-4fa322b30883\",\n",
    "    \"f2451040-7019-4044-86e5-8137c4fda811\",\n",
    "    # \"8054c2ce-3c6d-4078-8f69-78f8c648a5d6\",\n",
    "]"
   ]
  },
  {
   "cell_type": "code",
   "execution_count": 87,
   "metadata": {},
   "outputs": [],
   "source": [
    "from dataland_qa_lab.utils import config\n",
    "\n",
    "conf = config.get_config()\n",
    "dataland_client = conf.dataland_client"
   ]
  },
  {
   "cell_type": "markdown",
   "metadata": {},
   "source": [
    "Nun erstellen wir für jede CompanyID einen Nuclear & Gas Datensatz auf dataland.com"
   ]
  },
  {
   "cell_type": "code",
   "execution_count": 88,
   "metadata": {},
   "outputs": [],
   "source": [
    "from dataland_backend.models.company_associated_data_nuclear_and_gas_data import CompanyAssociatedDataNuclearAndGasData\n",
    "from dataland_backend.models.extended_data_point_yes_no import ExtendedDataPointYesNo\n",
    "from dataland_backend.models.nuclear_and_gas_data import NuclearAndGasData\n",
    "from dataland_backend.models.nuclear_and_gas_general import NuclearAndGasGeneral\n",
    "from dataland_backend.models.nuclear_and_gas_general_general import NuclearAndGasGeneralGeneral\n",
    "\n",
    "alternate_yes_no = [\"Yes\", \"No\"]\n",
    "alternate_switch = 0\n",
    "for i in range(len(company_id_list)):\n",
    "    nuclear_and_gas_dataset1 = NuclearAndGasData(\n",
    "        general=NuclearAndGasGeneral(\n",
    "            general=NuclearAndGasGeneralGeneral(\n",
    "                nuclearEnergyRelatedActivitiesSection426=ExtendedDataPointYesNo(\n",
    "                    value=alternate_yes_no[alternate_switch], quality=\"Reported\", comment=\"\", dataSource=None\n",
    "                )\n",
    "            )\n",
    "        )\n",
    "    )\n",
    "\n",
    "    company_nuclear_and_gas_data = CompanyAssociatedDataNuclearAndGasData(\n",
    "        company_id=company_id_list[i],\n",
    "        reportingPeriod=\"2024\",\n",
    "        data=nuclear_and_gas_dataset1,\n",
    "    )\n",
    "\n",
    "    api = dataland_client.eu_taxonomy_nuclear_gas_api\n",
    "    api.post_company_associated_nuclear_and_gas_data(company_nuclear_and_gas_data)\n",
    "\n",
    "    if alternate_switch == 0:\n",
    "        alternate_switch = 1\n",
    "    if alternate_switch == 1:\n",
    "        alternate_switch = 0"
   ]
  },
  {
   "cell_type": "markdown",
   "metadata": {},
   "source": [
    "Basierend auf der CompanyID laden wir nun das zugehörige Nuclear & Gas Dataset"
   ]
  },
  {
   "cell_type": "code",
   "execution_count": 89,
   "metadata": {},
   "outputs": [
    {
     "name": "stdout",
     "output_type": "stream",
     "text": [
      "[DataAndMetaInformationNuclearAndGasData(meta_info=DataMetaInformation(data_id='d67db903-575d-48c3-99c3-b7f3f8ea174f', company_id='4423c691-0436-423f-abcb-0a08127ee848', data_type=<DataTypeEnum.NUCLEAR_MINUS_AND_MINUS_GAS: 'nuclear-and-gas'>, uploader_user_id='143995c1-1ead-4324-a49f-043eeaabace4', upload_time=1732022857239, reporting_period='2024', currently_active=True, qa_status=<QaStatus.ACCEPTED: 'Accepted'>), data=NuclearAndGasData(general=NuclearAndGasGeneral(general=NuclearAndGasGeneralGeneral(referenced_reports={'MVV 2023_engl': CompanyReport(file_reference='893f3ce12424765026ff72770f5982ec895e7befc880a71606e96b926cfd0a34', file_name=None, publication_date=datetime.date(2024, 11, 19))}, nuclear_energy_related_activities_section426=ExtendedDataPointYesNo(value=<YesNo.YES: 'Yes'>, quality=<QualityOptions.REPORTED: 'Reported'>, comment='', data_source=ExtendedDocumentReference(page='271', tag_name=None, file_name='MVV 2023_engl', file_reference='893f3ce12424765026ff72770f5982ec895e7befc880a71606e96b926cfd0a34')), nuclear_energy_related_activities_section427=None, nuclear_energy_related_activities_section428=None, fossil_gas_related_activities_section429=None, fossil_gas_related_activities_section430=None, fossil_gas_related_activities_section431=None), taxonomy_aligned_denominator=NuclearAndGasGeneralTaxonomyAlignedDenominator(nuclear_and_gas_taxonomy_aligned_revenue_denominator=None, nuclear_and_gas_taxonomy_aligned_capex_denominator=None), taxonomy_aligned_numerator=NuclearAndGasGeneralTaxonomyAlignedNumerator(nuclear_and_gas_taxonomy_aligned_revenue_numerator=None, nuclear_and_gas_taxonomy_aligned_capex_numerator=None), taxonomy_eligible_but_not_aligned=NuclearAndGasGeneralTaxonomyEligibleButNotAligned(nuclear_and_gas_taxonomy_eligible_but_not_aligned_revenue=None, nuclear_and_gas_taxonomy_eligible_but_not_aligned_capex=None), taxonomy_non_eligible=NuclearAndGasGeneralTaxonomyNonEligible(nuclear_and_gas_taxonomy_non_eligible_revenue=None, nuclear_and_gas_taxonomy_non_eligible_capex=None))))]\n",
      "d67db903-575d-48c3-99c3-b7f3f8ea174f\n"
     ]
    }
   ],
   "source": [
    "company_id = company_id_list[0]\n",
    "\n",
    "dataset = dataland_client.eu_taxonomy_nuclear_gas_api.get_all_company_nuclear_and_gas_data(company_id=company_id)\n",
    "data_id = dataset[0].meta_info.data_id\n",
    "\n",
    "print(dataset)\n",
    "print(data_id)"
   ]
  },
  {
   "cell_type": "markdown",
   "metadata": {},
   "source": [
    "Die ersten sechs Datenpunkte aus dem Nuclear & Gas Dataset werden geladen (Meldebogen 1)"
   ]
  },
  {
   "cell_type": "code",
   "execution_count": 90,
   "metadata": {},
   "outputs": [
    {
     "name": "stdout",
     "output_type": "stream",
     "text": [
      "1. Datenpunkt: Yes\n"
     ]
    }
   ],
   "source": [
    "for i in dataset:\n",
    "    print(\"1. Datenpunkt: \" + i.data.general.general.nuclear_energy_related_activities_section426.value.value)\n",
    "    # print(\"2. Datenpunkt: \" + i.data.general.general.nuclear_energy_related_activities_section427.value.value)\n",
    "    # print(\"3. Datenpunkt: \" + i.data.general.general.nuclear_energy_related_activities_section428.value.value)\n",
    "    # print(\"4. Datenpunkt: \" + i.data.general.general.fossil_gas_related_activities_section429.value.value)\n",
    "    # print(\"5. Datenpunkt: \" + i.data.general.general.fossil_gas_related_activities_section430.value.value)\n",
    "    # print(\"6. Datenpunkt: \" + i.data.general.general.fossil_gas_related_activities_section431.value.value)\n",
    "    first_datapoint = i.data.general.general.nuclear_energy_related_activities_section426"
   ]
  },
  {
   "cell_type": "markdown",
   "metadata": {},
   "source": [
    "# 2. Laden der Datenquelle von Dataland und Überführen in Textform"
   ]
  },
  {
   "cell_type": "code",
   "execution_count": 91,
   "metadata": {},
   "outputs": [],
   "source": [
    "document_bytes = dataland_client.documents_api.get_document(first_datapoint.data_source.file_reference)"
   ]
  },
  {
   "cell_type": "markdown",
   "metadata": {},
   "source": [
    "Finden des relevanten Bereichs im PDF-Dokument"
   ]
  },
  {
   "cell_type": "code",
   "execution_count": 92,
   "metadata": {},
   "outputs": [],
   "source": [
    "import io\n",
    "\n",
    "import pypdf\n",
    "\n",
    "full_document_byte_stream = io.BytesIO(document_bytes)\n",
    "full_pdf = pypdf.PdfReader(full_document_byte_stream)\n",
    "\n",
    "partial_document_byte_stream = io.BytesIO()\n",
    "partial_pdf = pypdf.PdfWriter()\n",
    "\n",
    "partial_pdf.add_page(full_pdf.get_page(int(first_datapoint.data_source.page) - 1))  # Correct for 0 offset\n",
    "partial_pdf.write(partial_document_byte_stream)\n",
    "partial_document_byte_stream.seek(0)\n",
    "None"
   ]
  },
  {
   "cell_type": "markdown",
   "metadata": {},
   "source": [
    "Nun nutzen wir die Azure Document Intelligence API, um den Text aus dem PDF zu extrahieren."
   ]
  },
  {
   "cell_type": "code",
   "execution_count": 93,
   "metadata": {},
   "outputs": [],
   "source": [
    "from azure.ai.documentintelligence import DocumentIntelligenceClient\n",
    "from azure.ai.documentintelligence.models import AnalyzeResult, ContentFormat\n",
    "from azure.core.credentials import AzureKeyCredential\n",
    "\n",
    "docintel_cred = AzureKeyCredential(conf.azure_docintel_api_key)\n",
    "document_intelligence_client = DocumentIntelligenceClient(\n",
    "    endpoint=conf.azure_docintel_endpoint, credential=docintel_cred\n",
    ")\n",
    "\n",
    "poller = document_intelligence_client.begin_analyze_document(\n",
    "    \"prebuilt-layout\",\n",
    "    analyze_request=partial_document_byte_stream,\n",
    "    content_type=\"application/octet-stream\",\n",
    "    output_content_format=ContentFormat.MARKDOWN,\n",
    ")\n",
    "result: AnalyzeResult = poller.result()"
   ]
  },
  {
   "cell_type": "markdown",
   "metadata": {},
   "source": [
    "Das Ergebnis können wir uns direkt im Notebook anzeigen lassen."
   ]
  },
  {
   "cell_type": "code",
   "execution_count": 94,
   "metadata": {},
   "outputs": [
    {
     "data": {
      "text/markdown": [
       "<!-- PageHeader=\"Other Disclosures > EU Taxonomy Tables\" -->\n",
       "\n",
       "\n",
       "# Sales (turnover)\n",
       "\n",
       "\n",
       "<table>\n",
       "<caption>Sales (turnover) FY 2023: Template 1 Nuclear and fossil gas related activities</caption>\n",
       "<tr>\n",
       "<th>Row</th>\n",
       "<th>Nuclear energy related activities</th>\n",
       "<th></th>\n",
       "</tr>\n",
       "<tr>\n",
       "<td>1.</td>\n",
       "<td>The undertaking carries out, funds or has exposures to research, development, demonstration and deployment of innovative electricity generation facilities that produce energy from nuclear processes with minimal waste from the fuel cycle.</td>\n",
       "<td>No</td>\n",
       "</tr>\n",
       "<tr>\n",
       "<td>2.</td>\n",
       "<td>The undertaking carries out, funds or has exposures to construction and safe operation of new nuclear installations to produce electricity or process heat, including for the purposes of district heating or industrial processes such as hydrogen production, as well as their safety upgrades, using best available technologies.</td>\n",
       "<td>No</td>\n",
       "</tr>\n",
       "<tr>\n",
       "<td>3.</td>\n",
       "<td>The undertaking carries out, funds or has exposures to safe operation of existing nuclear installations that produce electricity or process heat, including for the purposes of district heating or industrial processes such as hydrogen production, from nuclear energy, as well as their safety upgrades.</td>\n",
       "<td>No</td>\n",
       "</tr>\n",
       "<tr>\n",
       "<td>Row</td>\n",
       "<td>Fossil gas related activities</td>\n",
       "<td></td>\n",
       "</tr>\n",
       "<tr>\n",
       "<td>4.</td>\n",
       "<td>The undertaking carries out, funds or has exposures to construction or operation of electricity generation facilities that produce electricity using fossil gaseous fuels.</td>\n",
       "<td>Yes</td>\n",
       "</tr>\n",
       "<tr>\n",
       "<td>5.</td>\n",
       "<td>The undertaking carries out, funds or has exposures to construction, refurbishment and operation of combined heat/cool and power generation facilities using fossil gaseous fuels.</td>\n",
       "<td>Yes</td>\n",
       "</tr>\n",
       "<tr>\n",
       "<td>6.</td>\n",
       "<td>The undertaking carries out, funds or has exposures to construction, refurbishment and operation of heat generation facilities that produce heat/cool using fossil gaseous fuels.</td>\n",
       "<td>Yes</td>\n",
       "</tr>\n",
       "</table>\n",
       "\n",
       "\n",
       "## Sales (turnover) FY 2023: Template 2 Taxonomy-aligned economic activities (denominator)\n",
       "\n",
       "\n",
       "<table>\n",
       "<tr>\n",
       "<th>Row</th>\n",
       "<th>Economic activities</th>\n",
       "<th colspan=\"6\">Amount and proportion (disclosed as monetary amounts and percentages)</th>\n",
       "</tr>\n",
       "<tr>\n",
       "<th></th>\n",
       "<th></th>\n",
       "<th colspan=\"2\">CCM + CCA</th>\n",
       "<th colspan=\"2\">Climate change mitigation (CCM)</th>\n",
       "<th colspan=\"2\">Climate change adaptation (CCA)</th>\n",
       "</tr>\n",
       "<tr>\n",
       "<th></th>\n",
       "<th></th>\n",
       "<th>Euro 000</th>\n",
       "<th>%</th>\n",
       "<th>Euro 000s</th>\n",
       "<th>%</th>\n",
       "<th>Euro 000s</th>\n",
       "<th>%</th>\n",
       "</tr>\n",
       "<tr>\n",
       "<td>1.</td>\n",
       "<td>Amount and proportion of taxonomy-aligned economic activity referred to in Section 4.26 of Annexes I and II to Delegated Regulation 2021/2139 in the denominator of the applicable KPI</td>\n",
       "<td>–</td>\n",
       "<td>–</td>\n",
       "<td>–</td>\n",
       "<td>–</td>\n",
       "<td>–</td>\n",
       "<td>–</td>\n",
       "</tr>\n",
       "<tr>\n",
       "<td>2.</td>\n",
       "<td>Amount and proportion of taxonomy-aligned economic activity referred to in Section 4.27 of Annexes I and II to Delegated Regulation 2021/2139 in the denominator of the applicable KPI</td>\n",
       "<td>–</td>\n",
       "<td>–</td>\n",
       "<td>–</td>\n",
       "<td>–</td>\n",
       "<td>–</td>\n",
       "<td>–</td>\n",
       "</tr>\n",
       "<tr>\n",
       "<td>3.</td>\n",
       "<td>Amount and proportion of taxonomy-aligned economic activity referred to in Section 4.28 of Annexes I and II to Delegated Regulation 2021/2139 in the denominator of the applicable KPI</td>\n",
       "<td>–</td>\n",
       "<td>–</td>\n",
       "<td>–</td>\n",
       "<td>–</td>\n",
       "<td>–</td>\n",
       "<td>–</td>\n",
       "</tr>\n",
       "<tr>\n",
       "<td>4.</td>\n",
       "<td>Amount and proportion of taxonomy-aligned economic activity referred to in Section 4.29 of Annexes I and II to Delegated Regulation 2021/2139 in the denominator of the applicable KPI</td>\n",
       "<td>0</td>\n",
       "<td>0.0</td>\n",
       "<td>0</td>\n",
       "<td>0.0</td>\n",
       "<td>–</td>\n",
       "<td>–</td>\n",
       "</tr>\n",
       "<tr>\n",
       "<td>5.</td>\n",
       "<td>Amount and proportion of taxonomy-aligned economic activity referred to in Section 4.30 of Annexes I and II to Delegated Regulation 2021/2139 in the denominator of the applicable KPI</td>\n",
       "<td>35,890</td>\n",
       "<td>0.5</td>\n",
       "<td>35,890</td>\n",
       "<td>0.5</td>\n",
       "<td>–</td>\n",
       "<td>–</td>\n",
       "</tr>\n",
       "<tr>\n",
       "<td>6.</td>\n",
       "<td>Amount and proportion of taxonomy-aligned economic activity referred to in Section 4.31 of Annexes I and II to Delegated Regulation 2021/2139 in the denominator of the applicable KPI</td>\n",
       "<td>0</td>\n",
       "<td>0.0</td>\n",
       "<td>0</td>\n",
       "<td>0.0</td>\n",
       "<td>–</td>\n",
       "<td>–</td>\n",
       "</tr>\n",
       "<tr>\n",
       "<td>7.</td>\n",
       "<td>Amount and proportion of other taxonomy-aligned economic activities not referred to in rows 1 to 6 above in the denominator of the applicable KPI</td>\n",
       "<td>918,790</td>\n",
       "<td>12.2</td>\n",
       "<td>918,790</td>\n",
       "<td>12.2</td>\n",
       "<td>–</td>\n",
       "<td>–</td>\n",
       "</tr>\n",
       "<tr>\n",
       "<td>8.</td>\n",
       "<td>Total applicable KPI</td>\n",
       "<td>7,530,520</td>\n",
       "<td></td>\n",
       "<td></td>\n",
       "<td></td>\n",
       "<td></td>\n",
       "<td></td>\n",
       "</tr>\n",
       "</table>\n",
       "\n",
       "\n",
       "<!-- PageFooter=\"MVV Annual Report 2023\" -->\n",
       "<!-- PageNumber=\"271\" -->\n"
      ],
      "text/plain": [
       "<IPython.core.display.Markdown object>"
      ]
     },
     "metadata": {},
     "output_type": "display_data"
    }
   ],
   "source": [
    "from IPython.display import Markdown, display\n",
    "\n",
    "display(Markdown(result.content))"
   ]
  },
  {
   "cell_type": "markdown",
   "metadata": {},
   "source": [
    "# 3. Verifizierung mithilfe von GPT-4o"
   ]
  },
  {
   "cell_type": "code",
   "execution_count": 95,
   "metadata": {},
   "outputs": [
    {
     "name": "stdout",
     "output_type": "stream",
     "text": [
      "No\n"
     ]
    }
   ],
   "source": [
    "from openai import AzureOpenAI\n",
    "\n",
    "client = AzureOpenAI(\n",
    "    api_key=conf.azure_openai_api_key, api_version=\"2024-07-01-preview\", azure_endpoint=conf.azure_openai_endpoint\n",
    ")\n",
    "\n",
    "deployment_name = \"gpt-4o\"\n",
    "\n",
    "prompt = f\"\"\"\n",
    "You are an AI research Agent. As the agent, you answer questions briefly, succinctly, and factually.\n",
    "Always justify you answer.\n",
    "\n",
    "# Safety\n",
    "- You **should always** reference factual statements to search results based on [relevant documents]\n",
    "- Search results based on [relevant documents] may be incomplete or irrelevant. You do not make assumptions\n",
    "  on the search results beyond strictly what's returned.\n",
    "- If the search results based on [relevant documents] do not contain sufficient information to answer user\n",
    "  message completely, you respond using the tool 'cannot_answer_question'\n",
    "- Your responses should avoid being vague, controversial or off-topic.\n",
    "\n",
    "# Task\n",
    "Given the information from the [relevant documents], is the company engaged in the research, development,\n",
    "demonstration, and deployment of innovative power generation facilities that generate energy from nuclear\n",
    "processes with minimal waste from the fuel cycle, finance such activities, or hold risk positions related\n",
    "to these activities? Just answer the question with yes or no. The answer should not be longer than 3\n",
    "characters and should not include punctation.\n",
    "\n",
    "# Relevant Documents\n",
    "{result.content}\n",
    "\"\"\"\n",
    "\n",
    "initial_openai_response = client.chat.completions.create(\n",
    "    model=deployment_name,\n",
    "    temperature=0,\n",
    "    messages=[\n",
    "        {\"role\": \"system\", \"content\": prompt},\n",
    "    ],\n",
    ")\n",
    "print(initial_openai_response.choices[0].message.content)\n",
    "report_value = initial_openai_response.choices[0].message.content"
   ]
  },
  {
   "cell_type": "markdown",
   "metadata": {},
   "source": [
    "# 4. Vergleich der beiden Werte"
   ]
  },
  {
   "cell_type": "code",
   "execution_count": 96,
   "metadata": {},
   "outputs": [
    {
     "name": "stdout",
     "output_type": "stream",
     "text": [
      "Wert in Dataland: \tYes\n",
      "Wert im Bericht: \tNo\n"
     ]
    }
   ],
   "source": [
    "print(f\"Wert in Dataland: \\t{first_datapoint.value.value}\")\n",
    "print(f\"Wert im Bericht: \\t{report_value}\")"
   ]
  },
  {
   "cell_type": "markdown",
   "metadata": {},
   "source": [
    "# 5. Erstellen und Abschicken eines QA Report"
   ]
  },
  {
   "cell_type": "code",
   "execution_count": 97,
   "metadata": {},
   "outputs": [
    {
     "data": {
      "text/plain": [
       "QaReportMetaInformation(data_id='d67db903-575d-48c3-99c3-b7f3f8ea174f', data_type='nuclear-and-gas', qa_report_id='9bcb8023-b53a-4729-b18c-263f5ba39ba0', reporter_user_id='44d4e795-c0ee-468b-bd99-edf783a1d991', upload_time=1732023500463, active=True)"
      ]
     },
     "execution_count": 97,
     "metadata": {},
     "output_type": "execute_result"
    }
   ],
   "source": [
    "from dataland_qa.models.extended_data_point_yes_no import ExtendedDataPointYesNo\n",
    "from dataland_qa.models.nuclear_and_gas_data import NuclearAndGasData\n",
    "from dataland_qa.models.nuclear_and_gas_general import NuclearAndGasGeneral\n",
    "from dataland_qa.models.nuclear_and_gas_general_general import NuclearAndGasGeneralGeneral\n",
    "from dataland_qa.models.qa_report_data_point_extended_data_point_yes_no import QaReportDataPointExtendedDataPointYesNo\n",
    "from dataland_qa.models.qa_report_data_point_verdict import QaReportDataPointVerdict\n",
    "\n",
    "selected_qa_report = NuclearAndGasData(\n",
    "    general=NuclearAndGasGeneral(\n",
    "        general=NuclearAndGasGeneralGeneral(\n",
    "            nuclear_energy_related_activities_section426=QaReportDataPointExtendedDataPointYesNo(\n",
    "                comment=\"The value in the report is incorrect. The correct value is No\",\n",
    "                verdict=QaReportDataPointVerdict.QAREJECTED,\n",
    "                correctedData=ExtendedDataPointYesNo(\n",
    "                    value=report_value,\n",
    "                    quality=\"Reported\",\n",
    "                ),\n",
    "            )\n",
    "        )\n",
    "    )\n",
    ")\n",
    "\n",
    "api = dataland_client.eu_taxonomy_nuclear_gas_qa_api\n",
    "api.post_nuclear_and_gas_data_qa_report(data_id, selected_qa_report)"
   ]
  }
 ],
 "metadata": {
  "kernelspec": {
   "display_name": ".venv",
   "language": "python",
   "name": "python3"
  },
  "language_info": {
   "codemirror_mode": {
    "name": "ipython",
    "version": 3
   },
   "file_extension": ".py",
   "mimetype": "text/x-python",
   "name": "python",
   "nbconvert_exporter": "python",
   "pygments_lexer": "ipython3",
   "version": "3.13.0"
  }
 },
 "nbformat": 4,
 "nbformat_minor": 2
}
