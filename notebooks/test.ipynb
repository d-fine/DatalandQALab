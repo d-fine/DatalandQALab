{
 "cells": [
  {
   "cell_type": "code",
   "execution_count": 1,
   "metadata": {},
   "outputs": [
    {
     "name": "stdout",
     "output_type": "stream",
     "text": [
      "general=NuclearAndGasGeneral(general=NuclearAndGasGeneralGeneral(referenced_reports=None, nuclear_energy_related_activities_section426=QaReportDataPointExtendedDataPointYesNo(comment='Geprüft durch AzureOpenAI', verdict=<QaReportDataPointVerdict.QAACCEPTED: 'QaAccepted'>, corrected_data=ExtendedDataPointYesNo(value=None, quality=None, comment=None, data_source=None)), nuclear_energy_related_activities_section427=QaReportDataPointExtendedDataPointYesNo(comment='Geprüft durch AzureOpenAI', verdict=<QaReportDataPointVerdict.QAACCEPTED: 'QaAccepted'>, corrected_data=ExtendedDataPointYesNo(value=None, quality=None, comment=None, data_source=None)), nuclear_energy_related_activities_section428=QaReportDataPointExtendedDataPointYesNo(comment='Geprüft durch AzureOpenAI', verdict=<QaReportDataPointVerdict.QAACCEPTED: 'QaAccepted'>, corrected_data=ExtendedDataPointYesNo(value=None, quality=None, comment=None, data_source=None)), fossil_gas_related_activities_section429=QaReportDataPointExtendedDataPointYesNo(comment='Geprüft durch AzureOpenAI', verdict=<QaReportDataPointVerdict.QAACCEPTED: 'QaAccepted'>, corrected_data=ExtendedDataPointYesNo(value=None, quality=None, comment=None, data_source=None)), fossil_gas_related_activities_section430=QaReportDataPointExtendedDataPointYesNo(comment='Geprüft durch AzureOpenAI', verdict=<QaReportDataPointVerdict.QAACCEPTED: 'QaAccepted'>, corrected_data=ExtendedDataPointYesNo(value=None, quality=None, comment=None, data_source=None)), fossil_gas_related_activities_section431=QaReportDataPointExtendedDataPointYesNo(comment='Geprüft durch AzureOpenAI', verdict=<QaReportDataPointVerdict.QAACCEPTED: 'QaAccepted'>, corrected_data=ExtendedDataPointYesNo(value=None, quality=None, comment=None, data_source=None))), taxonomy_aligned_denominator=NuclearAndGasGeneralTaxonomyAlignedDenominator(nuclear_and_gas_taxonomy_aligned_revenue_denominator=QaReportDataPointExtendedDataPointNuclearAndGasAlignedDenominator(comment=\"No Data found for 'taxonomy_aligned_share_denominator_other_activities': 0 != -1.0.\", verdict=<QaReportDataPointVerdict.QAREJECTED: 'QaRejected'>, corrected_data=ExtendedDataPointNuclearAndGasAlignedDenominator(value=NuclearAndGasAlignedDenominator(taxonomy_aligned_share_denominator_n_and_g426=NuclearAndGasEnvironmentalObjective(mitigation_and_adaptation=None, mitigation=None, adaptation=None), taxonomy_aligned_share_denominator_n_and_g427=NuclearAndGasEnvironmentalObjective(mitigation_and_adaptation=None, mitigation=None, adaptation=None), taxonomy_aligned_share_denominator_n_and_g428=NuclearAndGasEnvironmentalObjective(mitigation_and_adaptation=None, mitigation=None, adaptation=None), taxonomy_aligned_share_denominator_n_and_g429=NuclearAndGasEnvironmentalObjective(mitigation_and_adaptation=None, mitigation=None, adaptation=None), taxonomy_aligned_share_denominator_n_and_g430=NuclearAndGasEnvironmentalObjective(mitigation_and_adaptation=None, mitigation=None, adaptation=None), taxonomy_aligned_share_denominator_n_and_g431=NuclearAndGasEnvironmentalObjective(mitigation_and_adaptation=None, mitigation=None, adaptation=None), taxonomy_aligned_share_denominator_other_activities=NuclearAndGasEnvironmentalObjective(mitigation_and_adaptation=17.0, mitigation=17.0, adaptation=None), taxonomy_aligned_share_denominator=NuclearAndGasEnvironmentalObjective(mitigation_and_adaptation=None, mitigation=None, adaptation=None)), quality='NoDataFound', comment='', data_source=None)), nuclear_and_gas_taxonomy_aligned_capex_denominator=QaReportDataPointExtendedDataPointNuclearAndGasAlignedDenominator(comment='', verdict=<QaReportDataPointVerdict.QAACCEPTED: 'QaAccepted'>, corrected_data=ExtendedDataPointNuclearAndGasAlignedDenominator(value=None, quality=None, comment=None, data_source=None))), taxonomy_aligned_numerator=NuclearAndGasGeneralTaxonomyAlignedNumerator(nuclear_and_gas_taxonomy_aligned_revenue_numerator=QaReportDataPointExtendedDataPointNuclearAndGasAlignedNumerator(comment='', verdict=<QaReportDataPointVerdict.QAACCEPTED: 'QaAccepted'>, corrected_data=ExtendedDataPointNuclearAndGasAlignedNumerator(value=None, quality=None, comment=None, data_source=None)), nuclear_and_gas_taxonomy_aligned_capex_numerator=QaReportDataPointExtendedDataPointNuclearAndGasAlignedNumerator(comment='', verdict=<QaReportDataPointVerdict.QAACCEPTED: 'QaAccepted'>, corrected_data=ExtendedDataPointNuclearAndGasAlignedNumerator(value=None, quality=None, comment=None, data_source=None))), taxonomy_eligible_but_not_aligned=NuclearAndGasGeneralTaxonomyEligibleButNotAligned(nuclear_and_gas_taxonomy_eligible_but_not_aligned_revenue=QaReportDataPointExtendedDataPointNuclearAndGasEligibleButNotAligned(comment='', verdict=<QaReportDataPointVerdict.QAACCEPTED: 'QaAccepted'>, corrected_data=ExtendedDataPointNuclearAndGasEligibleButNotAligned(value=None, quality=None, comment=None, data_source=None)), nuclear_and_gas_taxonomy_eligible_but_not_aligned_capex=QaReportDataPointExtendedDataPointNuclearAndGasEligibleButNotAligned(comment='', verdict=<QaReportDataPointVerdict.QAACCEPTED: 'QaAccepted'>, corrected_data=ExtendedDataPointNuclearAndGasEligibleButNotAligned(value=None, quality=None, comment=None, data_source=None))), taxonomy_non_eligible=NuclearAndGasGeneralTaxonomyNonEligible(nuclear_and_gas_taxonomy_non_eligible_revenue=QaReportDataPointExtendedDataPointNuclearAndGasNonEligible(comment='', verdict=<QaReportDataPointVerdict.QAACCEPTED: 'QaAccepted'>, corrected_data=ExtendedDataPointNuclearAndGasNonEligible(value=None, quality=None, comment=None, data_source=None)), nuclear_and_gas_taxonomy_non_eligible_capex=QaReportDataPointExtendedDataPointNuclearAndGasNonEligible(comment='', verdict=<QaReportDataPointVerdict.QAACCEPTED: 'QaAccepted'>, corrected_data=ExtendedDataPointNuclearAndGasNonEligible(value=None, quality=None, comment=None, data_source=None))))\n",
      "data_id='d026358f-39e0-4d00-8395-2ce821aa38ec' data_type='nuclear-and-gas' qa_report_id='562c6916-8ca7-4506-b243-eb10f1c4ceea' reporter_user_id='c8dca010-54b1-454e-8941-927bee0b744f' upload_time=1737146954498 active=True\n"
     ]
    }
   ],
   "source": [
    "from dataland_qa_lab.review.dataset_reviewer import review_dataset\n",
    "\n",
    "review_dataset(\"d026358f-39e0-4d00-8395-2ce821aa38ec\")"
   ]
  }
 ],
 "metadata": {
  "kernelspec": {
   "display_name": ".venv",
   "language": "python",
   "name": "python3"
  },
  "language_info": {
   "codemirror_mode": {
    "name": "ipython",
    "version": 3
   },
   "file_extension": ".py",
   "mimetype": "text/x-python",
   "name": "python",
   "nbconvert_exporter": "python",
   "pygments_lexer": "ipython3",
   "version": "3.13.0"
  }
 },
 "nbformat": 4,
 "nbformat_minor": 2
}
