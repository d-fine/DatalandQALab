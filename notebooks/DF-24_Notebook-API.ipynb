{
 "cells": [
  {
   "cell_type": "code",
   "execution_count": 24,
   "id": "ac4a575e",
   "metadata": {},
   "outputs": [],
   "source": [
    "%run base.ipynb"
   ]
  },
  {
   "cell_type": "markdown",
   "id": "ec394145",
   "metadata": {},
   "source": [
    "# EPIC 1 - User Story DF-24\n",
    "## Erstellung eines Notebooks und aufrufen der Daten per Dataland-API\n",
    "\n",
    "Als QA-Lab-Team möchten wir ein Notebook erstellen, mit dem wir eine Anfrage an die Dataland-API senden, sodass wir anhand der Berichts-ID den Unternehmensbericht erhalten.\n",
    "\n",
    "Beschreibung:<br>\n",
    "Nutzen von Dataland Endpoint /data/nuclear-and-gas/companies/{companyId} im Nuclear & Gas Controller. Die Funktionalität wird außerhalb des Notebooks implementiert.\n",
    "\n",
    "Akzeptanzkriterien:<br>\n",
    "    - Notebook ist auf jedem Laptop ausführbar<br>\n",
    "    - Anfrage an Dataland gibt Daten zurück"
   ]
  },
  {
   "cell_type": "markdown",
   "id": "6b79b78e",
   "metadata": {},
   "source": [
    "## 1.Schritt: Dataset mit Hilfe der Company_ID über die Dataland_API aufrufen\n",
    "Mithilfe der Company_ID wird die Dataland_API aufgerufen. Nachdem Eintragen aus welcher Periode das Dataset sein soll, ist es möglich die Data_ID zu erlangen."
   ]
  },
  {
   "cell_type": "code",
   "execution_count": null,
   "id": "cf87363e",
   "metadata": {},
   "outputs": [
    {
     "data": {
      "text/plain": [
       "'7b333da2-dd40-40ee-905f-77eab20cab05'"
      ]
     },
     "execution_count": 2,
     "metadata": {},
     "output_type": "execute_result"
    }
   ],
   "source": [
    "import dataland_qa_lab.dataland.get_data as qa\n",
    "\n",
    "data_id = qa.get_data_set_by_year(company_id=\"b3249e50-dede-4fc2-b348-8b8daf36aebe\", year=\"2024\")\n"
   ]
  },
  {
   "cell_type": "markdown",
   "id": "c42cdbaa",
   "metadata": {},
   "source": [
    "## 2.Schritt: Daten laden\n",
    "Hier werden die Daten von Dataland geladen und alle 6 Werte gesondert gespeichert."
   ]
  },
  {
   "cell_type": "code",
   "execution_count": null,
   "id": "a4031931",
   "metadata": {},
   "outputs": [
    {
     "name": "stdout",
     "output_type": "stream",
     "text": [
      "company_id='b3249e50-dede-4fc2-b348-8b8daf36aebe' reporting_period='2024' data=NuclearAndGasData(general=NuclearAndGasGeneral(general=NuclearAndGasGeneralGeneral(referenced_reports={'Unternehmens_Bericht': CompanyReport(file_reference='b0ec716d4f5bc07f07608c58a6ea9d84c0b87e81915c0b5cc8d0d39209c6b438', file_name=None, publication_date=datetime.date(2024, 11, 17))}, nuclear_energy_related_activities_section426=ExtendedDataPointYesNo(value=<YesNo.YES: 'Yes'>, quality=<QualityOptions.REPORTED: 'Reported'>, comment='', data_source=ExtendedDocumentReference(page='1', tag_name=None, file_name='Unternehmens_Bericht', file_reference='b0ec716d4f5bc07f07608c58a6ea9d84c0b87e81915c0b5cc8d0d39209c6b438')), nuclear_energy_related_activities_section427=None, nuclear_energy_related_activities_section428=None, fossil_gas_related_activities_section429=None, fossil_gas_related_activities_section430=None, fossil_gas_related_activities_section431=None), taxonomy_aligned_denominator=NuclearAndGasGeneralTaxonomyAlignedDenominator(nuclear_and_gas_taxonomy_aligned_revenue_denominator=None, nuclear_and_gas_taxonomy_aligned_capex_denominator=None), taxonomy_aligned_numerator=NuclearAndGasGeneralTaxonomyAlignedNumerator(nuclear_and_gas_taxonomy_aligned_revenue_numerator=None, nuclear_and_gas_taxonomy_aligned_capex_numerator=None), taxonomy_eligible_but_not_aligned=NuclearAndGasGeneralTaxonomyEligibleButNotAligned(nuclear_and_gas_taxonomy_eligible_but_not_aligned_revenue=None, nuclear_and_gas_taxonomy_eligible_but_not_aligned_capex=None), taxonomy_non_eligible=NuclearAndGasGeneralTaxonomyNonEligible(nuclear_and_gas_taxonomy_non_eligible_revenue=None, nuclear_and_gas_taxonomy_non_eligible_capex=None)))\n",
      "value=<YesNo.YES: 'Yes'> quality=<QualityOptions.REPORTED: 'Reported'> comment='' data_source=ExtendedDocumentReference(page='1', tag_name=None, file_name='Unternehmens_Bericht', file_reference='b0ec716d4f5bc07f07608c58a6ea9d84c0b87e81915c0b5cc8d0d39209c6b438')\n",
      "None\n",
      "None\n",
      "None\n",
      "None\n",
      "None\n"
     ]
    }
   ],
   "source": [
    "from dataland_qa_lab.utils import config\n",
    "\n",
    "conf = config.get_config()\n",
    "dataland_client = conf.dataland_client\n",
    "\n",
    "data = dataland_client.eu_taxonomy_nuclear_and_gas_api.get_company_associated_nuclear_and_gas_data(data_id=data_id)\n",
    "\n",
    "wert1 = data.data.general.general.nuclear_energy_related_activities_section426\n",
    "wert2 = data.data.general.general.nuclear_energy_related_activities_section427\n",
    "wert3 = data.data.general.general.nuclear_energy_related_activities_section428\n",
    "wert4 = data.data.general.general.fossil_gas_related_activities_section429\n",
    "wert5 = data.data.general.general.fossil_gas_related_activities_section430\n",
    "wert6 = data.data.general.general.fossil_gas_related_activities_section431\n",
    "print(data)\n",
    "print(wert1)\n",
    "print(wert2)\n",
    "print(wert3)\n",
    "print(wert4)\n",
    "print(wert5)\n",
    "print(wert6)"
   ]
  },
  {
   "cell_type": "markdown",
   "id": "fe1a2009",
   "metadata": {},
   "source": [
    "## 3.Schritt: Datenquelle laden\n",
    "In diesem Fall wird die Dateireferenz von wert1 genutzt um das dazugehörige Dokument zu bekommen."
   ]
  },
  {
   "cell_type": "code",
   "execution_count": 5,
   "id": "c9cf6625",
   "metadata": {},
   "outputs": [],
   "source": [
    "# datenQuelle = wert1.data_source.file_reference\n",
    "# print(datenQuelle)\n",
    "\n",
    "document_bytes = dataland_client.documents_api.get_document(wert1.data_source.file_reference)"
   ]
  },
  {
   "cell_type": "markdown",
   "id": "13580b00",
   "metadata": {},
   "source": [
    "## 4.Schritt: Daten aus dem Dokument extrahieren und in Text umwandeln"
   ]
  },
  {
   "cell_type": "code",
   "execution_count": 6,
   "id": "a9846d68",
   "metadata": {},
   "outputs": [],
   "source": [
    "import io\n",
    "\n",
    "import pypdf\n",
    "\n",
    "full_document_byte_stream = io.BytesIO(document_bytes)\n",
    "full_pdf = pypdf.PdfReader(full_document_byte_stream)\n",
    "\n",
    "partial_document_byte_stream = io.BytesIO()\n",
    "partial_pdf = pypdf.PdfWriter()\n",
    "\n",
    "partial_pdf.add_page(full_pdf.get_page(int(wert1.data_source.page) - 1))  # Correct for 0 offset\n",
    "partial_pdf.write(partial_document_byte_stream)\n",
    "partial_document_byte_stream.seek(0)\n",
    "None"
   ]
  },
  {
   "cell_type": "code",
   "execution_count": 7,
   "id": "2da4ca74",
   "metadata": {},
   "outputs": [],
   "source": [
    "from azure.ai.documentintelligence import DocumentIntelligenceClient\n",
    "from azure.ai.documentintelligence.models import AnalyzeResult, ContentFormat\n",
    "from azure.core.credentials import AzureKeyCredential\n",
    "\n",
    "docintel_cred = AzureKeyCredential(conf.azure_docintel_api_key)\n",
    "document_intelligence_client = DocumentIntelligenceClient(\n",
    "    endpoint=conf.azure_docintel_endpoint, credential=docintel_cred\n",
    ")\n",
    "\n",
    "poller = document_intelligence_client.begin_analyze_document(\n",
    "    \"prebuilt-layout\",\n",
    "    analyze_request=partial_document_byte_stream,\n",
    "    content_type=\"application/octet-stream\",\n",
    "    output_content_format=ContentFormat.MARKDOWN,\n",
    ")\n",
    "result: AnalyzeResult = poller.result()"
   ]
  },
  {
   "cell_type": "markdown",
   "id": "4d28e7c3",
   "metadata": {},
   "source": [
    "#### Das Ergebnis wird als Markdown direkt im Notebook wiedergegeben"
   ]
  },
  {
   "cell_type": "code",
   "execution_count": 8,
   "id": "f3ba48bf",
   "metadata": {},
   "outputs": [
    {
     "data": {
      "text/markdown": [
       "Nein\n"
      ],
      "text/plain": [
       "<IPython.core.display.Markdown object>"
      ]
     },
     "metadata": {},
     "output_type": "display_data"
    }
   ],
   "source": [
    "from IPython.display import Markdown, display\n",
    "\n",
    "display(Markdown(result.content))"
   ]
  }
 ],
 "metadata": {
  "kernelspec": {
   "display_name": ".venv",
   "language": "python",
   "name": "python3"
  },
  "language_info": {
   "codemirror_mode": {
    "name": "ipython",
    "version": 3
   },
   "file_extension": ".py",
   "mimetype": "text/x-python",
   "name": "python",
   "nbconvert_exporter": "python",
   "pygments_lexer": "ipython3",
   "version": "3.12.3"
  }
 },
 "nbformat": 4,
 "nbformat_minor": 5
}
