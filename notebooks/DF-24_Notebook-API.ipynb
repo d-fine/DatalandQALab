{
 "cells": [
  {
   "cell_type": "code",
   "execution_count": null,
   "id": "ac4a575e",
   "metadata": {},
   "outputs": [],
   "source": [
    "%run base.ipynb"
   ]
  },
  {
   "cell_type": "markdown",
   "id": "ec394145",
   "metadata": {},
   "source": [
    "# EPIC 1 - User Story DF-24\n",
    "## Erstellung eines Notebooks und aufrufen der Daten per Dataland-API\n",
    "\n",
    "Als QA-Lab-Team möchten wir ein Notebook erstellen, mit dem wir eine Anfrage an die Dataland-API senden, sodass wir anhand der Berichts-ID den Unternehmensbericht erhalten.\n",
    "\n",
    "Beschreibung:<br>\n",
    "Nutzen von Dataland Endpoint /data/nuclear-and-gas/companies/{companyId} im Nuclear & Gas Controller. Die Funktionalität wird außerhalb des Notebooks implementiert.\n",
    "\n",
    "Akzeptanzkriterien:<br>\n",
    "    - Notebook ist auf jedem Laptop ausführbar<br>\n",
    "    - Anfrage an Dataland gibt Daten zurück"
   ]
  },
  {
   "cell_type": "markdown",
   "id": "6b79b78e",
   "metadata": {},
   "source": [
    "## 1.Schritt: Dataset mit Hilfe der Company_ID über die Dataland_API aufrufen\n",
    "Mithilfe der Company_ID wird die Dataland_API aufgerufen. Nachdem Eintragen aus welcher Periode das Dataset sein soll, ist es möglich den Wert 1 zu erlangen."
   ]
  },
  {
   "cell_type": "code",
   "execution_count": null,
   "id": "cf87363e",
   "metadata": {},
   "outputs": [],
   "source": [
    "import dataland_qa_lab.dataland.get_data as qa\n",
    "from dataland_qa_lab.utils import config\n",
    "\n",
    "dataland_client = config.get_config().dataland_client\n",
    "\n",
    "company_id = \"4423c691-0436-423f-abcb-0a08127ee848\"\n",
    "year = \"2024\"\n",
    "\n",
    "# Laden aller Datasets aus jeder Periode\n",
    "all_datasets = qa.get_all_company_datasets(company_id=company_id)\n",
    "\n",
    "# Data_ID der gewünschten Periode des Datensets erhalten\n",
    "data_id = qa.get_data_id_by_year(company_id=company_id, year=year)\n",
    "print(\"Data_ID = \" + data_id)\n",
    "\n",
    "# Laden eines bestimmten Datensets einer bestimmten Periode\n",
    "dataset_by_year = qa.get_dataset_by_year(company_id=company_id, year=year)\n",
    "\n",
    "# Rückgabe des ersten Wertes in dem bestimmten Datenset\n",
    "section_426 = qa.get_value1_by_year(company_id=company_id, year=year)\n",
    "print(\"Section426 = \" + section_426)\n",
    "\n",
    "# Erhalten der Datenreferenz in Bytes, wenn eine Datenquelle hinterlegt ist\n",
    "datasource_reference_bytes = qa.get_datasource_reference_bytes(company_id=company_id, year=year)"
   ]
  },
  {
   "cell_type": "markdown",
   "id": "13580b00",
   "metadata": {},
   "source": [
    "## Daten aus dem Dokument extrahieren und in Text umwandeln - DEMO"
   ]
  },
  {
   "cell_type": "code",
   "execution_count": null,
   "id": "facb4b6d",
   "metadata": {},
   "outputs": [],
   "source": [
    "import io\n",
    "\n",
    "import pypdf  # type: ignore\n",
    "\n",
    "dataset_section426 = dataset_by_year.data.general.general.nuclear_energy_related_activities_section426\n",
    "page_number = int(dataset_section426.data_source.page)\n",
    "\n",
    "file_id = dataset_section426.data_source.file_reference\n",
    "file_name = dataset_section426.data_source.file_name\n",
    "tag_name = dataset_section426.data_source.tag_name\n",
    "page = dataset_section426.data_source.page\n",
    "\n",
    "pdf = dataland_client.documents_api.get_document(file_id)\n",
    "pdf_stream = io.BytesIO(pdf)\n",
    "pdf_reader = pypdf.PdfReader(pdf_stream)"
   ]
  },
  {
   "cell_type": "code",
   "execution_count": null,
   "id": "6e805043",
   "metadata": {},
   "outputs": [],
   "source": [
    "import dataland_qa_lab.dataland.data_extraction as qa_lab\n",
    "\n",
    "relevant_page = qa_lab.get_relevant_page_of_pdf(page_number, pdf_reader)\n",
    "\n",
    "text_of_page = qa_lab.extraxt_text_of_pdf(relevant_page)\n",
    "\n",
    "section_426 = qa_lab.extract_section_426(text_of_page)\n",
    "\n",
    "print(section_426)"
   ]
  }
 ],
 "metadata": {
  "kernelspec": {
   "display_name": ".venv",
   "language": "python",
   "name": "python3"
  },
  "language_info": {
   "codemirror_mode": {
    "name": "ipython",
    "version": 3
   },
   "file_extension": ".py",
   "mimetype": "text/x-python",
   "name": "python",
   "nbconvert_exporter": "python",
   "pygments_lexer": "ipython3",
   "version": "3.13.0"
  }
 },
 "nbformat": 4,
 "nbformat_minor": 5
}
