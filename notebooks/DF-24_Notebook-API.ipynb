{
 "cells": [
  {
   "cell_type": "code",
   "execution_count": 1,
   "id": "ac4a575e",
   "metadata": {},
   "outputs": [],
   "source": [
    "%run base.ipynb"
   ]
  },
  {
   "cell_type": "markdown",
   "id": "ec394145",
   "metadata": {},
   "source": [
    "# EPIC 1 - User Story DF-24\n",
    "## Erstellung eines Notebooks und aufrufen der Daten per Dataland-API\n",
    "\n",
    "Als QA-Lab-Team möchten wir ein Notebook erstellen, mit dem wir eine Anfrage an die Dataland-API senden, sodass wir anhand der Berichts-ID den Unternehmensbericht erhalten.\n",
    "\n",
    "Beschreibung:<br>\n",
    "Nutzen von Dataland Endpoint /data/nuclear-and-gas/companies/{companyId} im Nuclear & Gas Controller. Die Funktionalität wird außerhalb des Notebooks implementiert.\n",
    "\n",
    "Akzeptanzkriterien:<br>\n",
    "    - Notebook ist auf jedem Laptop ausführbar<br>\n",
    "    - Anfrage an Dataland gibt Daten zurück"
   ]
  },
  {
   "cell_type": "markdown",
   "id": "6b79b78e",
   "metadata": {},
   "source": [
    "## 1.Schritt: Dataset mit Hilfe der Company_ID über die Dataland_API aufrufen\n",
    "Mithilfe der Company_ID wird die Dataland_API aufgerufen. Nachdem Eintragen aus welcher Periode das Dataset sein soll, ist es möglich die Data_ID zu erlangen."
   ]
  },
  {
   "cell_type": "code",
   "execution_count": 2,
   "id": "cf87363e",
   "metadata": {},
   "outputs": [
    {
     "name": "stdout",
     "output_type": "stream",
     "text": [
      "company_id='d6c56151-7fd0-481a-af9f-9fc45a16288b' reporting_period='2024' data=NuclearAndGasData(general=NuclearAndGasGeneral(general=NuclearAndGasGeneralGeneral(referenced_reports={'NFE-EWE-2023_english': CompanyReport(file_reference='86edb3cb151bfddf9ea694bc45203bd072fc9446c3d1fd42c7b14d51786ed7c8', file_name=None, publication_date=datetime.date(2023, 12, 7))}, nuclear_energy_related_activities_section426=ExtendedDataPointYesNo(value=<YesNo.NO: 'No'>, quality=<QualityOptions.ESTIMATED: 'Estimated'>, comment='', data_source=ExtendedDocumentReference(page='60', tag_name=None, file_name='NFE-EWE-2023_english', file_reference='86edb3cb151bfddf9ea694bc45203bd072fc9446c3d1fd42c7b14d51786ed7c8')), nuclear_energy_related_activities_section427=None, nuclear_energy_related_activities_section428=None, fossil_gas_related_activities_section429=None, fossil_gas_related_activities_section430=None, fossil_gas_related_activities_section431=None), taxonomy_aligned_denominator=NuclearAndGasGeneralTaxonomyAlignedDenominator(nuclear_and_gas_taxonomy_aligned_revenue_denominator=None, nuclear_and_gas_taxonomy_aligned_capex_denominator=None), taxonomy_aligned_numerator=NuclearAndGasGeneralTaxonomyAlignedNumerator(nuclear_and_gas_taxonomy_aligned_revenue_numerator=None, nuclear_and_gas_taxonomy_aligned_capex_numerator=None), taxonomy_eligible_but_not_aligned=NuclearAndGasGeneralTaxonomyEligibleButNotAligned(nuclear_and_gas_taxonomy_eligible_but_not_aligned_revenue=None, nuclear_and_gas_taxonomy_eligible_but_not_aligned_capex=None), taxonomy_non_eligible=NuclearAndGasGeneralTaxonomyNonEligible(nuclear_and_gas_taxonomy_non_eligible_revenue=None, nuclear_and_gas_taxonomy_non_eligible_capex=None)))\n"
     ]
    }
   ],
   "source": [
    "import dataland_qa_lab.dataland.get_data as qa\n",
    "from dataland_qa_lab.utils import config\n",
    "\n",
    "conf = config.get_config()\n",
    "dataland_client = conf.dataland_client\n",
    "\n",
    "data_id = qa.get_data_id_by_year(company_id=\"d6c56151-7fd0-481a-af9f-9fc45a16288b\", year=\"2024\")\n",
    "\n",
    "dataset = qa.get_dataset_by_id(data_id=data_id)\n",
    "\n",
    "print(dataset)"
   ]
  },
  {
   "cell_type": "markdown",
   "id": "fe1a2009",
   "metadata": {},
   "source": [
    "## 2.Schritt: Datensatz in PDF Reader umwandeln"
   ]
  },
  {
   "cell_type": "code",
   "execution_count": 3,
   "id": "c9cf6625",
   "metadata": {},
   "outputs": [],
   "source": [
    "import io\n",
    "\n",
    "import pypdf\n",
    "\n",
    "dataset_section426 = dataset.data.general.general.nuclear_energy_related_activities_section426\n",
    "page_number = int(dataset_section426.data_source.page)\n",
    "\n",
    "file_id = dataset_section426.data_source.file_reference\n",
    "file_name = dataset_section426.data_source.file_name\n",
    "tag_name = dataset_section426.data_source.tag_name\n",
    "page = dataset_section426.data_source.page\n",
    "\n",
    "pdf = dataland_client.documents_api.get_document(file_id)\n",
    "pdf_stream = io.BytesIO(pdf)\n",
    "pdf_reader = pypdf.PdfReader(pdf_stream)"
   ]
  },
  {
   "cell_type": "markdown",
   "id": "13580b00",
   "metadata": {},
   "source": [
    "## 3.Schritt: Daten aus dem Dokument extrahieren und in Text umwandeln"
   ]
  },
  {
   "cell_type": "code",
   "execution_count": 4,
   "id": "a9846d68",
   "metadata": {},
   "outputs": [
    {
     "name": "stdout",
     "output_type": "stream",
     "text": [
      "No. The relevant documents indicate that the undertaking does not carry out, fund, or have exposures to research, development, demonstration, and deployment of innovative electricity generation facilities that produce energy from nuclear processes with minimal waste from the fuel cycle.\n"
     ]
    }
   ],
   "source": [
    "import dataland_qa_lab.dataland.data_extraction as qa_lab\n",
    "\n",
    "relevant_page = qa_lab.get_relevant_page_of_pdf(page_number, pdf_reader)\n",
    "\n",
    "text_of_page = qa_lab.extraxt_text_of_pdf(relevant_page)\n",
    "\n",
    "section_426 = qa_lab.extract_section_426(text_of_page)\n",
    "\n",
    "# section_426 = \"No\"\n",
    "print(section_426)"
   ]
  }
 ],
 "metadata": {
  "kernelspec": {
   "display_name": ".venv",
   "language": "python",
   "name": "python3"
  },
  "language_info": {
   "codemirror_mode": {
    "name": "ipython",
    "version": 3
   },
   "file_extension": ".py",
   "mimetype": "text/x-python",
   "name": "python",
   "nbconvert_exporter": "python",
   "pygments_lexer": "ipython3",
   "version": "3.13.0"
  }
 },
 "nbformat": 4,
 "nbformat_minor": 5
}
