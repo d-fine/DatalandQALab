{
 "cells": [
  {
   "cell_type": "code",
   "execution_count": 1,
   "id": "ac4a575e",
   "metadata": {},
   "outputs": [],
   "source": [
    "%run base.ipynb"
   ]
  },
  {
   "cell_type": "markdown",
   "id": "ec394145",
   "metadata": {},
   "source": [
    "# EPIC 1 - User Story DF-24\n",
    "## Erstellung eines Notebooks und aufrufen der Daten per Dataland-API\n",
    "\n",
    "Als QA-Lab-Team möchten wir ein Notebook erstellen, mit dem wir eine Anfrage an die Dataland-API senden, sodass wir anhand der Berichts-ID den Unternehmensbericht erhalten.\n",
    "\n",
    "Beschreibung:<br>\n",
    "Nutzen von Dataland Endpoint /data/nuclear-and-gas/companies/{companyId} im Nuclear & Gas Controller. Die Funktionalität wird außerhalb des Notebooks implementiert.\n",
    "\n",
    "Akzeptanzkriterien:<br>\n",
    "    - Notebook ist auf jedem Laptop ausführbar<br>\n",
    "    - Anfrage an Dataland gibt Daten zurück"
   ]
  },
  {
   "cell_type": "markdown",
   "id": "6b79b78e",
   "metadata": {},
   "source": [
    "## 1.Schritt: Dataset mit Hilfe der Company_ID über die Dataland_API aufrufen\n",
    "Mithilfe der Company_ID wird die Dataland_API aufgerufen. Nachdem Eintragen aus welcher Periode das Dataset sein soll, ist es möglich den Wert 1 zu erlangen."
   ]
  },
  {
   "cell_type": "code",
   "execution_count": 2,
   "id": "cf87363e",
   "metadata": {},
   "outputs": [
    {
     "name": "stdout",
     "output_type": "stream",
     "text": [
      "No\n"
     ]
    }
   ],
   "source": [
    "import dataland_qa_lab.dataland.get_data as qa\n",
    "\n",
    "company_id = \"9f6f6cea-7316-4101-aba9-170023c811e8\"\n",
    "year = \"2020\"\n",
    "wert1 = qa._get_data_set_by_year_(company_id=company_id, year=year)\n",
    "print(wert1)\n"
   ]
  },
  {
   "cell_type": "markdown",
   "id": "c42cdbaa",
   "metadata": {},
   "source": [
    "## 2.Schritt: Laden aller Daten\n",
    "Hier werden die Daten von Dataland geladen und alle 6 Werte gesondert gespeichert."
   ]
  },
  {
   "cell_type": "code",
   "execution_count": 3,
   "id": "a4031931",
   "metadata": {},
   "outputs": [
    {
     "name": "stdout",
     "output_type": "stream",
     "text": [
      "company_id='9f6f6cea-7316-4101-aba9-170023c811e8' reporting_period='2020' data=NuclearAndGasData(general=NuclearAndGasGeneral(general=NuclearAndGasGeneralGeneral(referenced_reports={'SustainabilityReport': CompanyReport(file_reference='50a36c418baffd520bb92d84664f06f9732a21f4e2e5ecee6d9136f16e7e0b63', file_name=None, publication_date=datetime.date(2023, 8, 2))}, nuclear_energy_related_activities_section426=ExtendedDataPointYesNo(value=<YesNo.NO: 'No'>, quality=<QualityOptions.REPORTED: 'Reported'>, comment='calculate wireless firewall', data_source=ExtendedDocumentReference(page='391', tag_name='synergies', file_name='SustainabilityReport', file_reference='50a36c418baffd520bb92d84664f06f9732a21f4e2e5ecee6d9136f16e7e0b63')), nuclear_energy_related_activities_section427=ExtendedDataPointYesNo(value=None, quality=<QualityOptions.INCOMPLETE: 'Incomplete'>, comment=None, data_source=ExtendedDocumentReference(page='1164', tag_name='methodologies', file_name='SustainabilityReport', file_reference='50a36c418baffd520bb92d84664f06f9732a21f4e2e5ecee6d9136f16e7e0b63')), nuclear_energy_related_activities_section428=None, fossil_gas_related_activities_section429=ExtendedDataPointYesNo(value=<YesNo.YES: 'Yes'>, quality=<QualityOptions.INCOMPLETE: 'Incomplete'>, comment='index multi-byte hard drive', data_source=ExtendedDocumentReference(page='865', tag_name='interfaces', file_name='SustainabilityReport', file_reference='50a36c418baffd520bb92d84664f06f9732a21f4e2e5ecee6d9136f16e7e0b63')), fossil_gas_related_activities_section430=ExtendedDataPointYesNo(value=None, quality=<QualityOptions.REPORTED: 'Reported'>, comment='connect optical array', data_source=ExtendedDocumentReference(page='620', tag_name='platforms', file_name='SustainabilityReport', file_reference='50a36c418baffd520bb92d84664f06f9732a21f4e2e5ecee6d9136f16e7e0b63')), fossil_gas_related_activities_section431=ExtendedDataPointYesNo(value=None, quality=<QualityOptions.ESTIMATED: 'Estimated'>, comment='override redundant pixel', data_source=ExtendedDocumentReference(page='197', tag_name='solutions', file_name='SustainabilityReport', file_reference='50a36c418baffd520bb92d84664f06f9732a21f4e2e5ecee6d9136f16e7e0b63'))), taxonomy_aligned_denominator=NuclearAndGasGeneralTaxonomyAlignedDenominator(nuclear_and_gas_taxonomy_aligned_revenue_denominator=ExtendedDataPointNuclearAndGasAlignedDenominator(value=NuclearAndGasAlignedDenominator(taxonomy_aligned_share_denominator_n_and_g426=NuclearAndGasEnvironmentalObjective(mitigation_and_adaptation=None, mitigation=93.51, adaptation=None), taxonomy_aligned_share_denominator_n_and_g427=NuclearAndGasEnvironmentalObjective(mitigation_and_adaptation=21.8, mitigation=None, adaptation=58), taxonomy_aligned_share_denominator_n_and_g428=NuclearAndGasEnvironmentalObjective(mitigation_and_adaptation=80.44, mitigation=65.76, adaptation=28.7), taxonomy_aligned_share_denominator_n_and_g429=NuclearAndGasEnvironmentalObjective(mitigation_and_adaptation=None, mitigation=91.24, adaptation=35.76), taxonomy_aligned_share_denominator_n_and_g430=NuclearAndGasEnvironmentalObjective(mitigation_and_adaptation=None, mitigation=95.5, adaptation=22), taxonomy_aligned_share_denominator_n_and_g431=NuclearAndGasEnvironmentalObjective(mitigation_and_adaptation=None, mitigation=56.55, adaptation=74.68), taxonomy_aligned_share_denominator_other_activities=NuclearAndGasEnvironmentalObjective(mitigation_and_adaptation=80.34, mitigation=None, adaptation=22.33), taxonomy_aligned_share_denominator=NuclearAndGasEnvironmentalObjective(mitigation_and_adaptation=38.49, mitigation=46.45, adaptation=None)), quality=None, comment='hack haptic matrix', data_source=ExtendedDocumentReference(page='93', tag_name='lifetime value', file_name='SustainabilityReport', file_reference='50a36c418baffd520bb92d84664f06f9732a21f4e2e5ecee6d9136f16e7e0b63')), nuclear_and_gas_taxonomy_aligned_capex_denominator=ExtendedDataPointNuclearAndGasAlignedDenominator(value=NuclearAndGasAlignedDenominator(taxonomy_aligned_share_denominator_n_and_g426=NuclearAndGasEnvironmentalObjective(mitigation_and_adaptation=31.48, mitigation=43.29, adaptation=0.42), taxonomy_aligned_share_denominator_n_and_g427=NuclearAndGasEnvironmentalObjective(mitigation_and_adaptation=86.06, mitigation=83.5, adaptation=47.6), taxonomy_aligned_share_denominator_n_and_g428=NuclearAndGasEnvironmentalObjective(mitigation_and_adaptation=46.77, mitigation=65.16, adaptation=46.92), taxonomy_aligned_share_denominator_n_and_g429=NuclearAndGasEnvironmentalObjective(mitigation_and_adaptation=None, mitigation=14.18, adaptation=12.29), taxonomy_aligned_share_denominator_n_and_g430=NuclearAndGasEnvironmentalObjective(mitigation_and_adaptation=None, mitigation=None, adaptation=8.9), taxonomy_aligned_share_denominator_n_and_g431=NuclearAndGasEnvironmentalObjective(mitigation_and_adaptation=None, mitigation=19.44, adaptation=8.07), taxonomy_aligned_share_denominator_other_activities=NuclearAndGasEnvironmentalObjective(mitigation_and_adaptation=58.36, mitigation=65.27, adaptation=None), taxonomy_aligned_share_denominator=NuclearAndGasEnvironmentalObjective(mitigation_and_adaptation=44.48, mitigation=4.86, adaptation=61.23)), quality=<QualityOptions.INCOMPLETE: 'Incomplete'>, comment='override 1080p bus', data_source=ExtendedDocumentReference(page='87', tag_name='methodologies', file_name='SustainabilityReport', file_reference='50a36c418baffd520bb92d84664f06f9732a21f4e2e5ecee6d9136f16e7e0b63'))), taxonomy_aligned_numerator=NuclearAndGasGeneralTaxonomyAlignedNumerator(nuclear_and_gas_taxonomy_aligned_revenue_numerator=ExtendedDataPointNuclearAndGasAlignedNumerator(value=NuclearAndGasAlignedNumerator(taxonomy_aligned_share_numerator_n_and_g426=NuclearAndGasEnvironmentalObjective(mitigation_and_adaptation=62.27, mitigation=35.82, adaptation=81.73), taxonomy_aligned_share_numerator_n_and_g427=NuclearAndGasEnvironmentalObjective(mitigation_and_adaptation=97.19, mitigation=40.69, adaptation=None), taxonomy_aligned_share_numerator_n_and_g428=NuclearAndGasEnvironmentalObjective(mitigation_and_adaptation=80.87, mitigation=17.24, adaptation=91.63), taxonomy_aligned_share_numerator_n_and_g429=NuclearAndGasEnvironmentalObjective(mitigation_and_adaptation=95.36, mitigation=None, adaptation=71.47), taxonomy_aligned_share_numerator_n_and_g430=NuclearAndGasEnvironmentalObjective(mitigation_and_adaptation=70.18, mitigation=21.95, adaptation=8.06), taxonomy_aligned_share_numerator_n_and_g431=NuclearAndGasEnvironmentalObjective(mitigation_and_adaptation=13.02, mitigation=50.64, adaptation=None), taxonomy_aligned_share_numerator_other_activities=NuclearAndGasEnvironmentalObjective(mitigation_and_adaptation=25.18, mitigation=None, adaptation=67.69), taxonomy_aligned_share_numerator=NuclearAndGasEnvironmentalObjective(mitigation_and_adaptation=64.06, mitigation=19.96, adaptation=37.07)), quality=None, comment='navigate redundant port', data_source=ExtendedDocumentReference(page='26-477', tag_name='platforms', file_name='SustainabilityReport', file_reference='50a36c418baffd520bb92d84664f06f9732a21f4e2e5ecee6d9136f16e7e0b63')), nuclear_and_gas_taxonomy_aligned_capex_numerator=ExtendedDataPointNuclearAndGasAlignedNumerator(value=None, quality=<QualityOptions.NODATAFOUND: 'NoDataFound'>, comment='input haptic pixel', data_source=ExtendedDocumentReference(page='914-1203', tag_name='mindshare', file_name='SustainabilityReport', file_reference='50a36c418baffd520bb92d84664f06f9732a21f4e2e5ecee6d9136f16e7e0b63'))), taxonomy_eligible_but_not_aligned=NuclearAndGasGeneralTaxonomyEligibleButNotAligned(nuclear_and_gas_taxonomy_eligible_but_not_aligned_revenue=ExtendedDataPointNuclearAndGasEligibleButNotAligned(value=None, quality=<QualityOptions.NODATAFOUND: 'NoDataFound'>, comment='quantify open-source bandwidth', data_source=ExtendedDocumentReference(page='750-825', tag_name='applications', file_name='SustainabilityReport', file_reference='50a36c418baffd520bb92d84664f06f9732a21f4e2e5ecee6d9136f16e7e0b63')), nuclear_and_gas_taxonomy_eligible_but_not_aligned_capex=ExtendedDataPointNuclearAndGasEligibleButNotAligned(value=NuclearAndGasEligibleButNotAligned(taxonomy_eligible_but_not_aligned_share_n_and_g426=NuclearAndGasEnvironmentalObjective(mitigation_and_adaptation=None, mitigation=83.17, adaptation=None), taxonomy_eligible_but_not_aligned_share_n_and_g427=NuclearAndGasEnvironmentalObjective(mitigation_and_adaptation=33.91, mitigation=21.35, adaptation=59.85), taxonomy_eligible_but_not_aligned_share_n_and_g428=NuclearAndGasEnvironmentalObjective(mitigation_and_adaptation=1.4, mitigation=None, adaptation=88.78), taxonomy_eligible_but_not_aligned_share_n_and_g429=NuclearAndGasEnvironmentalObjective(mitigation_and_adaptation=37.54, mitigation=None, adaptation=39.35), taxonomy_eligible_but_not_aligned_share_n_and_g430=NuclearAndGasEnvironmentalObjective(mitigation_and_adaptation=83.99, mitigation=68.31, adaptation=None), taxonomy_eligible_but_not_aligned_share_n_and_g431=NuclearAndGasEnvironmentalObjective(mitigation_and_adaptation=None, mitigation=70.12, adaptation=5.62), taxonomy_eligible_but_not_aligned_share_other_activities=NuclearAndGasEnvironmentalObjective(mitigation_and_adaptation=17.21, mitigation=44.23, adaptation=15.35), taxonomy_eligible_but_not_aligned_share=NuclearAndGasEnvironmentalObjective(mitigation_and_adaptation=58.57, mitigation=5.5, adaptation=38.11)), quality=<QualityOptions.AUDITED: 'Audited'>, comment='transmit back-end alarm', data_source=ExtendedDocumentReference(page='799', tag_name='paradigms', file_name='SustainabilityReport', file_reference='50a36c418baffd520bb92d84664f06f9732a21f4e2e5ecee6d9136f16e7e0b63'))), taxonomy_non_eligible=NuclearAndGasGeneralTaxonomyNonEligible(nuclear_and_gas_taxonomy_non_eligible_revenue=ExtendedDataPointNuclearAndGasNonEligible(value=NuclearAndGasNonEligible(taxonomy_non_eligible_share_n_and_g426=19.16, taxonomy_non_eligible_share_n_and_g427=10.16, taxonomy_non_eligible_share_n_and_g428=62.25, taxonomy_non_eligible_share_n_and_g429=None, taxonomy_non_eligible_share_n_and_g430=86.95, taxonomy_non_eligible_share_n_and_g431=89.4, taxonomy_non_eligible_share_other_activities=92.21, taxonomy_non_eligible_share=56.75), quality=<QualityOptions.INCOMPLETE: 'Incomplete'>, comment='transmit solid state monitor', data_source=ExtendedDocumentReference(page='641-1010', tag_name='blockchains', file_name='SustainabilityReport', file_reference='50a36c418baffd520bb92d84664f06f9732a21f4e2e5ecee6d9136f16e7e0b63')), nuclear_and_gas_taxonomy_non_eligible_capex=ExtendedDataPointNuclearAndGasNonEligible(value=NuclearAndGasNonEligible(taxonomy_non_eligible_share_n_and_g426=None, taxonomy_non_eligible_share_n_and_g427=33.09, taxonomy_non_eligible_share_n_and_g428=78.58, taxonomy_non_eligible_share_n_and_g429=20.13, taxonomy_non_eligible_share_n_and_g430=14.35, taxonomy_non_eligible_share_n_and_g431=None, taxonomy_non_eligible_share_other_activities=89.11, taxonomy_non_eligible_share=39.8), quality=<QualityOptions.ESTIMATED: 'Estimated'>, comment='generate online card', data_source=ExtendedDocumentReference(page='116', tag_name='technologies', file_name='SustainabilityReport', file_reference='50a36c418baffd520bb92d84664f06f9732a21f4e2e5ecee6d9136f16e7e0b63')))))\n",
      "value=<YesNo.NO: 'No'> quality=<QualityOptions.REPORTED: 'Reported'> comment='calculate wireless firewall' data_source=ExtendedDocumentReference(page='391', tag_name='synergies', file_name='SustainabilityReport', file_reference='50a36c418baffd520bb92d84664f06f9732a21f4e2e5ecee6d9136f16e7e0b63')\n",
      "value=None quality=<QualityOptions.INCOMPLETE: 'Incomplete'> comment=None data_source=ExtendedDocumentReference(page='1164', tag_name='methodologies', file_name='SustainabilityReport', file_reference='50a36c418baffd520bb92d84664f06f9732a21f4e2e5ecee6d9136f16e7e0b63')\n",
      "None\n",
      "value=<YesNo.YES: 'Yes'> quality=<QualityOptions.INCOMPLETE: 'Incomplete'> comment='index multi-byte hard drive' data_source=ExtendedDocumentReference(page='865', tag_name='interfaces', file_name='SustainabilityReport', file_reference='50a36c418baffd520bb92d84664f06f9732a21f4e2e5ecee6d9136f16e7e0b63')\n",
      "value=None quality=<QualityOptions.REPORTED: 'Reported'> comment='connect optical array' data_source=ExtendedDocumentReference(page='620', tag_name='platforms', file_name='SustainabilityReport', file_reference='50a36c418baffd520bb92d84664f06f9732a21f4e2e5ecee6d9136f16e7e0b63')\n",
      "value=None quality=<QualityOptions.ESTIMATED: 'Estimated'> comment='override redundant pixel' data_source=ExtendedDocumentReference(page='197', tag_name='solutions', file_name='SustainabilityReport', file_reference='50a36c418baffd520bb92d84664f06f9732a21f4e2e5ecee6d9136f16e7e0b63')\n"
     ]
    }
   ],
   "source": [
    "from dataland_qa_lab.utils import config\n",
    "\n",
    "conf = config.get_config()\n",
    "dataland_client = conf.dataland_client\n",
    "\n",
    "dataset = dataland_client.eu_taxonomy_nuclear_and_gas_api.get_all_company_nuclear_and_gas_data(company_id=company_id)\n",
    "\n",
    "# Eintragen aus welcher Periode man das Dataset haben will -> In diesem Fall 2024\n",
    "data_id = \"test\"\n",
    "for t in range(len(dataset)):\n",
    "    if (dataset[t].meta_info.reporting_period == year):\n",
    "        data_id = dataset[t].meta_info.data_id\n",
    "        break\n",
    "\n",
    "data = dataland_client.eu_taxonomy_nuclear_and_gas_api.get_company_associated_nuclear_and_gas_data(data_id=data_id)\n",
    "\n",
    "wert1 = data.data.general.general.nuclear_energy_related_activities_section426\n",
    "wert2 = data.data.general.general.nuclear_energy_related_activities_section427\n",
    "wert3 = data.data.general.general.nuclear_energy_related_activities_section428\n",
    "wert4 = data.data.general.general.fossil_gas_related_activities_section429\n",
    "wert5 = data.data.general.general.fossil_gas_related_activities_section430\n",
    "wert6 = data.data.general.general.fossil_gas_related_activities_section431\n",
    "print(data)\n",
    "print(wert1)\n",
    "print(wert2)\n",
    "print(wert3)\n",
    "print(wert4)\n",
    "print(wert5)\n",
    "print(wert6)"
   ]
  },
  {
   "cell_type": "markdown",
   "id": "fe1a2009",
   "metadata": {},
   "source": [
    "## 3.Schritt: Datenquelle laden\n",
    "In diesem Fall wird die Dateireferenz von wert1 genutzt um das dazugehörige Dokument zu bekommen."
   ]
  },
  {
   "cell_type": "code",
   "execution_count": 4,
   "id": "c9cf6625",
   "metadata": {},
   "outputs": [],
   "source": [
    "# datenQuelle = wert1.data_source.file_reference\n",
    "# print(datenQuelle)\n",
    "\n",
    "document_bytes = dataland_client.documents_api.get_document(wert1.data_source.file_reference)"
   ]
  },
  {
   "cell_type": "markdown",
   "id": "13580b00",
   "metadata": {},
   "source": [
    "## 4.Schritt: Daten aus dem Dokument extrahieren und in Text umwandeln"
   ]
  },
  {
   "cell_type": "code",
   "execution_count": 5,
   "id": "a9846d68",
   "metadata": {},
   "outputs": [
    {
     "ename": "IndexError",
     "evalue": "list index out of range",
     "output_type": "error",
     "traceback": [
      "\u001b[1;31m---------------------------------------------------------------------------\u001b[0m",
      "\u001b[1;31mIndexError\u001b[0m                                Traceback (most recent call last)",
      "Cell \u001b[1;32mIn[5], line 11\u001b[0m\n\u001b[0;32m      8\u001b[0m partial_document_byte_stream \u001b[38;5;241m=\u001b[39m io\u001b[38;5;241m.\u001b[39mBytesIO()\n\u001b[0;32m      9\u001b[0m partial_pdf \u001b[38;5;241m=\u001b[39m pypdf\u001b[38;5;241m.\u001b[39mPdfWriter()\n\u001b[1;32m---> 11\u001b[0m partial_pdf\u001b[38;5;241m.\u001b[39madd_page(\u001b[43mfull_pdf\u001b[49m\u001b[38;5;241;43m.\u001b[39;49m\u001b[43mget_page\u001b[49m\u001b[43m(\u001b[49m\u001b[38;5;28;43mint\u001b[39;49m\u001b[43m(\u001b[49m\u001b[43mwert1\u001b[49m\u001b[38;5;241;43m.\u001b[39;49m\u001b[43mdata_source\u001b[49m\u001b[38;5;241;43m.\u001b[39;49m\u001b[43mpage\u001b[49m\u001b[43m)\u001b[49m\u001b[43m \u001b[49m\u001b[38;5;241;43m-\u001b[39;49m\u001b[43m \u001b[49m\u001b[38;5;241;43m1\u001b[39;49m\u001b[43m)\u001b[49m)  \u001b[38;5;66;03m# Correct for 0 offset\u001b[39;00m\n\u001b[0;32m     12\u001b[0m partial_pdf\u001b[38;5;241m.\u001b[39mwrite(partial_document_byte_stream)\n\u001b[0;32m     13\u001b[0m partial_document_byte_stream\u001b[38;5;241m.\u001b[39mseek(\u001b[38;5;241m0\u001b[39m)\n",
      "File \u001b[1;32mc:\\Users\\nh264\\DatalandQALab\\.venv\\Lib\\site-packages\\pypdf\\_doc_common.py:372\u001b[0m, in \u001b[0;36mPdfDocCommon.get_page\u001b[1;34m(self, page_number)\u001b[0m\n\u001b[0;32m    370\u001b[0m     \u001b[38;5;28mself\u001b[39m\u001b[38;5;241m.\u001b[39m_flatten(\u001b[38;5;28mself\u001b[39m\u001b[38;5;241m.\u001b[39m_readonly)\n\u001b[0;32m    371\u001b[0m \u001b[38;5;28;01massert\u001b[39;00m \u001b[38;5;28mself\u001b[39m\u001b[38;5;241m.\u001b[39mflattened_pages \u001b[38;5;129;01mis\u001b[39;00m \u001b[38;5;129;01mnot\u001b[39;00m \u001b[38;5;28;01mNone\u001b[39;00m, \u001b[38;5;124m\"\u001b[39m\u001b[38;5;124mhint for mypy\u001b[39m\u001b[38;5;124m\"\u001b[39m\n\u001b[1;32m--> 372\u001b[0m \u001b[38;5;28;01mreturn\u001b[39;00m \u001b[38;5;28;43mself\u001b[39;49m\u001b[38;5;241;43m.\u001b[39;49m\u001b[43mflattened_pages\u001b[49m\u001b[43m[\u001b[49m\u001b[43mpage_number\u001b[49m\u001b[43m]\u001b[49m\n",
      "\u001b[1;31mIndexError\u001b[0m: list index out of range"
     ]
    }
   ],
   "source": [
    "import io\n",
    "\n",
    "import pypdf\n",
    "\n",
    "full_document_byte_stream = io.BytesIO(document_bytes)\n",
    "full_pdf = pypdf.PdfReader(full_document_byte_stream)\n",
    "\n",
    "partial_document_byte_stream = io.BytesIO()\n",
    "partial_pdf = pypdf.PdfWriter()\n",
    "\n",
    "partial_pdf.add_page(full_pdf.get_page(int(wert1.data_source.page) - 1))  # Correct for 0 offset\n",
    "partial_pdf.write(partial_document_byte_stream)\n",
    "partial_document_byte_stream.seek(0)\n",
    "None"
   ]
  },
  {
   "cell_type": "code",
   "execution_count": null,
   "id": "2da4ca74",
   "metadata": {},
   "outputs": [],
   "source": [
    "from azure.ai.documentintelligence import DocumentIntelligenceClient\n",
    "from azure.ai.documentintelligence.models import AnalyzeResult, ContentFormat\n",
    "from azure.core.credentials import AzureKeyCredential\n",
    "\n",
    "docintel_cred = AzureKeyCredential(conf.azure_docintel_api_key)\n",
    "document_intelligence_client = DocumentIntelligenceClient(\n",
    "    endpoint=conf.azure_docintel_endpoint, credential=docintel_cred\n",
    ")\n",
    "\n",
    "poller = document_intelligence_client.begin_analyze_document(\n",
    "    \"prebuilt-layout\",\n",
    "    analyze_request=partial_document_byte_stream,\n",
    "    content_type=\"application/octet-stream\",\n",
    "    output_content_format=ContentFormat.MARKDOWN,\n",
    ")\n",
    "result: AnalyzeResult = poller.result()"
   ]
  },
  {
   "cell_type": "markdown",
   "id": "4d28e7c3",
   "metadata": {},
   "source": [
    "#### Das Ergebnis wird als Markdown direkt im Notebook wiedergegeben"
   ]
  },
  {
   "cell_type": "code",
   "execution_count": null,
   "id": "f3ba48bf",
   "metadata": {},
   "outputs": [
    {
     "data": {
      "text/markdown": [
       "Nein\n"
      ],
      "text/plain": [
       "<IPython.core.display.Markdown object>"
      ]
     },
     "metadata": {},
     "output_type": "display_data"
    }
   ],
   "source": [
    "from IPython.display import Markdown, display\n",
    "\n",
    "display(Markdown(result.content))"
   ]
  }
 ],
 "metadata": {
  "kernelspec": {
   "display_name": ".venv",
   "language": "python",
   "name": "python3"
  },
  "language_info": {
   "codemirror_mode": {
    "name": "ipython",
    "version": 3
   },
   "file_extension": ".py",
   "mimetype": "text/x-python",
   "name": "python",
   "nbconvert_exporter": "python",
   "pygments_lexer": "ipython3",
   "version": "3.12.3"
  }
 },
 "nbformat": 4,
 "nbformat_minor": 5
}
