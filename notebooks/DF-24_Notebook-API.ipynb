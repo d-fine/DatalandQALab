{
 "cells": [
  {
   "cell_type": "code",
   "execution_count": 1,
   "id": "ac4a575e",
   "metadata": {},
   "outputs": [],
   "source": [
    "%run base.ipynb"
   ]
  },
  {
   "cell_type": "markdown",
   "id": "ec394145",
   "metadata": {},
   "source": [
    "# EPIC 1 - User Story DF-24\n",
    "## Erstellung eines Notebooks und aufrufen der Daten per Dataland-API\n",
    "\n",
    "Als QA-Lab-Team möchten wir ein Notebook erstellen, mit dem wir eine Anfrage an die Dataland-API senden, sodass wir anhand der Berichts-ID den Unternehmensbericht erhalten.\n",
    "\n",
    "Beschreibung:<br>\n",
    "Nutzen von Dataland Endpoint /data/nuclear-and-gas/companies/{companyId} im Nuclear & Gas Controller. Die Funktionalität wird außerhalb des Notebooks implementiert.\n",
    "\n",
    "Akzeptanzkriterien:<br>\n",
    "    - Notebook ist auf jedem Laptop ausführbar<br>\n",
    "    - Anfrage an Dataland gibt Daten zurück"
   ]
  },
  {
   "cell_type": "markdown",
   "id": "6b79b78e",
   "metadata": {},
   "source": [
    "## 1.Schritt: Dataset mit Hilfe der Company_ID über die Dataland_API aufrufen\n",
    "Mithilfe der Company_ID wird die Dataland_API aufgerufen. Nachdem Eintragen aus welcher Periode das Dataset sein soll, ist es möglich den Wert 1 zu erlangen."
   ]
  },
  {
   "cell_type": "code",
   "execution_count": 3,
   "id": "cf87363e",
   "metadata": {},
   "outputs": [
    {
     "name": "stdout",
     "output_type": "stream",
     "text": [
      "b7ada81e-3fa2-4070-a136-8e247acb486f\n",
      "No\n",
      "b'%PDF-1.7\\r\\n%\\xb5\\xb5\\xb5\\xb5\\r\\n1 0 obj\\r\\n<</Type/Catalog/Pages 2 0 R/Lang(de-DE) /StructTreeRoot 10 0 R/MarkInfo<</Marked true>>/Metadata 20 0 R/ViewerPreferences 21 0 R>>\\r\\nendobj\\r\\n2 0 obj\\r\\n<</Type/Pages/Count 1/Kids[ 3 0 R] >>\\r\\nendobj\\r\\n3 0 obj\\r\\n<</Type/Page/Parent 2 0 R/Resources<</Font<</F1 5 0 R>>/ExtGState<</GS7 7 0 R/GS8 8 0 R>>/ProcSet[/PDF/Text/ImageB/ImageC/ImageI] >>/MediaBox[ 0 0 595.44 842.04] /Contents 4 0 R/Group<</Type/Group/S/Transparency/CS/DeviceRGB>>/Tabs/S/StructParents 0>>\\r\\nendobj\\r\\n4 0 obj\\r\\n<</Filter/FlateDecode/Length 179>>\\r\\nstream\\r\\nx\\x9c\\xad\\x8e=\\x0b\\xc20\\x18\\x84\\xf7@\\xfe\\xc3\\x8d\\x89`\\x9a\\xd7$M\\n\\xa5\\x83m-\\n\\x05\\xc5\\x80\\x83\\xb8Y\\x9d\\x14\\xbf\\xfe?\\xd6\\xd2Awo{\\xe0\\xb8{\\x90\\xac\\x91\\xe7I[.+\\xe8\\xa2\\xc0\\xbc*q\\xe7L+\\xfdI\\x08\\xde@\\xc3eNY\\x8b`gJ[<:\\xcev\\x13\\\\9\\x9bG\\xce\\x92\\x05\\x81HQ\\x8ax\\xe2\\x8c\\xfa\\xb6\\x06\\xc1k\\x95\\xa5\\x01\\xdee\\xca9\\xc4K\\xdfk\\xb6\\x1e\\xe7g?\\x8d\\xf3@a\\xa4\\x86\\xb3\\xbd\\x88\\x92\\xb4\\xe8\\x9erJN\\xbc\\xa41\\x02r\\x1a\\xc4M\\x1aq\\x94d\\xc5I\\x1e\\x10W\\x9c\\xd5\\xfd\\xe1\\x86\\xb3?\\x08\\x12\\x19E\\xf4-8x\\x8d:\\xf8\\xfdC\\xdd\\x96x\\x03l\\x839\\xcb\\r\\nendstream\\r\\nendobj\\r\\n5 0 obj\\r\\n<</Type/Font/Subtype/TrueType/Name/F1/BaseFont/BCDEEE+RobotoSlab-Regular/Encoding/WinAnsiEncoding/FontDescriptor 6 0 R/FirstChar 32/LastChar 116/Widths 18 0 R>>\\r\\nendobj\\r\\n6 0 obj\\r\\n<</Type/FontDescriptor/FontName/BCDEEE+RobotoSlab-Regular/Flags 32/ItalicAngle 0/Ascent 1048/Descent -271/CapHeight 1048/AvgWidth 605/MaxWidth 1405/FontWeight 400/XHeight 250/StemV 60/FontBBox[ -173 -271 1232 1048] /FontFile2 19 0 R>>\\r\\nendobj\\r\\n7 0 obj\\r\\n<</Type/ExtGState/BM/Normal/ca 1>>\\r\\nendobj\\r\\n8 0 obj\\r\\n<</Type/ExtGState/BM/Normal/CA 1>>\\r\\nendobj\\r\\n9 0 obj\\r\\n<</Author(Meyer, Marc) /Creator(\\xfe\\xff\\x00M\\x00i\\x00c\\x00r\\x00o\\x00s\\x00o\\x00f\\x00t\\x00\\xae\\x00 \\x00W\\x00o\\x00r\\x00d\\x00 \\x00f\\x00o\\x00r\\x00 \\x00M\\x00i\\x00c\\x00r\\x00o\\x00s\\x00o\\x00f\\x00t\\x00 \\x003\\x006\\x005) /CreationDate(D:20230321105846+01\\'00\\') /ModDate(D:20230321105846+01\\'00\\') /Producer(\\xfe\\xff\\x00M\\x00i\\x00c\\x00r\\x00o\\x00s\\x00o\\x00f\\x00t\\x00\\xae\\x00 \\x00W\\x00o\\x00r\\x00d\\x00 \\x00f\\x00o\\x00r\\x00 \\x00M\\x00i\\x00c\\x00r\\x00o\\x00s\\x00o\\x00f\\x00t\\x00 \\x003\\x006\\x005) >>\\r\\nendobj\\r\\n17 0 obj\\r\\n<</Type/ObjStm/N 7/First 46/Filter/FlateDecode/Length 296>>\\r\\nstream\\r\\nx\\x9cmQ\\xd1j\\xc20\\x14}\\x17\\xfc\\x87\\xfb\\x07\\xb7\\xb1\\xadc \\xc2\\x98\\xca\\x86XJ+\\xec\\xa1\\xf8\\x10\\xeb]\\r\\xb6\\x89\\xa4)\\xe8\\xdf/w\\xed\\xb0\\x03_\\xc297\\xe7\\x9c\\x9c$\"\\x86\\x00D\\x04\\xb1\\x00\\xe1A\\x10\\x83\\xf0\\xe8u\\x0eb\\x06Q8\\x03\\x11B\\x14\\xfb\\xe1\\x1c\\xa2\\x97\\x00\\x16\\x0bLY\\x1d@\\x869\\xa6\\xb8\\xbf_\\tsg\\xbb\\xd2\\xadkjp[@p\\x00L+\\x08Y\\xb3\\\\N\\'\\xbd%\\x18,+Sv\\ri\\xf7\\xcc)\\xb8Jv\\x80\\xc15R\\xec-Qf\\x8c\\xc3\\xcc\\xd4\\xb4\\x93W\\xee\\xc8y\\xa9\\xb4>\\x8bw\\xb9.O8&\\xeacF\\xbb\\t\\xdd\\xdc\\x96\\xee \\x86\\xe8\\x8d\\xcf\\xd2\\xc6\\x11&\\xbc\\xac\\xf5\\xe9A\\xf6^z47\\xcc\\xa9t\\xf8A\\xf2D\\xb6\\xc7\\xec\\xf9\\xc3\\x9f\\xbaV\\x9a\\xf2\\xb3\\xe4\\x86<x\\xd3>A:e\\xf4\\xc0\\xadS\\xdf\\xd2\\x83_\\xf6e\\xec\\xe5h\\xcc\\xe5q{\\x9e\\xb4g\"\\xc7%\\x1d\\xeedi\\xcd\\x88\\xbf\\x9f\\xfd:\\xe2+%kS\\x8d\\x06y\\xadN4\\xd2\\xf6\\xe7xYee\\x83\\x1bUu\\x96\\x86\\xbb&]\\xd3\\x16\\xfc\\xc7\\xf3\\x7f\\xaf\\x9b\\xc8\\x86\\xda\\xa2\\xa7\\x8f\\xa7\\x9fN~\\x00T\\n\\xa2\\xbb\\r\\nendstream\\r\\nendobj\\r\\n18 0 obj\\r\\n[ 249 0 0 0 0 0 0 0 0 0 0 0 0 0 0 0 0 0 0 0 0 0 0 0 0 0 0 0 0 0 0 0 0 0 0 0 0 0 0 0 0 0 0 0 0 0 0 0 0 0 0 0 687 0 0 0 0 0 0 0 0 0 0 0 0 0 0 0 595 517 354 0 0 0 0 0 0 0 0 0 584 0 0 499 356] \\r\\nendobj\\r\\n19 0 obj\\r\\n<</Filter/FlateDecode/Length 3571/Length1 11496>>\\r\\nstream\\r\\nx\\x9c\\xedZ\\x0bT\\x93\\xd7\\x1d\\xff\\xdf{\\xbf|AE$B\\x12\\xaaQ\\x08)\\x89V@K\\x08XjmA\\x05\\x15\\x05\\x15TT\\x9e!<\\xc2[\\xc0\\x82\\xa2\\xa1\\xe2\\x13\\x95\\x16\\xb4\\x96\\xfa\\x9a\\xd6\\xb4\\x1e\\xed\\xd6\\xea\\xba\\xd6J\\xab\\x94n\\xa3\\xc7\\xd3\\xd9\\x9d\\xb5\\xd6\\xd5\\xd9\\xd9vv\\xddv\\xaa\\xab\\xdb\\xec\\xdc\\x8a\\xe4c\\xff\\xfb%\\xa0\\xd8v\\xebYu\\xb6;\\xdc\\xff\\xb9\\xbf\\xdc\\xe7\\xffy\\xbf\\xff\\xf7\\x00 \\x00\\xe0\\x8d \\x00$\\xa7\\x8c\\x8f\\xa8\\x1e\\xdb`\\x04 \\xd3q4;%56u\\xf9\\xb6\\x92\\xf3\\x00\\xf7Tc?<\\xb74\\xa7B}V\\xf5\\x13\\x00\\xbf \\xec?QP\\xb2<\\xffR\\xd0o\\xef\\xc1~\\x07\\xc0\\xe0\\xb4\\xc2\\xbc\\x1c\\x9b.\\xda\\xea\\xc2\\xb9SX\\xa3\\nq\\xc0\\xf7\\xbc\\x98\\x8f\\xfc\\x90;\\xdc]XZ]\\xbbn\\xa3W\\x1a\\xf6\\x0f\\x02\\xa8jK\\xcass\\xf6\\x05\\xeeo\\x03\\x18\\x1d\\x000\\xc8\\xab4\\xa7\\xb6Bh\\x82T\\x9c\\x1f\\x83\\xeb\\x83\\xcarJ\\xf3\\x12\\xc3\\xea~\\x0c`By,\\xb2\\xa2\\xbc\\xaa\\xba\\xa7\\x14l\\xa8O*\\x9f\\xaf\\xa8\\xcc\\xab(\\x14\\xb7\\xacC\\xf9\\xc7\\xb0\\xaf\\x04n\\x0b\\x85\\xb8\\xcbFme\\xd6\\xb0I\\x7f\\x07\\xe6\\x05\\xbc\\xbc\\xb7\\xe1\\xc4\"\\xfe{>p\\xf1\\x04i\\x8f\\xeb\\xcc\\xa0\\xf7\\xbd\\xac\\xd8\\x15q\\xad\\xbb\\xe0>/\\xab\\xeb\\x0c\\xeapY\\xda\\xd3U8\\xe8}\\x99\\xd3\\rE\\xb8\\x8f\\x8f\\x08k`<\\xfaI\\x07\\xac\\xdf\\xbc\\x12\\xf9\\x10\\x10\\x84\\xf7H3(\\x00\\x14f\\xe1-\\x1c\\xdd\\xe9\\xfe\\xa5o\\x81\\x8d6\\xf6\\xe7\\x06=X\\x97p\\x0bx\\'!99\\x01:`h\\x8f\\xcb\\xad\\x83\\x97\\x95\\x16\\x05\\x01\\xd9+\\xcb\\x8dQ\\x1c\\x91\\xd71\\xc1\\x07l\\n\\x17\\xc4\\xf3\\n\\x03\\xe5\\x96\\x17e;d\\xdei\\x1d\\xbeMQ8 \\xfbN\\xeb\\xf0\\xffZ\\x84\\x9fBR\\xbf\\xbe\\x01f\\xde*\\xde\\xf4\\x0c<t\\xabx\\xfd\\xbf\\x14\\xe19\\x08\\xeem\\xb3\\x050\\xfd\\xc69&A\\xe1\\xbf\\xdbK\\xcfA\\xc0\\xed\\xd2\\xebv\\x17\\xc1\\x1f\\xe6\\x7f\\xed\\\\;\\xf8\\xf2\\xfa?T\\xe7\\xcb:\\x9c\\x86\\xb1\\xfd\\xfaK!\\xf0\\x96\\xf0\\x9d~k\\xf8\\xfc7E\\x8c\\xbds\\xb2{\\x8b\\xb0\\xe9\\xba_\\x85\\xbd\\xfd\\xf5\\x11f\\x83\\xfdk\\xf7\\xb5\\x82\\xf9v\\xeau+\\x0b\\x9e\\x9d/\\xf9Y8\\x03\\x81x\\x862\\x99\\x03\\x8a\\xee\\x84N\\x03e\\xa0\\x0c\\x94\\x812P\\xbe\\xfb\\x85|\\x0c\\x8f\\xddi\\x1dn,\\x8c\\xc2\\x01r\\n\\x0e|\\xd3\\xf5\\xc4u;\\xb5\\xf9\\xde\\x971wZ\\x81\\x7fS\\xf8W\"\\x86\\xd5\\xdf\\xf3\\xdd\\xc7\\x1f\\x04h\\xc0\\xdf\\x00|\\x1ag\\xe0\\x85\\xef*&\\x88\\x85\\xd9\\x90\\n\\xf9P\\x01\\xd5\\xf0,\\xbc\\xceH\\x0f\\xff\\xc6\\x13\\xd47c\\xc3\\x99\\xca\\xeb3\\xac\\xbd\\xa7\\x03\\x86@$\\xae\\xf9\\x05\\x9e\\x8d\\xa6\\x9eX\\x12\\x85\\xbc\\xaf\\xbf\\xb9\\xf8c\\xd5\\xf4v\\xd8_X\\x07\\xfb=|\\x08\\x1f\\xc3U2\\x99\\xc4\\x11|\\xfb<Fz\\xd6\\x1d\\x11\\x9a\\xf8w;\\x1b\\xaexVq\\x04uQ\"\\xcfa\\x00U*\\xbd*D\\xaf\\xd2\\x13b&z\\xac6\\x16\\xdf\\xfd\\x17z\\xcee\\xa4\\x1d\\xae\\xd1\\x93\\xe8\\x85\\xee\\x0b\\xf4\\xc2$\\xd7h\\xc5\\x91\\xae9Q\\x8a\\xa9];\\x15\\x1b\\xbbjyEK\\xe3\\x01\\x14/#\\xafa\\xa0F>\\x96h\\xdc\\xadU\\xeb-\\xd1L\\xcf\\xb4j?=3\\x19\\x94\\xf1%\\xc4u\\x88|^,e\\x96e\\xbb\\xdar\\xcb\"\\xc8/\\x7f\\xed-z;\\x86)\\x0c]\\xe7\\x879\\x1c~\\xc4[\\xfa\\xdc\\xcfA\\xe3\\xe8\\x1c\\xbd\\x1e\\xd0Z\\x99\\xa7r\\xb2h\\x94\\xbd\\xa7\\x14\\xa2i\\x0e\\xe1\\xedL\\xecd\\xa3\\xac\\xd1\\xb2$\\x95\\xc9b\\xe6\\xca\\xea\\xd5J\\x95,R\\xa52\\x11\\x03Q\\xfaa/\\xd3\\xe9t\\x12%9#\\x927\\xc8\\xcbN\\xa7\\xeb\\xef?RH\\xa65\\x92V\\xa1<\\xe2\\xd0\\tu\\xba\\xfak\\x87\\x85\\xb9\\xf5\\xbak\\xebt\\x0e\\x87\\x8e\\x1c\\xa0\\xb9\\xe4Z\\xb3PF\\\\{\\xa5\\xc5:\\x07J\\xcaF\\rF\\xc8VA\\x0e2\\xd6+\\r\\xe8!\\x83I\\x8f\\xac\\xc91\\xa7tt\\xd4\\xe3\\xc2+[GKG\\x9d\\xc8m\\xf5\\x9b$Kz\\xea\\xcdk\\xf5\\xb8\\x93BR\\xcfEa\\xad\\x18\\x80\\x911\\x01L\\x0b6\\x1a-\\x96\\xc8\\xe1Q\\xe6\\x08\\x8d\\x96\\xebk\\xe6\\x9a\\x9aD\\xd1\\x14\\x11\\x15\\xad2\\x1a\\r\\xc1\\xa2\\xa8V\\xfbk\\xc8\\x95\\xb5\\'l\\xb6\\xf6u\\xd9\\xdb\"\\x9d\\xceN\\xa7\\xf4\\x82\\xafe\\x879\\xad\\xd6d\\\\1?s\\xc5\\xa4\\xf5\\xea5\\x9f\\xeeV?O\\xc4\\x96\\x84)\\xa4MW\\xdf\\xd5\\xa0s\\xac\\x9e9k\\xdf\\x9c\\x19\\xe4\\xea\\xd49\\xc5\\'V\\xa9\\x9do\\xa0\\xe4\\x99=\\x17\\xd9\\xbbB\\x12\\x8c\\x80\\x90>\\xc9Q\\\\\\xb2F\\xad\\xd6+GS3\\xca\\xd4\\x8a\"\\xd1[\"\\xdd\\x92\\x954\\xfa\\x89\\x0f\\x96\\xd7\\x9f^\\xb5\\xb5\\xd3\\xe6\\x8actZ\\xc3\\x12[k\\xf4\\xec\\x98\\xd7\\xa4,r%\\xbat^\\\\I\\xfc\\x10u\\xe3\\xe7\\xfbBw^i\\xaa\\xfd\\xcd\\xb6:E\\xe1S\\xe9\\xf7E<2q6\\xfd\\xc1\\x88\\xa4\\xba\\x84\\xd9kS\\xd1S\\x0f\\xe1q\\x7f_\\x0c\\x83\\x91\\xee\\x98\\x18,f\\x94\\xca\\xcdU\\xcaB\\xd4j\\xb3\\xda\\x80F\\xc7;\\x0f\\x1dzi\\x7fp\\xf2=\\x01\\xc3\\x1f\\x18\\xb90\\xf5\\xd2\\xa5W\\x1c:\\xe6\\xb3\\xb5\\xf1\\xb9\\x13C\\x06?!\\x88\\x05\\xd6\\xc6\\xad\\xdd\\x7fC\\x07\\xa2\\x1d\\xc1R\\xb6\\x90\\x85v\\xdc\\xc5\\xaf\\xf1\\x149\\xcez\\xadl\\xc8p\\xf4\\x95(\\x1a\\x82\\x8d&\\xe4\\xe8\\x17\\x11e\\xf1X\\xa2Ti4\\xa1;\\x9cd\\xd6\\xf0\\xa8]\\xf9\\xeb\\xdbmy\\xc7\\xd7\\xdaZ-?J\\xd8\\xd2\\xfcP}VjmHH\\x8d\\x94]\\xaf\\x13\\x9e\\xd6\\xd5\\xaf\\x9d\\x99\\xd4\"];\\xac\\xde\\xfd\\xe9\\x9a)q\\xd2f]=\\r9\\xe5T\\xaf<Q2+\\xce\\xf5\\xd7)3\\xd0\\x9e\\xe9xm\\x8cA\\xe9\\x9a\\xde3\\xa6\\xd7\\xba\\x85k\\x95&\\xa3\\xc8O\\xdat<Z)*\\x1a\\xbeaa`\\xac\\xcf\\x88\\xc6\\xa4\\xa2Qx\\n\\x98BW\\xbf\\xc9/%s\\x88\\xe2e/\\xc5\\xdc\\xa9\\xae]\\xdc\\x16\\x02\\x85\\x18\\x93g\\x90\\xdb89\"&f\\xd6j4\\x18\\x07\\xd4\\xdb\\x84\\xf1q\\x87G\\xab5\\x98\\xdc\\xbe\\xf2\\xd7hp\\x1em\\xa4P\\xda^L\\xb7\\x87L\\xb4?P[h\\xdf\\xf4\\xf3\\xb6\\xfc\\xa3\\xcb\\xeb\\x0e\\xc7\\x0e~<\\xc8\\x90=9\\xbdJ\\x9f\\xb9\\xe4\\xc2O~\\xa1\\x0e\\r\\'d\\x97V\\x9d>\\xf5\\xa1E\\x81a\\xad\\x8e\\xb4\\xcd\\xf3&\\x8e\\xffG\\xf3\\x08\\xdd\\x82X\\xe3\\xc40\\x8d\\xe5\\xe9\\xda\\xc66\\xaeC@\\xcfez@\\xf1 he\\x1d,<D*$\\x0c\\x8b\\xbf\\xa6\\xf7L\\x9c\\xacm\\xfa\\xe1\\x0f;/^\\x9c\\x1ciX\\x100r\\xdc*U\\xd3.\\xda\\xb2\\x95(\\xa4k[]\\xe5I3\\x87*V\\x0f\\xf5\\xe7\\xbc\\xe6\\xa3=/\\xa1=a\\xee\\x13\\x16\\x1dm\\x96\\xcfU?{4J\\xa5!\\xb2\\xbf=\"\\xf5\\xddt\\xd2.\\xd0\\xe3,\\xbe<\\xd6^\\x93\\xbb\\xa9\\xf3d\\xc1\\xd1ZG[.\\xa3\\xc7k\\xac\\xf6\\xfc\\x90\\xdc\\xf4\\xb7N\\x16\\xb5\\xabs\\xf6e\\x88\\xf1\\x8b\\xc6\\xcd\\x9f\\x16\\x9b\\x1a8\\xeeqGZ\\xf3\\x82E\\xad\\x19b\\xc2\\xd2\\xf4\\xd8q\\x93\\xc2\\xfcB[\\xeb\\xb3[\\xe6\\xe2\\t\\xf1\\xc5$\\xf64\\xa6\\xb2\\x9bs\\x8eI\\xaf\\xd4\\xaa\\x99\\x9cs|\\xe7\\x92=md\\xf7\\\\iy\\xf1\\x04I\\x98PB\\xc8\\xfa\\xe7\\xfc\\xc5\\xe1\\x0e\\x1f\\x81\\\\\\xeb\\xf1q8\\x86\\xaf\\\\9\\xdcA\\x0e\\x90\\x0e\\xf3x\\x9eqd\\x8eb\\x80h$\\x8f\\xb83\\x0eyE\\xce\\xe3\\xf8\\x96-T\\xa2$_\\xd0]\\xcf9\\xf2\\x15\\xc5\\x0f\\xa2\\tM\\xf7\\x1cB\\xc3X\\x9eq\\x9eh\\xfdl\\xf3\\xe6\\xcfZ\\xdf~;s{Z\\xda\\xf6\\xcc\\xb7\\xf1\\\\\\xa4\\xe9\\xea\\x9b\\xaf9#\\x9c\\xdd\\x8f>Yt\\xac\\xca\\\\\\xf9r1\\xf7#\\xbe\\xd9\\xb2\\xbf\"_\\xbf\\xbeS&g\\x17\\xbd\\x1ak\\xb4Y\\x15\\xe8t\\xb2w\\x0e\\r\\x93\\x92\\xc8Yi\\x0cy\\xc1\\xf7\\xa0\\x9b\\x91\\xd4~H:\\xb6SZ\\x7fHz\\xcd\\xc3\\xe3\\n\\xf2P}\\x99\\x87V\\xcd9\\xbc\\x8b\\x1cf\\x91s\\x92\\xd1y}\\xfb\\xae\\x9d\\xd23r\\x86\\xc3\\xdd\\xa2\\x1ew\\x8f\\xea\\xb3\\xcb\\x8cn4\\x9b\\xfb\\x92\\xa9\\x9cK\\xdd\\x9c\\x9c\\x12\\xc9\\x16\\x89\\xf5\\xaa\\x93gR\\xa7(\\xbd\\xb8Qz^\\xf40\\xed~\\x98m\\xaa\\xd7u\\x1f\\xe4\\x89\\x94>F\\xbb\\xcf\\xb0\\x07\\xa8+\\xcb}%s\\xef\\xcd\\x93\\xad\\xbc\\xc9{\\xdcy\\\\K\\xa6\\x97\\xcf\\x8eA?v\\xff\\xfe\\xfd\\xe4\\xf4\\x86\\x9f\\x15\\x15\\xfdl\\x83t\\x05=9tYm\\xed2\\xe9\\x8a[F\\xd6\\xc1\\xb2\\xb2\\x83\\x99\\xd2U\\x9d\\x83Nv,No\\xe0wW\\xd4_\\xc8\\x91y\\xdf\\xc5\\xbf\\xfd\\xdd\\xcc\\x9d\\xe7\\x1c=\\x8b\\xf6\\xc3|\\xed>\\x9f\\x06\\x037\\x84\\xbc\\xd6\\xd8\\x91\\x97\\xd7\\xd1\\xd8\\xe5$Q\\x7f\\xea<Z\\xe62v\\xd5V,\\xad\\xe9r\\xcbI\\xd9]n}r\\x81\\xf4*\\xca1\\x11\\xc9\\x8e\\xb7\\xa4\\xe5\\x99i\\xe9v\\xf4\\x96\\xbd\\xe72\\xfbL\\xd8\\xeb9\\xf7&\\xd5\\r\\xd7q8\\x95\\xcf}\\x94F\\xab\\xfe\\xd2u,R\\xd3\\x8a\\x0f\\xf2w\\xe8\"\\xd7\\'\\xd7mp\\xec\\xd8\\xf8jv\\xf1\\xeb\\r[N\\'\\xb4\\x06\\x86T\\xa7\\xd8\\xd7YV\\x15\\xff\\xf2WKO\\xa9&M%\\x83\\x9f\\x0f\\x0cI\\x9f\\x95\\xb8$D\\x9f\\xb9!=\\xbde>I\\x98\\xf8\\x853 8=1tJ\\xd4H\\xf3\\x8f7\\xe6\\xb4\\xcc\\xe1\\xe7\\xc6\\x8cV\\xa7\\xcb\\'_\\xbe/\\x19<\\xf7%n-y\\xd0\\xf9O\\x9fC\\xc2\\xd8\\x83\\xc3$\\x1e\\x9a\\xc5\\x87H\\x1c\\x06\\xbc\\xfb\\x80|W\\xe2\\xdeZ\\xfc\\x8d\\xce\\xb1\\xec\\xa5g\\x9a.\\xac]{\\xa1\\xe9\\xa3\\x8fR\\x1b\\xe7\\xcemL\\xfd\\xc8\\xed\\x9e\\xba\\xb3\\x9b\\xdf\\xd9\\xf2\\xde\\x8a\\'\\xe7o\\xcb8\\xbdd\\xdb\\x02\\xf0\\xf0\\xdd\\x87|\\r\\x10zs\\x0c\\x942w\\x7f5\\xc6A\\xbe\\x15\\x19\\xfbG\\\\\\x96\\xf3\\x16F#7\\xbbpI\\xae\\xf4\\xa9\\xb7h\\xb7J\\xe7p\\xcc\\x8b\\x07D\\xfa\\xa7[\\xe4\\xdc\\x1d%\\x8b\\x1c\\xa6\\xd1\\xcd\\xf6\\x87\\x95>^*\\x87\\xd6\\x1aY\\xbd\\xd8&\\x07\\xa872\\x99=\\x97\\x05\\x95\\xb0\\x07\\xc2\\xfb2\\x92\\x7foh\\xfab\\x13\\xf1\\x95)\\xe9\\xbe\\r\\xbf\\xa9\\x13\\xc8\\x89\\xc4\\xfa\\xe45\\xcd\\x96U\\xa5\\xdb\\x8f/*\\x7f\\xb3\\xf1\\xedK\\n\\xfa\\xea\\xda\\x1a\\x87c\\xbc\\xa3\\xe6\\xec\\xa9\\xaawU\\x89\\xbb\\xeb\\xc4\\xe9\\xe9\\xa1\\x99\\x89\\xe3\\xe3\\xa3G\\x9a\\xd2\\x1al\\xd6\\xe6\\xe4W\\x0e\\x8a\\xe9U\\x193\\xef\\x8d\\xb3\\x8c\\x8a\\xd9\\xddR\\xd0\\x9c\\x88\\x9e(\\xa2/2\\x85\\xa2\\x13\\x9f\\xe0\\xd0\\x13\\xb1\\xc1<\\x19\\x9a\\xcd\\x16\\xb7P\\x93\\xc9\\xc8\\x95Pc\\xc2\\xd5\\x1aP-\\xf9\\xfe\\x1f\\x15mq+Drk\\x1a\\x0e\\xee\\xdft\\x7f\\xcc\\x94\\x19N\">\\xbbe\\xdd\\x1eo\\x9f\\xc3^\\x83\\x99\\xbe\\xc2\\x10<#\\xc6\\xbb11\\xf5~\\xfa\\xe2\\x8a\\xa2\\xb2\\xda\\xc8\\x07\\xa7F\\xdd;T\\xb46<\\xba^z\\xc3\\x9cv\\x8fz\\xc2\\x88\\xf1\\x937\\xeb\\xc6\\x05\\x94\\xc5\\x85\\x87M@\\x1d\\xf0}\\x87\\xa4z\\x9e\\xeb \\x05\\x93<\\xb3\\x98\\xd5\\x8fuvv\\x92\\x0f\\xd8;\\xdd\\xe1R\\xf0\\xa9S\\x98\\xeb\\x0e\\x08\\x81t\\x85\\x18 \\x18\\xd9\\'<\\xd7\\xb1O\\xf0I\\x92\\x9f-\\x1c\\'S\\xf1\\xc9E\\xc1\\xf7\\xe2Fv\\xe0\\x07\\x0f\\xe0P\\xd8\\xa9\\x0f\\xa5?\\xf0\\xf91\\n/r\\xd23\\xefg\\xd6\\x12\\xc3\\x98c\\x7f\\xa0\\xd2\\x95M8\\xec+JW\\x91\\x87\\x11\\xe6@\\xfa\\xf7\\x88Zn3=\\xff\\xbd\\xa2\\x8bn\"\\xc6oD\\xc9\\xdf\\x19zT\\xa6\\x97<\\xf4\\x8f\\xfeDG\\xddV\\xca\\xeeG\\x8dt\\xfb\\xb7\\xa4\\xd7=\\xf4\\xf1\\x7f&F\\xbf\\x15E~k\\xb2\\xca\\xb4\\xc3C\\xe7\\xfb\\xd1\\x17\\xb7\\x83\\x84\\x90>\\xca\\x17\\x9e\\x15.\\r\\xd0\\x00\\r\\xd0\\r\\xd4skH1D1\\xf2{@\\xa1\\xdfM\\xc2\\xe7 _x\\x83\\x7f\\xf9\\x13\\x06a\\xfbE\\xf9[ o\\x13\\xd0\\xe0\\x13\\x92\\xbbM\\xc1\\x07>\\xf2\\xb4\\x19\\xc4\\xe0*w[\\xc0\\x15\\x9fy\\xda\\n\\x18A\\xfc=m\\x11\\xee\\x867=m%\\xcc$\\xe1\\x9e\\xf6 \\xf0&E\\x9e\\xf6\\x10\\xf0\\'\\xb5\\x9e\\xb67\\x18\\xc9\\x16O{(\\xa4\\x93\\x17<m\\x1fH\\xa5>\\x9e\\xf6]\\xe0\\xdf\\xcb\\x93\\x00xS\\xab\\xa7-\\xc8\\xbaM\\x81r\\xa8\\x80\\xe5P\\tv(\\x80B\\xa8\\xc6\\'\\xdb\\x08\\x98\\x00\\xf7\\xc2Dl\\xa5\\xe2H\\x1e\\xfe\\xce\\xc3UV\\xac\\xd5X\\x83 \\x05J \\x07\\xfbA\\xf8\\x1cX\\x89#E\\xb8&W\\xde\\x19\\x0b\\xcb\\xf0\\xb7\\x10\\xc7*\\xa1\\n\\xfbcd\\x8e\\xd5(\\xa1\\n\\xad\\x1f\\x8fT\\x80r\\xf8\\x8ae\\xb8?\\x1cw\\x95C\\xa9<Z\\x8eT\\x80|\\xf3 \\x1f[e\\xb8\\xa6\\n\\xc7+o\\x90[\\xe5\\x91:\\x16\\xf5\\x0bG\\r\\xb9\\x8e\\xf7C\\x02$#%`\\xebF\\x1d{5\\x0c\\xc3\\xd1<\\xe4\\xbbL\\xeeW~\\xad\\x1d\\xfdW-\\xc0\\x1e\\xd7\\xdf.k\\x12t\\x83\\xbc\\xaf\\xdbo\\x97\\xad\\xcd\\xc1Z\\x8d;s\\xc0\\x86\\x1cJe^\\xc58V\\x8e6\\x05\\xa1\\x8e\\xd7m\\x0c\\xbf\\xa9\\xe7\\xf6\\xc3\\x14\\xf4K\\xa5\\xcc\\xab\\x1a1G\\x96\\xed\\x96\\xc8\\xf5\\xe1\\x1e\\xe1\\xfa\\xcc\\xc2\\xb9\\\\\\x1c)\\xc3~\\x1eJ\\nB\\xbd\\xcbd\\x89\\x95\\xb2|w\\xc4b\\xd1\\xe79\\xb8\\xce\\xdd\\xeb\\xbf\\'\\x14G\\xbe\\xda\\xc6\\xdeh\\xb9cU#S8\\xf2\\xb9\\xce+\\\\\\x8em\\x01\\xce\\x96\\xf4\\xe3\\xc9\\xa35\\x0bf\\xa0\\r\\xd3 \\t=3\\r}\\xef\\xe6\\xb9\\x10g{\\xcf\\x16s\\x7f\\xb7\\xee)\\xe2\\xdf\\xa6\\xbf\\xa2\\x10$/\\xcf\\xb7t\\x8e:\\xa05\\x05\\x85\\xd5\\xc4\\xfd\\xb5\\x9d\\xef\\xa6D \\xcd\\xf8s\\xdc\\xb3\\x9e_a@N\\xe2\\xc8`l\\xf3/{\\x19X\\xb3\\xe0\\x05\\xc4v\\xf8\\x10\\xf1w\\xf09\\xe2U\\x12\\x08\\x84\\xe8\\xc92\\xc4\\x1aR\\x83\\xb8\\x92\\xd4#\\xb7G\\xc8\\xfb\\xd8>O\\xc3\\x81\\xd0\\x18\\x1a\\x838\\x89NF\\x8c\\xa5\\xf3\\x11\\x17\\xd24\\xc4\\x0c\\x9a\\x85h\\xc5+\\x87P\\x1b-@\\xb4\\xd3\"\\xc4RZ\\x8a\\xf80]\\x8eXGW!\\xd6\\xd3z\\xc4\\xd5t5\\xe2:\\xda\\x88\\xb8\\x99nFl\\xa2-\\x88\\xdb\\xe86\\xc4\\xedt/\\xe2S\\xf40b\\x1bmC|\\x95\\x9e@\\xec\\xa0\\xaf#\\xfe\\x9c\\xbe\\x83\\xf8.=\\x8bx\\x8e\\xa2n\\xf4\\x02\\xbd\\x80\\xf8\\t\\xfd\\x04\\xf1\\x8f\\xf4\\xcf\\x88_\\xd0nD\\t\\xddA\\x98\\xc0\\x04D/\\xe6\\x8d\\xe8\\xc3|\\x10}\\x19\\xfa\\x8ei\\x98\\x061\\x80\\x05#\\xde\\xcd\\xcc\\x88\\xf7\\xb3I\\x88\\x0f\\xb28\\xc4\\xa9,\\x1eq:C\\x7f\\xb1D6\\x0b1\\x89%!\\xceas\\x10\\xe7\\xb1\\x14\\xc4\\xf9\\x0c=\\xc0\\x16\\xb2lD+\\xcbE,`h;\\xb33|\\x1fg\\xc5\\xac\\x04\\xb1\\x9c\\x95#.eK\\x11k\\x18z\\x95\\xd5\\xb1\\xf5\\x88]\\xac\\x0b\\xd1\\xc5\\\\\\x98i\"\\x85\\x89\\xc0\\x84\\x18!\\t1C\\xb0!\\x16\\n\\x858^\"\\x94c{\\x99\\xb0\\x12\\xe3\\xea\\x8d\\x19Q\\x03\\xa31+F\\xf2\\xff\\x99\\x95c\\xc3\\xa3\\x8b\\xb6\\xd1\\x12\\xcf\\xaf\\x13gD\\x18\\x8c\\xadc@\\x14\\t}\\xbdv\\xecU\\xc8\\'\\x01\\xb3\\x9b\\xfc\\xd7\\x17\\xfe?\\xb7\\xd3\\x84xa\\xba0\\x03G\\x15\\xb2\\x06\\x80\\x1aL\\xc1v\\x86\\x90\\x01\\xc3\\x84\\x1c!\\x07|e\\xd9\\xaa\\x7f\\x01\\x01\\xde\\xff\\xee\\r\\nendstream\\r\\nendobj\\r\\n20 0 obj\\r\\n<</Type/Metadata/Subtype/XML/Length 3087>>\\r\\nstream\\r\\n<?xpacket begin=\"\\xef\\xbb\\xbf\" id=\"W5M0MpCehiHzreSzNTczkc9d\"?><x:xmpmeta xmlns:x=\"adobe:ns:meta/\" x:xmptk=\"3.1-701\">\\n<rdf:RDF xmlns:rdf=\"http://www.w3.org/1999/02/22-rdf-syntax-ns#\">\\n<rdf:Description rdf:about=\"\"  xmlns:pdf=\"http://ns.adobe.com/pdf/1.3/\">\\n<pdf:Producer>Microsoft\\xc2\\xae Word for Microsoft 365</pdf:Producer></rdf:Description>\\n<rdf:Description rdf:about=\"\"  xmlns:dc=\"http://purl.org/dc/elements/1.1/\">\\n<dc:creator><rdf:Seq><rdf:li>Meyer, Marc</rdf:li></rdf:Seq></dc:creator></rdf:Description>\\n<rdf:Description rdf:about=\"\"  xmlns:xmp=\"http://ns.adobe.com/xap/1.0/\">\\n<xmp:CreatorTool>Microsoft\\xc2\\xae Word for Microsoft 365</xmp:CreatorTool><xmp:CreateDate>2023-03-21T10:58:46+01:00</xmp:CreateDate><xmp:ModifyDate>2023-03-21T10:58:46+01:00</xmp:ModifyDate></rdf:Description>\\n<rdf:Description rdf:about=\"\"  xmlns:xmpMM=\"http://ns.adobe.com/xap/1.0/mm/\">\\n<xmpMM:DocumentID>uuid:F2D04464-B3E6-417E-B631-CA79EE4E21D9</xmpMM:DocumentID><xmpMM:InstanceID>uuid:F2D04464-B3E6-417E-B631-CA79EE4E21D9</xmpMM:InstanceID></rdf:Description>\\n                                                                                                    \\n                                                                                                    \\n                                                                                                    \\n                                                                                                    \\n                                                                                                    \\n                                                                                                    \\n                                                                                                    \\n                                                                                                    \\n                                                                                                    \\n                                                                                                    \\n                                                                                                    \\n                                                                                                    \\n                                                                                                    \\n                                                                                                    \\n                                                                                                    \\n                                                                                                    \\n                                                                                                    \\n                                                                                                    \\n                                                                                                    \\n                                                                                                    \\n</rdf:RDF></x:xmpmeta><?xpacket end=\"w\"?>\\r\\nendstream\\r\\nendobj\\r\\n21 0 obj\\r\\n<</DisplayDocTitle true>>\\r\\nendobj\\r\\n22 0 obj\\r\\n<</Type/XRef/Size 22/W[ 1 4 2] /Root 1 0 R/Info 9 0 R/ID[<6444D0F2E6B37E41B631CA79EE4E21D9><6444D0F2E6B37E41B631CA79EE4E21D9>] /Filter/FlateDecode/Length 87>>\\r\\nstream\\r\\nx\\x9cc`\\x00\\x82\\xff\\xff\\x19\\x81\\xa4 \\x03\\x03\\x88Z\\x06\\xa1\\xee\\x81)\\xc67`\\x8a\\xe9%\\x98b\\x9e\\x03\\xa6XfB\\xa8s`\\x8a\\x95\\x19(\\x0f\\xd6\\xce\\x04\\xa1\\x98!\\x14\\x0b\\x84b\\x85P\\x8c\\x10\\n\\xaa\\x92\\r\\xa8\\x8fM\\x1c\\xac\\x9d}1\\x98\\xe2(\\x01Sb\\x07\\xc1\\x94\\xb22\\x03\\x03\\x00\\xf2\\xde\\n\\x8a\\r\\nendstream\\r\\nendobj\\r\\nxref\\r\\n0 23\\r\\n0000000010 65535 f\\r\\n0000000017 00000 n\\r\\n0000000166 00000 n\\r\\n0000000222 00000 n\\r\\n0000000492 00000 n\\r\\n0000000745 00000 n\\r\\n0000000924 00000 n\\r\\n0000001177 00000 n\\r\\n0000001230 00000 n\\r\\n0000001283 00000 n\\r\\n0000000011 65535 f\\r\\n0000000012 65535 f\\r\\n0000000013 65535 f\\r\\n0000000014 65535 f\\r\\n0000000015 65535 f\\r\\n0000000016 65535 f\\r\\n0000000017 65535 f\\r\\n0000000000 65535 f\\r\\n0000001955 00000 n\\r\\n0000002164 00000 n\\r\\n0000005825 00000 n\\r\\n0000008995 00000 n\\r\\n0000009040 00000 n\\r\\ntrailer\\r\\n<</Size 23/Root 1 0 R/Info 9 0 R/ID[<6444D0F2E6B37E41B631CA79EE4E21D9><6444D0F2E6B37E41B631CA79EE4E21D9>] >>\\r\\nstartxref\\r\\n9326\\r\\n%%EOF\\r\\nxref\\r\\n0 0\\r\\ntrailer\\r\\n<</Size 23/Root 1 0 R/Info 9 0 R/ID[<6444D0F2E6B37E41B631CA79EE4E21D9><6444D0F2E6B37E41B631CA79EE4E21D9>] /Prev 9326/XRefStm 9040>>\\r\\nstartxref\\r\\n9941\\r\\n%%EOF'\n"
     ]
    }
   ],
   "source": [
    "import dataland_qa_lab.dataland.get_data as qa\n",
    "\n",
    "company_id = \"9f6f6cea-7316-4101-aba9-170023c811e8\"\n",
    "year = \"2020\"\n",
    "\n",
    "all_datasets = qa._get_all_company_datasets_(company_id=company_id)\n",
    "\n",
    "data_id = qa._get_data_id_by_year_(company_id=company_id, year=year)\n",
    "print(data_id)\n",
    "\n",
    "dataset_by_year = qa._get_dataset_by_year_(company_id=company_id, year=year)\n",
    "\n",
    "value1 = qa._get_value1_by_year_(company_id=company_id, year=year)\n",
    "print(value1)\n",
    "\n",
    "datasource_reference = qa._get_datasource_reference_(company_id=company_id, year=year)\n",
    "print(datasource_reference)"
   ]
  },
  {
   "cell_type": "markdown",
   "id": "c42cdbaa",
   "metadata": {},
   "source": [
    "## 2.Schritt: Laden aller Daten\n",
    "Hier werden die Daten von Dataland geladen und alle 6 Werte gesondert gespeichert."
   ]
  },
  {
   "cell_type": "markdown",
   "id": "a4031931",
   "metadata": {},
   "source": [
    "from dataland_qa_lab.utils import config\n",
    "\n",
    "conf = config.get_config()\n",
    "dataland_client = conf.dataland_client\n",
    "\n",
    "api = dataland_client.eu_taxonomy_nuclear_and_gas_api\n",
    "dataset = api.get_all_company_nuclear_and_gas_data(company_id=company_id)\n",
    "\n",
    "# Eintragen aus welcher Periode man das Dataset haben will -> In diesem Fall 2024\n",
    "data_id = \"test\"\n",
    "for t in range(len(dataset)):\n",
    "    if (dataset[t].meta_info.reporting_period == year):\n",
    "        data_id = dataset[t].meta_info.data_id\n",
    "        break\n",
    "\n",
    "data = dataland_client.eu_taxonomy_nuclear_and_gas_api.get_company_associated_nuclear_and_gas_data(data_id=data_id)\n",
    "\n",
    "wert1 = data.data.general.general.nuclear_energy_related_activities_section426\n",
    "wert2 = data.data.general.general.nuclear_energy_related_activities_section427\n",
    "wert3 = data.data.general.general.nuclear_energy_related_activities_section428\n",
    "wert4 = data.data.general.general.fossil_gas_related_activities_section429\n",
    "wert5 = data.data.general.general.fossil_gas_related_activities_section430\n",
    "wert6 = data.data.general.general.fossil_gas_related_activities_section431\n",
    "print(data)\n",
    "print(wert1)\n",
    "print(wert2)\n",
    "print(wert3)\n",
    "print(wert4)\n",
    "print(wert5)\n",
    "print(wert6)"
   ]
  },
  {
   "cell_type": "markdown",
   "id": "fe1a2009",
   "metadata": {},
   "source": [
    "## 3.Schritt: Datenquelle laden\n",
    "In diesem Fall wird die Dateireferenz von wert1 genutzt um das dazugehörige Dokument zu bekommen."
   ]
  },
  {
   "cell_type": "markdown",
   "id": "c9cf6625",
   "metadata": {},
   "source": []
  },
  {
   "cell_type": "markdown",
   "id": "13580b00",
   "metadata": {},
   "source": [
    "## 4.Schritt: Daten aus dem Dokument extrahieren und in Text umwandeln"
   ]
  },
  {
   "cell_type": "markdown",
   "id": "a9846d68",
   "metadata": {},
   "source": [
    "import io\n",
    "\n",
    "import pypdf\n",
    "\n",
    "full_document_byte_stream = io.BytesIO(document_bytes)\n",
    "full_pdf = pypdf.PdfReader(full_document_byte_stream)\n",
    "\n",
    "partial_document_byte_stream = io.BytesIO()\n",
    "partial_pdf = pypdf.PdfWriter()\n",
    "\n",
    "partial_pdf.add_page(full_pdf.get_page(int(wert1.data_source.page) - 1))  # Correct for 0 offset\n",
    "partial_pdf.write(partial_document_byte_stream)\n",
    "partial_document_byte_stream.seek(0)\n",
    "None"
   ]
  },
  {
   "cell_type": "markdown",
   "id": "2da4ca74",
   "metadata": {},
   "source": [
    "from azure.ai.documentintelligence import DocumentIntelligenceClient\n",
    "from azure.ai.documentintelligence.models import AnalyzeResult, ContentFormat\n",
    "from azure.core.credentials import AzureKeyCredential\n",
    "\n",
    "docintel_cred = AzureKeyCredential(conf.azure_docintel_api_key)\n",
    "document_intelligence_client = DocumentIntelligenceClient(\n",
    "    endpoint=conf.azure_docintel_endpoint, credential=docintel_cred\n",
    ")\n",
    "\n",
    "poller = document_intelligence_client.begin_analyze_document(\n",
    "    \"prebuilt-layout\",\n",
    "    analyze_request=partial_document_byte_stream,\n",
    "    content_type=\"application/octet-stream\",\n",
    "    output_content_format=ContentFormat.MARKDOWN,\n",
    ")\n",
    "result: AnalyzeResult = poller.result()"
   ]
  },
  {
   "cell_type": "markdown",
   "id": "4d28e7c3",
   "metadata": {},
   "source": [
    "#### Das Ergebnis wird als Markdown direkt im Notebook wiedergegeben"
   ]
  },
  {
   "cell_type": "markdown",
   "id": "f3ba48bf",
   "metadata": {},
   "source": [
    "from IPython.display import Markdown, display\n",
    "\n",
    "display(Markdown(result.content))"
   ]
  }
 ],
 "metadata": {
  "kernelspec": {
   "display_name": ".venv",
   "language": "python",
   "name": "python3"
  },
  "language_info": {
   "codemirror_mode": {
    "name": "ipython",
    "version": 3
   },
   "file_extension": ".py",
   "mimetype": "text/x-python",
   "name": "python",
   "nbconvert_exporter": "python",
   "pygments_lexer": "ipython3",
   "version": "3.12.3"
  }
 },
 "nbformat": 4,
 "nbformat_minor": 5
}
